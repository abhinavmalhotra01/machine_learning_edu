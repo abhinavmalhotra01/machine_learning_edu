{
 "cells": [
  {
   "cell_type": "code",
   "execution_count": null,
   "metadata": {},
   "outputs": [],
   "source": [
    "# R-squared \n",
    " \n",
    "                # sum of sq of residuals (SSre) -> sum(Yactual - Ypred)^2\n",
    "                # sum of sq of totals (SStt) -> sum(Yactual - Yavg)^2\n",
    "                # R-sq -> 1-(SSre/SStt) -> greater is better\n",
    "\n",
    "# Adjusted R-sq\n",
    "                # adjusted R-sq -> 1-(1-R^2)*(n-1/n-p-1)  \n",
    "                # n - sample size ; p - no of regressors \n",
    "                # this is a fair battle for insignificant variables \n",
    "\n",
    "# useful in back-elimin -> if asj Rsq is starts reducing -> dont remove that parameter"
   ]
  },
  {
   "cell_type": "code",
   "execution_count": null,
   "metadata": {},
   "outputs": [],
   "source": [
    "# take magnitude of effect features per unit (like m , km) -> coeff of each feature in summary functn "
   ]
  }
 ],
 "metadata": {
  "kernelspec": {
   "display_name": "Python 3",
   "language": "python",
   "name": "python3"
  },
  "language_info": {
   "name": "python",
   "version": "3.9.0 (tags/v3.9.0:9cf6752, Oct  5 2020, 15:34:40) [MSC v.1927 64 bit (AMD64)]"
  },
  "orig_nbformat": 4,
  "vscode": {
   "interpreter": {
    "hash": "7e9c6c43a2713b6365dddc039236b89e1dd7cbd434e42d06f7d1b4b9f30b320b"
   }
  }
 },
 "nbformat": 4,
 "nbformat_minor": 2
}
