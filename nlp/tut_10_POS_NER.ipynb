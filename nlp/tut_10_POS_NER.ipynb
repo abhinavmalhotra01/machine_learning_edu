{
  "nbformat": 4,
  "nbformat_minor": 0,
  "metadata": {
    "colab": {
      "provenance": []
    },
    "kernelspec": {
      "name": "python3",
      "display_name": "Python 3"
    },
    "language_info": {
      "name": "python"
    }
  },
  "cells": [
    {
      "cell_type": "code",
      "execution_count": 1,
      "metadata": {
        "id": "eEQuvW-c4skp"
      },
      "outputs": [],
      "source": [
        "import spacy"
      ]
    },
    {
      "cell_type": "code",
      "source": [
        "nlp = spacy.load(\"en_core_web_sm\")\n",
        "nlp.pipe_names"
      ],
      "metadata": {
        "colab": {
          "base_uri": "https://localhost:8080/"
        },
        "id": "neRTupdc4wu_",
        "outputId": "87417784-d2fc-4d42-aeaf-bd0e2db6fb9f"
      },
      "execution_count": 3,
      "outputs": [
        {
          "output_type": "execute_result",
          "data": {
            "text/plain": [
              "['tok2vec', 'tagger', 'parser', 'attribute_ruler', 'lemmatizer', 'ner']"
            ]
          },
          "metadata": {},
          "execution_count": 3
        }
      ]
    },
    {
      "cell_type": "code",
      "source": [
        "# each word/token in sentences -> has Grammer meaning -> noun,pronoun,adverb,verb,adjective ....\n"
      ],
      "metadata": {
        "id": "1XBmZFiM45q_"
      },
      "execution_count": 4,
      "outputs": []
    },
    {
      "cell_type": "code",
      "source": [
        "# adverb -> describes verb ; interjection -> emotion ; conjunction -> connecting 2 sentences ; preposition -> links noun to other words ( example -> in , on , at) ; "
      ],
      "metadata": {
        "id": "dasYLpdZ5IZ-"
      },
      "execution_count": 5,
      "outputs": []
    },
    {
      "cell_type": "code",
      "source": [
        "doc = nlp(\"Great! Zoro injured the ice-ice fruit girl and is going after king now\")\n",
        "\n",
        "for token in doc :\n",
        "  print(token , \" | \" , token.pos_ , \" | \" , spacy.explain(token.pos_) , \" | \", token.pos, \" | \", token.tag_ , \" | \",spacy.explain(token.tag_))"
      ],
      "metadata": {
        "colab": {
          "base_uri": "https://localhost:8080/"
        },
        "id": "o4ISvxdu5hQf",
        "outputId": "88b827f2-b539-4019-a0d5-7eaec2c46186"
      },
      "execution_count": 13,
      "outputs": [
        {
          "output_type": "stream",
          "name": "stdout",
          "text": [
            "Great  |  ADJ  |  adjective  |  84  |  JJ  |  adjective (English), other noun-modifier (Chinese)\n",
            "!  |  PUNCT  |  punctuation  |  97  |  .  |  punctuation mark, sentence closer\n",
            "Zoro  |  PROPN  |  proper noun  |  96  |  NNP  |  noun, proper singular\n",
            "injured  |  VERB  |  verb  |  100  |  VBD  |  verb, past tense\n",
            "the  |  DET  |  determiner  |  90  |  DT  |  determiner\n",
            "ice  |  NOUN  |  noun  |  92  |  NN  |  noun, singular or mass\n",
            "-  |  PUNCT  |  punctuation  |  97  |  HYPH  |  punctuation mark, hyphen\n",
            "ice  |  NOUN  |  noun  |  92  |  NN  |  noun, singular or mass\n",
            "fruit  |  NOUN  |  noun  |  92  |  NN  |  noun, singular or mass\n",
            "girl  |  NOUN  |  noun  |  92  |  NN  |  noun, singular or mass\n",
            "and  |  CCONJ  |  coordinating conjunction  |  89  |  CC  |  conjunction, coordinating\n",
            "is  |  AUX  |  auxiliary  |  87  |  VBZ  |  verb, 3rd person singular present\n",
            "going  |  VERB  |  verb  |  100  |  VBG  |  verb, gerund or present participle\n",
            "after  |  ADP  |  adposition  |  85  |  IN  |  conjunction, subordinating or preposition\n",
            "king  |  NOUN  |  noun  |  92  |  NN  |  noun, singular or mass\n",
            "now  |  ADV  |  adverb  |  86  |  RB  |  adverb\n"
          ]
        }
      ]
    },
    {
      "cell_type": "code",
      "source": [
        "# pos_ printed part of speech imp of each token , token.pos will print hash number of each token"
      ],
      "metadata": {
        "id": "HJPZPK4N6BQx"
      },
      "execution_count": 7,
      "outputs": []
    },
    {
      "cell_type": "code",
      "source": [
        "# tag_ -> further categorization of pos ; little more details than pos "
      ],
      "metadata": {
        "id": "OcElQ0tm6KHP"
      },
      "execution_count": 14,
      "outputs": []
    },
    {
      "cell_type": "code",
      "source": [
        "# lets say , i want to remove punctuation \n",
        "doc = nlp(\"Great! Zoro injured the ice-ice fruit girl and is going after king now\")\n",
        "punct_tokens = []\n",
        "for token in doc :\n",
        "  if token.pos_ not in [\"SPACE\",\"X\",\"PUNCT\"] :\n",
        "    print(token , \" | \" , token.pos_ , \" | \" , spacy.explain(token.pos_) , \" | \", token.pos, \" | \", token.tag_ , \" | \",spacy.explain(token.tag_))\n",
        "  else :\n",
        "    punct_tokens.append(token)\n",
        "print(\"\")\n",
        "print(\"PUNCT Tokens are : \")\n",
        "print(punct_tokens)"
      ],
      "metadata": {
        "colab": {
          "base_uri": "https://localhost:8080/"
        },
        "id": "czQNFT2R67Ec",
        "outputId": "6ff4b2bb-cd68-4ab5-98c6-caa922f5fc68"
      },
      "execution_count": 20,
      "outputs": [
        {
          "output_type": "stream",
          "name": "stdout",
          "text": [
            "Great  |  ADJ  |  adjective  |  84  |  JJ  |  adjective (English), other noun-modifier (Chinese)\n",
            "Zoro  |  PROPN  |  proper noun  |  96  |  NNP  |  noun, proper singular\n",
            "injured  |  VERB  |  verb  |  100  |  VBD  |  verb, past tense\n",
            "the  |  DET  |  determiner  |  90  |  DT  |  determiner\n",
            "ice  |  NOUN  |  noun  |  92  |  NN  |  noun, singular or mass\n",
            "ice  |  NOUN  |  noun  |  92  |  NN  |  noun, singular or mass\n",
            "fruit  |  NOUN  |  noun  |  92  |  NN  |  noun, singular or mass\n",
            "girl  |  NOUN  |  noun  |  92  |  NN  |  noun, singular or mass\n",
            "and  |  CCONJ  |  coordinating conjunction  |  89  |  CC  |  conjunction, coordinating\n",
            "is  |  AUX  |  auxiliary  |  87  |  VBZ  |  verb, 3rd person singular present\n",
            "going  |  VERB  |  verb  |  100  |  VBG  |  verb, gerund or present participle\n",
            "after  |  ADP  |  adposition  |  85  |  IN  |  conjunction, subordinating or preposition\n",
            "king  |  NOUN  |  noun  |  92  |  NN  |  noun, singular or mass\n",
            "now  |  ADV  |  adverb  |  86  |  RB  |  adverb\n",
            "\n",
            "PUNCT Tokens are : \n",
            "[!, -]\n"
          ]
        }
      ]
    },
    {
      "cell_type": "markdown",
      "source": [
        "Smol Exercise"
      ],
      "metadata": {
        "id": "uJ-Vxus68bAP"
      }
    },
    {
      "cell_type": "code",
      "source": [
        "text = ''' Inflation rose again in April, continuing a climb that has pushed consumers to the brink and is threatening the economic expansion, the Bureau of Labor Statistics reported Wednesday.\n",
        "\n",
        "The consumer price index, a broad-based measure of prices for goods and services, increased 8.3% from a year ago, higher than the Dow Jones estimate for an 8.1% gain. That represented a slight ease from March’s peak but was still close to the highest level since the summer of 1982.\n",
        "\n",
        "Removing volatile food and energy prices, so-called core CPI still rose 6.2%, against expectations for a 6% gain, clouding hopes that inflation had peaked in March.\n",
        "\n",
        "The month-over-month gains also were higher than expectations — 0.3% on headline CPI versus the 0.2% estimate and a 0.6% increase for core, against the outlook for a 0.4% gain.\n",
        "\n",
        "The price gains also meant that workers continued to lose ground. Real wages adjusted for inflation decreased 0.1% on the month despite a nominal increase of 0.3% in average hourly earnings. Over the past year, real earnings have dropped 2.6% even though average hourly earnings are up 5.5%.\n",
        "\n",
        "Inflation has been the single biggest threat to a recovery that began early in the Covid pandemic and saw the economy in 2021 stage its biggest single-year growth level since 1984. Rising prices at the pump and in grocery stores have been one problem, but inflation has spread beyond those two areas into housing, auto sales and a host of other areas.\n",
        "\n",
        "Federal Reserve officials have responded to the problem with two interest rate hikes so far this year and pledges of more until inflation comes down to the central bank’s 2% goal. However, Wednesday’s data shows that the Fed has a big job ahead. '''"
      ],
      "metadata": {
        "id": "UBDSvRCM8cht"
      },
      "execution_count": 22,
      "outputs": []
    },
    {
      "cell_type": "code",
      "source": [
        "doc = nlp(text)\n",
        "all_nouns = []\n",
        "all_nums = []\n",
        "for token in doc:\n",
        "  if token.pos_ in [\"NOUN\"] :\n",
        "    all_nouns.append(token)\n",
        "  elif token.pos_ == \"NUM\":\n",
        "    all_nums.append(token)\n",
        "print(all_nouns)\n",
        "print(all_nums)"
      ],
      "metadata": {
        "colab": {
          "base_uri": "https://localhost:8080/"
        },
        "id": "SxBOso-P8mWP",
        "outputId": "27337f68-04dc-47f6-b5ff-9b70d0d29a39"
      },
      "execution_count": 30,
      "outputs": [
        {
          "output_type": "stream",
          "name": "stdout",
          "text": [
            "[Inflation, climb, consumers, brink, expansion, consumer, price, index, measure, prices, goods, services, %, year, estimate, %, gain, ease, peak, level, summer, food, energy, prices, core, %, expectations, %, gain, hopes, inflation, month, month, gains, expectations, %, headline, %, estimate, %, increase, core, outlook, %, gain, price, gains, workers, ground, wages, inflation, %, month, increase, %, earnings, year, earnings, %, earnings, %, Inflation, threat, recovery, pandemic, economy, stage, year, growth, level, prices, pump, grocery, stores, problem, inflation, areas, housing, auto, sales, host, areas, officials, problem, interest, rate, hikes, year, pledges, inflation, bank, %, goal, data, job]\n",
            "[8.3, 8.1, 1982, 6.2, 6, 0.3, 0.2, 0.6, 0.4, 0.1, 0.3, 2.6, 5.5, 2021, 1984, one, two, two, 2]\n"
          ]
        }
      ]
    },
    {
      "cell_type": "code",
      "source": [
        "count = doc.count_by(spacy.attrs.POS)\n",
        "count"
      ],
      "metadata": {
        "colab": {
          "base_uri": "https://localhost:8080/"
        },
        "id": "kE01sEDo9Egl",
        "outputId": "b2e83b83-f3ad-40b3-c21f-9677f2798fd2"
      },
      "execution_count": 34,
      "outputs": [
        {
          "output_type": "execute_result",
          "data": {
            "text/plain": [
              "{103: 7,\n",
              " 92: 95,\n",
              " 100: 27,\n",
              " 86: 15,\n",
              " 85: 39,\n",
              " 96: 16,\n",
              " 97: 31,\n",
              " 90: 34,\n",
              " 95: 4,\n",
              " 87: 13,\n",
              " 89: 10,\n",
              " 84: 23,\n",
              " 93: 19,\n",
              " 94: 4,\n",
              " 98: 8}"
            ]
          },
          "metadata": {},
          "execution_count": 34
        }
      ]
    },
    {
      "cell_type": "code",
      "source": [
        "for k,v in count.items() :\n",
        "  print(doc.vocab[k].text , \" | \",v)"
      ],
      "metadata": {
        "colab": {
          "base_uri": "https://localhost:8080/"
        },
        "id": "Inj3mNLd9qhq",
        "outputId": "01eba88f-ba42-4e6b-8195-b524737c2ed4"
      },
      "execution_count": 36,
      "outputs": [
        {
          "output_type": "stream",
          "name": "stdout",
          "text": [
            "SPACE  |  7\n",
            "NOUN  |  95\n",
            "VERB  |  27\n",
            "ADV  |  15\n",
            "ADP  |  39\n",
            "PROPN  |  16\n",
            "PUNCT  |  31\n",
            "DET  |  34\n",
            "PRON  |  4\n",
            "AUX  |  13\n",
            "CCONJ  |  10\n",
            "ADJ  |  23\n",
            "NUM  |  19\n",
            "PART  |  4\n",
            "SCONJ  |  8\n"
          ]
        }
      ]
    },
    {
      "cell_type": "markdown",
      "source": [
        "Named Entity Recognition "
      ],
      "metadata": {
        "id": "bhezzgw2-mda"
      }
    },
    {
      "cell_type": "code",
      "source": [
        "# uses of NER :\n",
        "\n",
        "# try to extract differ entities ; example -> Tesla is company as well as Tesla can be a name ( Nikola tesla) ; in such cases ner\n",
        "# recommendations -> similar entities will be recommended to me ; lets say i watch marvel , it will show me more movies from same company\n",
        "# classification\n",
        "# etc"
      ],
      "metadata": {
        "id": "gpNvGUIi-M3C"
      },
      "execution_count": null,
      "outputs": []
    },
    {
      "cell_type": "code",
      "source": [
        "doc = nlp(\"Zoro injured the ice-ice fruit girl and is going after king now\")\n",
        "for ent in doc.ents :\n",
        "  print(ent.text , \" | \" , ent.label_ , \" | \" , spacy.explain(ent.label_))\n"
      ],
      "metadata": {
        "colab": {
          "base_uri": "https://localhost:8080/"
        },
        "id": "sUJbmwzdAEml",
        "outputId": "065605ca-439c-4635-f904-7072da0cf7f4"
      },
      "execution_count": 39,
      "outputs": [
        {
          "output_type": "stream",
          "name": "stdout",
          "text": [
            "Zoro  |  ORG  |  Companies, agencies, institutions, etc.\n"
          ]
        }
      ]
    },
    {
      "cell_type": "code",
      "source": [
        "# spacy failed above :/\n",
        "\n",
        "from spacy import displacy \n",
        "displacy.render(doc,style=\"ent\")"
      ],
      "metadata": {
        "colab": {
          "base_uri": "https://localhost:8080/",
          "height": 122
        },
        "id": "nstyyCarAh1g",
        "outputId": "aaaca2e6-7b80-4ae7-c0f7-976a78c8476f"
      },
      "execution_count": 40,
      "outputs": [
        {
          "output_type": "execute_result",
          "data": {
            "text/plain": [
              "'<div class=\"entities\" style=\"line-height: 2.5; direction: ltr\">\\n<mark class=\"entity\" style=\"background: #7aecec; padding: 0.45em 0.6em; margin: 0 0.25em; line-height: 1; border-radius: 0.35em;\">\\n    Zoro\\n    <span style=\"font-size: 0.8em; font-weight: bold; line-height: 1; border-radius: 0.35em; vertical-align: middle; margin-left: 0.5rem\">ORG</span>\\n</mark>\\n injured the ice-ice fruit girl and is going after king now</div>'"
            ],
            "application/vnd.google.colaboratory.intrinsic+json": {
              "type": "string"
            }
          },
          "metadata": {},
          "execution_count": 40
        }
      ]
    },
    {
      "cell_type": "code",
      "source": [
        "# spacy  ner not good :/\n",
        "\n",
        "# differ model -> hugging-face-ner\n",
        "\n",
        "# custom entity \n",
        "\n",
        "# span -> class in spacy -> substring of tokens \n",
        "\n",
        "from spacy.tokens import Span \n",
        "\n",
        "s1 = Span(doc , 0, 1 , label=\"PERSON\")\n",
        "doc.set_ents([s1],default=\"unmodified\")\n",
        "for ent in doc.ents :\n",
        "  print(ent.text , \" | \" , ent.label_ , \" | \" , spacy.explain(ent.label_))"
      ],
      "metadata": {
        "colab": {
          "base_uri": "https://localhost:8080/"
        },
        "id": "iS1Z8iNGAvVP",
        "outputId": "eea31dde-6053-4ee7-d2af-8fb5b35b06d3"
      },
      "execution_count": 43,
      "outputs": [
        {
          "output_type": "stream",
          "name": "stdout",
          "text": [
            "Zoro  |  PERSON  |  People, including fictional\n"
          ]
        }
      ]
    },
    {
      "cell_type": "code",
      "source": [
        "# entity-ruler => specify pattern ( rules for ner )"
      ],
      "metadata": {
        "id": "yVG9SALVB5kH"
      },
      "execution_count": null,
      "outputs": []
    },
    {
      "cell_type": "markdown",
      "source": [
        "Smol Exercise"
      ],
      "metadata": {
        "id": "QmdBEa_pCbk2"
      }
    },
    {
      "cell_type": "code",
      "source": [
        "# q1 -> Extract all the Geographical (cities, Countries, states) names from a given text"
      ],
      "metadata": {
        "id": "39YjW1nXEI2O"
      },
      "execution_count": null,
      "outputs": []
    },
    {
      "cell_type": "code",
      "source": [
        "text = \"\"\"Kiran want to know the famous foods in each state of India. So, he opened Google and search for this question. Google showed that\n",
        "in Delhi it is Chaat, in Gujarat it is Dal Dhokli, in Tamilnadu it is Pongal, in Andhrapradesh it is Biryani, in Assam it is Papaya Khar,\n",
        "in Bihar it is Litti Chowkha and so on for all other states\"\"\"\n",
        "\n",
        "doc = nlp(text)\n",
        "\n",
        "for ent in doc.ents :\n",
        "  print(ent.text , \" | \" , ent.label_ , \" | \" , spacy.explain(ent.label_))\n"
      ],
      "metadata": {
        "colab": {
          "base_uri": "https://localhost:8080/"
        },
        "id": "_wfekx0SCdjv",
        "outputId": "94ba4725-4b2c-4335-e0ed-022e38ba5da5"
      },
      "execution_count": 44,
      "outputs": [
        {
          "output_type": "stream",
          "name": "stdout",
          "text": [
            "Kiran  |  ORG  |  Companies, agencies, institutions, etc.\n",
            "India  |  GPE  |  Countries, cities, states\n",
            "Google  |  ORG  |  Companies, agencies, institutions, etc.\n",
            "Google  |  ORG  |  Companies, agencies, institutions, etc.\n",
            "Delhi  |  GPE  |  Countries, cities, states\n",
            "Chaat  |  ORG  |  Companies, agencies, institutions, etc.\n",
            "Gujarat  |  GPE  |  Countries, cities, states\n",
            "Dal Dhokli  |  PERSON  |  People, including fictional\n",
            "Tamilnadu  |  GPE  |  Countries, cities, states\n",
            "Pongal  |  GPE  |  Countries, cities, states\n",
            "Andhrapradesh  |  GPE  |  Countries, cities, states\n",
            "Biryani  |  PERSON  |  People, including fictional\n",
            "Assam  |  GPE  |  Countries, cities, states\n",
            "Papaya Khar  |  PERSON  |  People, including fictional\n",
            "Bihar  |  GPE  |  Countries, cities, states\n",
            "Litti Chowkha  |  PERSON  |  People, including fictional\n"
          ]
        }
      ]
    },
    {
      "cell_type": "code",
      "source": [
        "# need to extract GPE from text\n",
        "location_names = []\n",
        "for ent in doc.ents :\n",
        "  if(ent.label_ == \"GPE\"):\n",
        "    location_names.append(ent.text)\n",
        "print(location_names)"
      ],
      "metadata": {
        "colab": {
          "base_uri": "https://localhost:8080/"
        },
        "id": "c5oYqLYYClm7",
        "outputId": "4e20d0b7-3ad5-43f9-c80c-b7ee2f6d82d7"
      },
      "execution_count": 45,
      "outputs": [
        {
          "output_type": "stream",
          "name": "stdout",
          "text": [
            "['India', 'Delhi', 'Gujarat', 'Tamilnadu', 'Pongal', 'Andhrapradesh', 'Assam', 'Bihar']\n"
          ]
        }
      ]
    },
    {
      "cell_type": "code",
      "source": [
        "# wrong output on Pongal -> lets custom change the entity of pongal\n",
        "s1 = Span(doc,45,46 , label=\"FESTIVAL\")\n",
        "print(s1)\n",
        "doc.set_ents([s1],default=\"unmodified\")"
      ],
      "metadata": {
        "colab": {
          "base_uri": "https://localhost:8080/"
        },
        "id": "_ncOw6w4C8G6",
        "outputId": "72ad719f-7702-48a2-e3d9-33f52f2f4e26"
      },
      "execution_count": 55,
      "outputs": [
        {
          "output_type": "stream",
          "name": "stdout",
          "text": [
            "Pongal\n"
          ]
        }
      ]
    },
    {
      "cell_type": "code",
      "source": [
        "location_names = []\n",
        "for ent in doc.ents :\n",
        "  if(ent.label_ == \"GPE\"):\n",
        "    location_names.append(ent.text)\n",
        "print(location_names)"
      ],
      "metadata": {
        "colab": {
          "base_uri": "https://localhost:8080/"
        },
        "id": "TvDVmTbXDamm",
        "outputId": "f7f70b8f-e79a-4bd7-8b5d-b80cc68ba436"
      },
      "execution_count": 56,
      "outputs": [
        {
          "output_type": "stream",
          "name": "stdout",
          "text": [
            "['India', 'Delhi', 'Gujarat', 'Tamilnadu', 'Andhrapradesh', 'Assam', 'Bihar']\n"
          ]
        }
      ]
    },
    {
      "cell_type": "code",
      "source": [
        "# removed pongal\n",
        "count = len(location_names)\n",
        "count"
      ],
      "metadata": {
        "colab": {
          "base_uri": "https://localhost:8080/"
        },
        "id": "8xxLB6F6DcQw",
        "outputId": "d87941bb-c2ba-4190-a6c5-cb6d4c388cf2"
      },
      "execution_count": 57,
      "outputs": [
        {
          "output_type": "execute_result",
          "data": {
            "text/plain": [
              "7"
            ]
          },
          "metadata": {},
          "execution_count": 57
        }
      ]
    },
    {
      "cell_type": "code",
      "source": [
        "# q2 -> Extract all the birth dates of cricketers in the given Text"
      ],
      "metadata": {
        "id": "HbDsuWA5DqAi"
      },
      "execution_count": 58,
      "outputs": []
    },
    {
      "cell_type": "code",
      "source": [
        "text = \"\"\"Sachin Tendulkar was born on 24 April 1973, Virat Kholi was born on 5 November 1988, Dhoni was born on 7 July 1981\n",
        "and finally Ricky ponting was born on 19 December 1974.\"\"\"\n",
        "\n",
        "doc = nlp(text)"
      ],
      "metadata": {
        "id": "rLW017UMDryt"
      },
      "execution_count": 59,
      "outputs": []
    },
    {
      "cell_type": "code",
      "source": [
        "for ent in doc.ents :\n",
        "  print(ent.text , \" | \" , ent.label_ , \" | \" , spacy.explain(ent.label_))"
      ],
      "metadata": {
        "colab": {
          "base_uri": "https://localhost:8080/"
        },
        "id": "pUP6b7TnDysG",
        "outputId": "23c52fd8-323a-4321-fd4e-84becadccdc6"
      },
      "execution_count": 60,
      "outputs": [
        {
          "output_type": "stream",
          "name": "stdout",
          "text": [
            "Sachin Tendulkar  |  PERSON  |  People, including fictional\n",
            "24 April 1973  |  DATE  |  Absolute or relative dates or periods\n",
            "Virat Kholi  |  LOC  |  Non-GPE locations, mountain ranges, bodies of water\n",
            "5 November 1988  |  DATE  |  Absolute or relative dates or periods\n",
            "Dhoni  |  PERSON  |  People, including fictional\n",
            "7 July 1981  |  DATE  |  Absolute or relative dates or periods\n",
            "Ricky  |  PERSON  |  People, including fictional\n",
            "19 December 1974  |  DATE  |  Absolute or relative dates or periods\n"
          ]
        }
      ]
    },
    {
      "cell_type": "code",
      "source": [
        "birthdays = []\n",
        "for ent in doc.ents :\n",
        "  if ent.label_ == \"DATE\" :\n",
        "    birthdays.append(ent.text)\n",
        "\n",
        "print(birthdays)"
      ],
      "metadata": {
        "colab": {
          "base_uri": "https://localhost:8080/"
        },
        "id": "xEO-dEAaD16g",
        "outputId": "e6f371ba-ad8a-401c-f8ff-3189c5c17bf8"
      },
      "execution_count": 61,
      "outputs": [
        {
          "output_type": "stream",
          "name": "stdout",
          "text": [
            "['24 April 1973', '5 November 1988', '7 July 1981', '19 December 1974']\n"
          ]
        }
      ]
    },
    {
      "cell_type": "code",
      "source": [
        "count = len(birthdays)\n",
        "count"
      ],
      "metadata": {
        "colab": {
          "base_uri": "https://localhost:8080/"
        },
        "id": "izcFWRx9EBhj",
        "outputId": "801b8a7f-e70f-40e8-fb19-f2d73cac8df3"
      },
      "execution_count": 62,
      "outputs": [
        {
          "output_type": "execute_result",
          "data": {
            "text/plain": [
              "4"
            ]
          },
          "metadata": {},
          "execution_count": 62
        }
      ]
    },
    {
      "cell_type": "code",
      "source": [],
      "metadata": {
        "id": "e1teLWFYEDJ6"
      },
      "execution_count": null,
      "outputs": []
    }
  ]
}