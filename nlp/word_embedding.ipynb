{
  "nbformat": 4,
  "nbformat_minor": 0,
  "metadata": {
    "colab": {
      "provenance": []
    },
    "kernelspec": {
      "name": "python3",
      "display_name": "Python 3"
    },
    "language_info": {
      "name": "python"
    }
  },
  "cells": [
    {
      "cell_type": "code",
      "execution_count": null,
      "metadata": {
        "id": "v4pcycxOn1hh"
      },
      "outputs": [],
      "source": [
        "# creating vocabulary consumes space\n",
        "# similar sentences might have very differr vectors \n",
        "\n",
        "# word embedding adress the above 2 shortcomings"
      ]
    },
    {
      "cell_type": "code",
      "source": [
        "# techniques ->\n",
        "\n",
        "# word2vec         GloVe            fastText\n",
        "# BERT             GPT\n",
        "# ELMo"
      ],
      "metadata": {
        "id": "esNvlRiUoNED"
      },
      "execution_count": null,
      "outputs": []
    },
    {
      "cell_type": "code",
      "source": [
        "# word2vec -> airthmetic on words : eg- King-man+woman = queen \n",
        "# vector for each word using differ attributes\n",
        "# cbow , skipgram \n",
        "# technique used on differ datasets\n",
        "# BERT -> differ variations "
      ],
      "metadata": {
        "id": "uaV0AChpovGK"
      },
      "execution_count": null,
      "outputs": []
    },
    {
      "cell_type": "code",
      "source": [
        "# whole idea of all techniques is to convert word to vectors\n",
        "# or convert sentence to vector OR paragraph to vector"
      ],
      "metadata": {
        "id": "59POIc7JtZZt"
      },
      "execution_count": null,
      "outputs": []
    },
    {
      "cell_type": "code",
      "source": [
        "import spacy.cli\n",
        "spacy.cli.download(\"en_core_web_lg\")"
      ],
      "metadata": {
        "id": "bzPHdjRbvO9O",
        "colab": {
          "base_uri": "https://localhost:8080/"
        },
        "outputId": "846d9ebb-851b-4998-d66d-e78b91630603"
      },
      "execution_count": null,
      "outputs": [
        {
          "output_type": "stream",
          "name": "stdout",
          "text": [
            "\u001b[38;5;2m✔ Download and installation successful\u001b[0m\n",
            "You can now load the package via spacy.load('en_core_web_lg')\n"
          ]
        }
      ]
    },
    {
      "cell_type": "code",
      "source": [
        "import spacy\n",
        "nlp = spacy.load(\"en_core_web_lg\")"
      ],
      "metadata": {
        "id": "4BFAKTd0tjh1"
      },
      "execution_count": null,
      "outputs": []
    },
    {
      "cell_type": "code",
      "source": [
        "doc = nlp(\"dog cat banana sjchcgbxb\")\n",
        "for token in doc:\n",
        "  print(token.text,token.has_vector,token.is_oov)"
      ],
      "metadata": {
        "id": "KbeV_MjpuCLB",
        "colab": {
          "base_uri": "https://localhost:8080/"
        },
        "outputId": "e4f048d2-708b-483a-81d9-eea3b6796d82"
      },
      "execution_count": null,
      "outputs": [
        {
          "output_type": "stream",
          "name": "stdout",
          "text": [
            "dog True False\n",
            "cat True False\n",
            "banana True False\n",
            "sjchcgbxb False True\n"
          ]
        }
      ]
    },
    {
      "cell_type": "code",
      "source": [
        "# out of vocab (oov) is true for random word\n",
        "doc[0].vector"
      ],
      "metadata": {
        "id": "F5nu7ZERyz9H",
        "colab": {
          "base_uri": "https://localhost:8080/"
        },
        "outputId": "6c81d87f-f294-49fa-f276-2223fa4fa657"
      },
      "execution_count": null,
      "outputs": [
        {
          "output_type": "execute_result",
          "data": {
            "text/plain": [
              "array([ 1.2330e+00,  4.2963e+00, -7.9738e+00, -1.0121e+01,  1.8207e+00,\n",
              "        1.4098e+00, -4.5180e+00, -5.2261e+00, -2.9157e-01,  9.5234e-01,\n",
              "        6.9880e+00,  5.0637e+00, -5.5726e-03,  3.3395e+00,  6.4596e+00,\n",
              "       -6.3742e+00,  3.9045e-02, -3.9855e+00,  1.2085e+00, -1.3186e+00,\n",
              "       -4.8886e+00,  3.7066e+00, -2.8281e+00, -3.5447e+00,  7.6888e-01,\n",
              "        1.5016e+00, -4.3632e+00,  8.6480e+00, -5.9286e+00, -1.3055e+00,\n",
              "        8.3870e-01,  9.0137e-01, -1.7843e+00, -1.0148e+00,  2.7300e+00,\n",
              "       -6.9039e+00,  8.0413e-01,  7.4880e+00,  6.1078e+00, -4.2130e+00,\n",
              "       -1.5384e-01, -5.4995e+00,  1.0896e+01,  3.9278e+00, -1.3601e-01,\n",
              "        7.7732e-02,  3.2218e+00, -5.8777e+00,  6.1359e-01, -2.4287e+00,\n",
              "        6.2820e+00,  1.3461e+01,  4.3236e+00,  2.4266e+00, -2.6512e+00,\n",
              "        1.1577e+00,  5.0848e+00, -1.7058e+00,  3.3824e+00,  3.2850e+00,\n",
              "        1.0969e+00, -8.3711e+00, -1.5554e+00,  2.0296e+00, -2.6796e+00,\n",
              "       -6.9195e+00, -2.3386e+00, -1.9916e+00, -3.0450e+00,  2.4890e+00,\n",
              "        7.3247e+00,  1.3364e+00,  2.3828e-01,  8.4388e-02,  3.1480e+00,\n",
              "       -1.1128e+00, -3.5598e+00, -1.2115e-01, -2.0357e+00, -3.2731e+00,\n",
              "       -7.7205e+00,  4.0948e+00, -2.0732e+00,  2.0833e+00, -2.2803e+00,\n",
              "       -4.9850e+00,  9.7667e+00,  6.1779e+00, -1.0352e+01, -2.2268e+00,\n",
              "        2.5765e+00, -5.7440e+00,  5.5564e+00, -5.2735e+00,  3.0004e+00,\n",
              "       -4.2512e+00, -1.5682e+00,  2.2698e+00,  1.0491e+00, -9.0486e+00,\n",
              "        4.2936e+00,  1.8709e+00,  5.1985e+00, -1.3153e+00,  6.5224e+00,\n",
              "        4.0113e-01, -1.2583e+01,  3.6534e+00, -2.0961e+00,  1.0022e+00,\n",
              "       -1.7873e+00, -4.2555e+00,  7.7471e+00,  1.0173e+00,  3.1626e+00,\n",
              "        2.3558e+00,  3.3589e-01, -4.4178e+00,  5.0584e+00, -2.4118e+00,\n",
              "       -2.7445e+00,  3.4170e+00, -1.1574e+01, -2.6568e+00, -3.6933e+00,\n",
              "       -2.0398e+00,  5.0976e+00,  6.5249e+00,  3.3573e+00,  9.5334e-01,\n",
              "       -9.4430e-01, -9.4395e+00,  2.7867e+00, -1.7549e+00,  1.7287e+00,\n",
              "        3.4942e+00, -1.6883e+00, -3.5771e+00, -1.9013e+00,  2.2239e+00,\n",
              "       -5.4335e+00, -6.5724e+00, -6.7228e-01, -1.9748e+00, -3.1080e+00,\n",
              "       -1.8570e+00,  9.9496e-01,  8.9135e-01, -4.4254e+00,  3.3125e-01,\n",
              "        5.8815e+00,  1.9384e+00,  5.7294e-01, -2.8830e+00,  3.8087e+00,\n",
              "       -1.3095e+00,  5.9208e+00,  3.3620e+00,  3.3571e+00, -3.8807e-01,\n",
              "        9.0022e-01, -5.5742e+00, -4.2939e+00,  1.4992e+00, -4.7080e+00,\n",
              "       -2.9402e+00, -1.2259e+00,  3.0980e-01,  1.8858e+00, -1.9867e+00,\n",
              "       -2.3554e-01, -5.4535e-01, -2.1387e-01,  2.4797e+00,  5.9710e+00,\n",
              "       -7.1249e+00,  1.6257e+00, -1.5241e+00,  7.5974e-01,  1.4312e+00,\n",
              "        2.3641e+00, -3.5566e+00,  9.2066e-01,  4.4934e-01, -1.3233e+00,\n",
              "        3.1733e+00, -4.7059e+00, -1.2090e+01, -3.9241e-01, -6.8457e-01,\n",
              "       -3.6789e+00,  6.6279e+00, -2.9937e+00, -3.8361e+00,  1.3868e+00,\n",
              "       -4.9002e+00, -2.4299e+00,  6.4312e+00,  2.5056e+00, -4.5080e+00,\n",
              "       -5.1278e+00, -1.5585e+00, -3.0226e+00, -8.6811e-01, -1.1538e+00,\n",
              "       -1.0022e+00, -9.1651e-01, -4.7810e-01, -1.6084e+00, -2.7307e+00,\n",
              "        3.7080e+00,  7.7423e-01, -1.1085e+00, -6.8755e-01, -8.2901e+00,\n",
              "        3.2405e+00, -1.6108e-01, -6.2837e-01, -5.5960e+00, -4.4865e+00,\n",
              "        4.0115e-01, -3.7063e+00, -2.1704e+00,  4.0789e+00, -1.7973e+00,\n",
              "        8.9538e+00,  8.9421e-01, -4.8128e+00,  4.5367e+00, -3.2579e-01,\n",
              "       -5.2344e+00, -3.9766e+00, -2.1979e+00,  3.5699e+00,  1.4982e+00,\n",
              "        6.0972e+00, -1.9704e+00,  4.6522e+00, -3.7734e-01,  3.9101e-02,\n",
              "        2.5361e+00, -1.8096e+00,  8.7035e+00, -8.6372e+00, -3.5257e+00,\n",
              "        3.1034e+00,  3.2635e+00,  4.5437e+00, -5.7290e+00, -2.9141e-01,\n",
              "       -2.0011e+00,  8.5328e+00, -4.5064e+00, -4.8276e+00, -1.1786e+01,\n",
              "        3.5607e-01, -5.7115e+00,  6.3122e+00, -3.6650e+00,  3.3597e-01,\n",
              "        2.5017e+00, -3.5025e+00, -3.7891e+00, -3.1343e+00, -1.4429e+00,\n",
              "       -6.9119e+00, -2.6114e+00, -5.9757e-01,  3.7847e-01,  6.3187e+00,\n",
              "        2.8965e+00, -2.5397e+00,  1.8022e+00,  3.5486e+00,  4.4721e+00,\n",
              "       -4.8481e+00, -3.6252e+00,  4.0969e+00, -2.0081e+00, -2.0122e-01,\n",
              "        2.5244e+00, -6.8817e-01,  6.7184e-01, -7.0466e+00,  1.6641e+00,\n",
              "       -2.2308e+00, -3.8960e+00,  6.1320e+00, -8.0335e+00, -1.7130e+00,\n",
              "        2.5688e+00, -5.2547e+00,  6.9845e+00,  2.7835e-01, -6.4554e+00,\n",
              "       -2.1327e+00, -5.6515e+00,  1.1174e+01, -8.0568e+00,  5.7985e+00],\n",
              "      dtype=float32)"
            ]
          },
          "metadata": {},
          "execution_count": 8
        }
      ]
    },
    {
      "cell_type": "code",
      "source": [
        "doc[0].vector.shape"
      ],
      "metadata": {
        "id": "SdraIR2by_Fu",
        "colab": {
          "base_uri": "https://localhost:8080/"
        },
        "outputId": "c4680f39-70f3-4d0f-f5b0-ccc19fd7f86c"
      },
      "execution_count": null,
      "outputs": [
        {
          "output_type": "execute_result",
          "data": {
            "text/plain": [
              "(300,)"
            ]
          },
          "metadata": {},
          "execution_count": 9
        }
      ]
    },
    {
      "cell_type": "code",
      "source": [
        "base_token = nlp(\"bread\")\n",
        "base_token.vector.shape"
      ],
      "metadata": {
        "id": "lQBAikc4zBWT",
        "colab": {
          "base_uri": "https://localhost:8080/"
        },
        "outputId": "6674fe9a-20fe-4ee0-efec-b55e91791973"
      },
      "execution_count": null,
      "outputs": [
        {
          "output_type": "execute_result",
          "data": {
            "text/plain": [
              "(300,)"
            ]
          },
          "metadata": {},
          "execution_count": 10
        }
      ]
    },
    {
      "cell_type": "code",
      "source": [
        "doc = nlp(\"sandwich burger car tiger human wheat\")\n",
        "# similarity bw sandwich burger and bread should be high\n",
        "for token in doc :\n",
        "  print(f\"{token.text} <-> {base_token.text}:\" , token.similarity(base_token))"
      ],
      "metadata": {
        "id": "eTfW1TB2zeWB",
        "colab": {
          "base_uri": "https://localhost:8080/"
        },
        "outputId": "137760d3-ad81-4a72-d645-9320b16a19d7"
      },
      "execution_count": null,
      "outputs": [
        {
          "output_type": "stream",
          "name": "stdout",
          "text": [
            "sandwich <-> bread: 0.6341067010130894\n",
            "burger <-> bread: 0.47520687769584247\n",
            "car <-> bread: 0.06451533308853552\n",
            "tiger <-> bread: 0.04764611675903374\n",
            "human <-> bread: 0.2151154210812192\n",
            "wheat <-> bread: 0.6150360888607199\n"
          ]
        }
      ]
    },
    {
      "cell_type": "code",
      "source": [
        "# as get closer to 1 -> more similar \n",
        "# meaning of similarty -> words are used in similar context -> example : profit,loss\n",
        "def print_similarity(base_word,words_to_compare):\n",
        "  base_token = nlp(base_word)\n",
        "  doc = nlp(words_to_compare)\n",
        "  for token in doc:\n",
        "    print(f\"{token.text} <-> {base_token.text}:\" , token.similarity(base_token))"
      ],
      "metadata": {
        "id": "DpQOdMvvz7aL"
      },
      "execution_count": null,
      "outputs": []
    },
    {
      "cell_type": "code",
      "source": [
        "print_similarity(\"iphone\",\"apple ,samsung,youtube,cricket\")"
      ],
      "metadata": {
        "id": "3SyGw9eJ0sra",
        "colab": {
          "base_uri": "https://localhost:8080/"
        },
        "outputId": "6d2b8ab1-d75d-4023-a762-bf67f76809ce"
      },
      "execution_count": null,
      "outputs": [
        {
          "output_type": "stream",
          "name": "stdout",
          "text": [
            "apple <-> iphone: 0.4387907401919904\n",
            ", <-> iphone: 0.014359512873306524\n",
            "samsung <-> iphone: 0.670859081425417\n",
            ", <-> iphone: 0.014359512873306524\n",
            "youtube <-> iphone: 0.4309647385998661\n",
            ", <-> iphone: 0.014359512873306524\n",
            "cricket <-> iphone: 0.06341493830031358\n"
          ]
        }
      ]
    },
    {
      "cell_type": "code",
      "source": [
        "king = nlp.vocab[\"king\"].vector\n",
        "man = nlp.vocab[\"man\"].vector\n",
        "woman = nlp.vocab[\"woman\"].vector\n",
        "queen = nlp.vocab[\"queen\"].vector\n",
        "result = king - man + woman"
      ],
      "metadata": {
        "id": "CPFEeko90ydZ"
      },
      "execution_count": null,
      "outputs": []
    },
    {
      "cell_type": "code",
      "source": [
        "from sklearn.metrics.pairwise import cosine_similarity\n",
        "\n",
        "cosine_similarity([result], [queen])"
      ],
      "metadata": {
        "id": "Bv2zsV0NXP5y",
        "colab": {
          "base_uri": "https://localhost:8080/"
        },
        "outputId": "cd812a73-f5d4-4c41-dd04-4ce7901034d5"
      },
      "execution_count": null,
      "outputs": [
        {
          "output_type": "execute_result",
          "data": {
            "text/plain": [
              "array([[0.61780137]], dtype=float32)"
            ]
          },
          "metadata": {},
          "execution_count": 15
        }
      ]
    },
    {
      "cell_type": "code",
      "source": [
        "import pandas as pd\n",
        "df = pd.read_csv(\"fake_or_real_news.csv\",engine=\"python\",error_bad_lines=False)"
      ],
      "metadata": {
        "colab": {
          "base_uri": "https://localhost:8080/"
        },
        "id": "w5eeTRYYNx2N",
        "outputId": "4bad0e8f-aeb6-40a8-e734-561ea5715598"
      },
      "execution_count": null,
      "outputs": [
        {
          "output_type": "stream",
          "name": "stderr",
          "text": [
            "<ipython-input-19-c00b00b700c9>:2: FutureWarning: The error_bad_lines argument has been deprecated and will be removed in a future version. Use on_bad_lines in the future.\n",
            "\n",
            "\n",
            "  df = pd.read_csv(\"fake_or_real_news.csv\",engine=\"python\",error_bad_lines=False)\n"
          ]
        }
      ]
    },
    {
      "cell_type": "code",
      "source": [
        "df.head()"
      ],
      "metadata": {
        "colab": {
          "base_uri": "https://localhost:8080/",
          "height": 354
        },
        "id": "eF_6829rN_9e",
        "outputId": "0156f060-d682-4e91-dd9f-02a75a58d741"
      },
      "execution_count": null,
      "outputs": [
        {
          "output_type": "execute_result",
          "data": {
            "text/plain": [
              "   Unnamed: 0                                              title  \\\n",
              "0        8476                       You Can Smell Hillary’s Fear   \n",
              "1       10294  Watch The Exact Moment Paul Ryan Committed Pol...   \n",
              "2        3608        Kerry to go to Paris in gesture of sympathy   \n",
              "3       10142  Bernie supporters on Twitter erupt in anger ag...   \n",
              "4         875   The Battle of New York: Why This Primary Matters   \n",
              "\n",
              "                                                text label  \n",
              "0  Daniel Greenfield, a Shillman Journalism Fello...  FAKE  \n",
              "1  Google Pinterest Digg Linkedin Reddit Stumbleu...  FAKE  \n",
              "2  U.S. Secretary of State John F. Kerry said Mon...  REAL  \n",
              "3  — Kaydee King (@KaydeeKing) November 9, 2016 T...  FAKE  \n",
              "4  It's primary day in New York and front-runners...  REAL  "
            ],
            "text/html": [
              "\n",
              "  <div id=\"df-03eb8cd1-a5aa-4cc8-9a46-c241d22bd3eb\">\n",
              "    <div class=\"colab-df-container\">\n",
              "      <div>\n",
              "<style scoped>\n",
              "    .dataframe tbody tr th:only-of-type {\n",
              "        vertical-align: middle;\n",
              "    }\n",
              "\n",
              "    .dataframe tbody tr th {\n",
              "        vertical-align: top;\n",
              "    }\n",
              "\n",
              "    .dataframe thead th {\n",
              "        text-align: right;\n",
              "    }\n",
              "</style>\n",
              "<table border=\"1\" class=\"dataframe\">\n",
              "  <thead>\n",
              "    <tr style=\"text-align: right;\">\n",
              "      <th></th>\n",
              "      <th>Unnamed: 0</th>\n",
              "      <th>title</th>\n",
              "      <th>text</th>\n",
              "      <th>label</th>\n",
              "    </tr>\n",
              "  </thead>\n",
              "  <tbody>\n",
              "    <tr>\n",
              "      <th>0</th>\n",
              "      <td>8476</td>\n",
              "      <td>You Can Smell Hillary’s Fear</td>\n",
              "      <td>Daniel Greenfield, a Shillman Journalism Fello...</td>\n",
              "      <td>FAKE</td>\n",
              "    </tr>\n",
              "    <tr>\n",
              "      <th>1</th>\n",
              "      <td>10294</td>\n",
              "      <td>Watch The Exact Moment Paul Ryan Committed Pol...</td>\n",
              "      <td>Google Pinterest Digg Linkedin Reddit Stumbleu...</td>\n",
              "      <td>FAKE</td>\n",
              "    </tr>\n",
              "    <tr>\n",
              "      <th>2</th>\n",
              "      <td>3608</td>\n",
              "      <td>Kerry to go to Paris in gesture of sympathy</td>\n",
              "      <td>U.S. Secretary of State John F. Kerry said Mon...</td>\n",
              "      <td>REAL</td>\n",
              "    </tr>\n",
              "    <tr>\n",
              "      <th>3</th>\n",
              "      <td>10142</td>\n",
              "      <td>Bernie supporters on Twitter erupt in anger ag...</td>\n",
              "      <td>— Kaydee King (@KaydeeKing) November 9, 2016 T...</td>\n",
              "      <td>FAKE</td>\n",
              "    </tr>\n",
              "    <tr>\n",
              "      <th>4</th>\n",
              "      <td>875</td>\n",
              "      <td>The Battle of New York: Why This Primary Matters</td>\n",
              "      <td>It's primary day in New York and front-runners...</td>\n",
              "      <td>REAL</td>\n",
              "    </tr>\n",
              "  </tbody>\n",
              "</table>\n",
              "</div>\n",
              "      <button class=\"colab-df-convert\" onclick=\"convertToInteractive('df-03eb8cd1-a5aa-4cc8-9a46-c241d22bd3eb')\"\n",
              "              title=\"Convert this dataframe to an interactive table.\"\n",
              "              style=\"display:none;\">\n",
              "        \n",
              "  <svg xmlns=\"http://www.w3.org/2000/svg\" height=\"24px\"viewBox=\"0 0 24 24\"\n",
              "       width=\"24px\">\n",
              "    <path d=\"M0 0h24v24H0V0z\" fill=\"none\"/>\n",
              "    <path d=\"M18.56 5.44l.94 2.06.94-2.06 2.06-.94-2.06-.94-.94-2.06-.94 2.06-2.06.94zm-11 1L8.5 8.5l.94-2.06 2.06-.94-2.06-.94L8.5 2.5l-.94 2.06-2.06.94zm10 10l.94 2.06.94-2.06 2.06-.94-2.06-.94-.94-2.06-.94 2.06-2.06.94z\"/><path d=\"M17.41 7.96l-1.37-1.37c-.4-.4-.92-.59-1.43-.59-.52 0-1.04.2-1.43.59L10.3 9.45l-7.72 7.72c-.78.78-.78 2.05 0 2.83L4 21.41c.39.39.9.59 1.41.59.51 0 1.02-.2 1.41-.59l7.78-7.78 2.81-2.81c.8-.78.8-2.07 0-2.86zM5.41 20L4 18.59l7.72-7.72 1.47 1.35L5.41 20z\"/>\n",
              "  </svg>\n",
              "      </button>\n",
              "      \n",
              "  <style>\n",
              "    .colab-df-container {\n",
              "      display:flex;\n",
              "      flex-wrap:wrap;\n",
              "      gap: 12px;\n",
              "    }\n",
              "\n",
              "    .colab-df-convert {\n",
              "      background-color: #E8F0FE;\n",
              "      border: none;\n",
              "      border-radius: 50%;\n",
              "      cursor: pointer;\n",
              "      display: none;\n",
              "      fill: #1967D2;\n",
              "      height: 32px;\n",
              "      padding: 0 0 0 0;\n",
              "      width: 32px;\n",
              "    }\n",
              "\n",
              "    .colab-df-convert:hover {\n",
              "      background-color: #E2EBFA;\n",
              "      box-shadow: 0px 1px 2px rgba(60, 64, 67, 0.3), 0px 1px 3px 1px rgba(60, 64, 67, 0.15);\n",
              "      fill: #174EA6;\n",
              "    }\n",
              "\n",
              "    [theme=dark] .colab-df-convert {\n",
              "      background-color: #3B4455;\n",
              "      fill: #D2E3FC;\n",
              "    }\n",
              "\n",
              "    [theme=dark] .colab-df-convert:hover {\n",
              "      background-color: #434B5C;\n",
              "      box-shadow: 0px 1px 3px 1px rgba(0, 0, 0, 0.15);\n",
              "      filter: drop-shadow(0px 1px 2px rgba(0, 0, 0, 0.3));\n",
              "      fill: #FFFFFF;\n",
              "    }\n",
              "  </style>\n",
              "\n",
              "      <script>\n",
              "        const buttonEl =\n",
              "          document.querySelector('#df-03eb8cd1-a5aa-4cc8-9a46-c241d22bd3eb button.colab-df-convert');\n",
              "        buttonEl.style.display =\n",
              "          google.colab.kernel.accessAllowed ? 'block' : 'none';\n",
              "\n",
              "        async function convertToInteractive(key) {\n",
              "          const element = document.querySelector('#df-03eb8cd1-a5aa-4cc8-9a46-c241d22bd3eb');\n",
              "          const dataTable =\n",
              "            await google.colab.kernel.invokeFunction('convertToInteractive',\n",
              "                                                     [key], {});\n",
              "          if (!dataTable) return;\n",
              "\n",
              "          const docLinkHtml = 'Like what you see? Visit the ' +\n",
              "            '<a target=\"_blank\" href=https://colab.research.google.com/notebooks/data_table.ipynb>data table notebook</a>'\n",
              "            + ' to learn more about interactive tables.';\n",
              "          element.innerHTML = '';\n",
              "          dataTable['output_type'] = 'display_data';\n",
              "          await google.colab.output.renderOutput(dataTable, element);\n",
              "          const docLink = document.createElement('div');\n",
              "          docLink.innerHTML = docLinkHtml;\n",
              "          element.appendChild(docLink);\n",
              "        }\n",
              "      </script>\n",
              "    </div>\n",
              "  </div>\n",
              "  "
            ]
          },
          "metadata": {},
          "execution_count": 20
        }
      ]
    },
    {
      "cell_type": "code",
      "source": [
        "df_=df.drop(['title','Unnamed: 0'],axis=1)"
      ],
      "metadata": {
        "id": "mJXgXdFJO4va"
      },
      "execution_count": null,
      "outputs": []
    },
    {
      "cell_type": "code",
      "source": [
        "df_.shape"
      ],
      "metadata": {
        "colab": {
          "base_uri": "https://localhost:8080/"
        },
        "id": "NqtDjNN_O9_Z",
        "outputId": "90fe5a0f-b51b-4caa-ee0b-03ead007fdb8"
      },
      "execution_count": null,
      "outputs": [
        {
          "output_type": "execute_result",
          "data": {
            "text/plain": [
              "(6335, 3)"
            ]
          },
          "metadata": {},
          "execution_count": 30
        }
      ]
    },
    {
      "cell_type": "code",
      "source": [
        "df_.label.value_counts()"
      ],
      "metadata": {
        "colab": {
          "base_uri": "https://localhost:8080/"
        },
        "id": "ms6_xx-3PWHD",
        "outputId": "bf1be858-631d-4e7a-8faf-8e8c6f8e3ed1"
      },
      "execution_count": null,
      "outputs": [
        {
          "output_type": "execute_result",
          "data": {
            "text/plain": [
              "REAL    3171\n",
              "FAKE    3164\n",
              "Name: label, dtype: int64"
            ]
          },
          "metadata": {},
          "execution_count": 31
        }
      ]
    },
    {
      "cell_type": "code",
      "source": [
        "# balanced dataset\n",
        "df_['label_']=df_['label'].map({'FAKE':0,'REAL':1})"
      ],
      "metadata": {
        "id": "LmkTPfQIPa2n"
      },
      "execution_count": null,
      "outputs": []
    },
    {
      "cell_type": "code",
      "source": [
        "df_final=df_.drop(['label'],axis=1)"
      ],
      "metadata": {
        "id": "O_LDyNrkQbPO"
      },
      "execution_count": null,
      "outputs": []
    },
    {
      "cell_type": "code",
      "source": [
        "df_final.head()"
      ],
      "metadata": {
        "colab": {
          "base_uri": "https://localhost:8080/",
          "height": 206
        },
        "id": "b1AODKucQe_p",
        "outputId": "4aa03033-1318-49a5-8f9c-971c7d882a07"
      },
      "execution_count": null,
      "outputs": [
        {
          "output_type": "execute_result",
          "data": {
            "text/plain": [
              "                                                text  label_\n",
              "0  Daniel Greenfield, a Shillman Journalism Fello...       0\n",
              "1  Google Pinterest Digg Linkedin Reddit Stumbleu...       0\n",
              "2  U.S. Secretary of State John F. Kerry said Mon...       1\n",
              "3  — Kaydee King (@KaydeeKing) November 9, 2016 T...       0\n",
              "4  It's primary day in New York and front-runners...       1"
            ],
            "text/html": [
              "\n",
              "  <div id=\"df-928f5673-8af6-45d5-93c8-b91eb8384f11\">\n",
              "    <div class=\"colab-df-container\">\n",
              "      <div>\n",
              "<style scoped>\n",
              "    .dataframe tbody tr th:only-of-type {\n",
              "        vertical-align: middle;\n",
              "    }\n",
              "\n",
              "    .dataframe tbody tr th {\n",
              "        vertical-align: top;\n",
              "    }\n",
              "\n",
              "    .dataframe thead th {\n",
              "        text-align: right;\n",
              "    }\n",
              "</style>\n",
              "<table border=\"1\" class=\"dataframe\">\n",
              "  <thead>\n",
              "    <tr style=\"text-align: right;\">\n",
              "      <th></th>\n",
              "      <th>text</th>\n",
              "      <th>label_</th>\n",
              "    </tr>\n",
              "  </thead>\n",
              "  <tbody>\n",
              "    <tr>\n",
              "      <th>0</th>\n",
              "      <td>Daniel Greenfield, a Shillman Journalism Fello...</td>\n",
              "      <td>0</td>\n",
              "    </tr>\n",
              "    <tr>\n",
              "      <th>1</th>\n",
              "      <td>Google Pinterest Digg Linkedin Reddit Stumbleu...</td>\n",
              "      <td>0</td>\n",
              "    </tr>\n",
              "    <tr>\n",
              "      <th>2</th>\n",
              "      <td>U.S. Secretary of State John F. Kerry said Mon...</td>\n",
              "      <td>1</td>\n",
              "    </tr>\n",
              "    <tr>\n",
              "      <th>3</th>\n",
              "      <td>— Kaydee King (@KaydeeKing) November 9, 2016 T...</td>\n",
              "      <td>0</td>\n",
              "    </tr>\n",
              "    <tr>\n",
              "      <th>4</th>\n",
              "      <td>It's primary day in New York and front-runners...</td>\n",
              "      <td>1</td>\n",
              "    </tr>\n",
              "  </tbody>\n",
              "</table>\n",
              "</div>\n",
              "      <button class=\"colab-df-convert\" onclick=\"convertToInteractive('df-928f5673-8af6-45d5-93c8-b91eb8384f11')\"\n",
              "              title=\"Convert this dataframe to an interactive table.\"\n",
              "              style=\"display:none;\">\n",
              "        \n",
              "  <svg xmlns=\"http://www.w3.org/2000/svg\" height=\"24px\"viewBox=\"0 0 24 24\"\n",
              "       width=\"24px\">\n",
              "    <path d=\"M0 0h24v24H0V0z\" fill=\"none\"/>\n",
              "    <path d=\"M18.56 5.44l.94 2.06.94-2.06 2.06-.94-2.06-.94-.94-2.06-.94 2.06-2.06.94zm-11 1L8.5 8.5l.94-2.06 2.06-.94-2.06-.94L8.5 2.5l-.94 2.06-2.06.94zm10 10l.94 2.06.94-2.06 2.06-.94-2.06-.94-.94-2.06-.94 2.06-2.06.94z\"/><path d=\"M17.41 7.96l-1.37-1.37c-.4-.4-.92-.59-1.43-.59-.52 0-1.04.2-1.43.59L10.3 9.45l-7.72 7.72c-.78.78-.78 2.05 0 2.83L4 21.41c.39.39.9.59 1.41.59.51 0 1.02-.2 1.41-.59l7.78-7.78 2.81-2.81c.8-.78.8-2.07 0-2.86zM5.41 20L4 18.59l7.72-7.72 1.47 1.35L5.41 20z\"/>\n",
              "  </svg>\n",
              "      </button>\n",
              "      \n",
              "  <style>\n",
              "    .colab-df-container {\n",
              "      display:flex;\n",
              "      flex-wrap:wrap;\n",
              "      gap: 12px;\n",
              "    }\n",
              "\n",
              "    .colab-df-convert {\n",
              "      background-color: #E8F0FE;\n",
              "      border: none;\n",
              "      border-radius: 50%;\n",
              "      cursor: pointer;\n",
              "      display: none;\n",
              "      fill: #1967D2;\n",
              "      height: 32px;\n",
              "      padding: 0 0 0 0;\n",
              "      width: 32px;\n",
              "    }\n",
              "\n",
              "    .colab-df-convert:hover {\n",
              "      background-color: #E2EBFA;\n",
              "      box-shadow: 0px 1px 2px rgba(60, 64, 67, 0.3), 0px 1px 3px 1px rgba(60, 64, 67, 0.15);\n",
              "      fill: #174EA6;\n",
              "    }\n",
              "\n",
              "    [theme=dark] .colab-df-convert {\n",
              "      background-color: #3B4455;\n",
              "      fill: #D2E3FC;\n",
              "    }\n",
              "\n",
              "    [theme=dark] .colab-df-convert:hover {\n",
              "      background-color: #434B5C;\n",
              "      box-shadow: 0px 1px 3px 1px rgba(0, 0, 0, 0.15);\n",
              "      filter: drop-shadow(0px 1px 2px rgba(0, 0, 0, 0.3));\n",
              "      fill: #FFFFFF;\n",
              "    }\n",
              "  </style>\n",
              "\n",
              "      <script>\n",
              "        const buttonEl =\n",
              "          document.querySelector('#df-928f5673-8af6-45d5-93c8-b91eb8384f11 button.colab-df-convert');\n",
              "        buttonEl.style.display =\n",
              "          google.colab.kernel.accessAllowed ? 'block' : 'none';\n",
              "\n",
              "        async function convertToInteractive(key) {\n",
              "          const element = document.querySelector('#df-928f5673-8af6-45d5-93c8-b91eb8384f11');\n",
              "          const dataTable =\n",
              "            await google.colab.kernel.invokeFunction('convertToInteractive',\n",
              "                                                     [key], {});\n",
              "          if (!dataTable) return;\n",
              "\n",
              "          const docLinkHtml = 'Like what you see? Visit the ' +\n",
              "            '<a target=\"_blank\" href=https://colab.research.google.com/notebooks/data_table.ipynb>data table notebook</a>'\n",
              "            + ' to learn more about interactive tables.';\n",
              "          element.innerHTML = '';\n",
              "          dataTable['output_type'] = 'display_data';\n",
              "          await google.colab.output.renderOutput(dataTable, element);\n",
              "          const docLink = document.createElement('div');\n",
              "          docLink.innerHTML = docLinkHtml;\n",
              "          element.appendChild(docLink);\n",
              "        }\n",
              "      </script>\n",
              "    </div>\n",
              "  </div>\n",
              "  "
            ]
          },
          "metadata": {},
          "execution_count": 35
        }
      ]
    },
    {
      "cell_type": "code",
      "source": [
        "# apply word2vec on each row in text col\n",
        "df_final['vector']=df['text'].apply(lambda x : nlp(x).vector)"
      ],
      "metadata": {
        "id": "yRxUBNFaQsvB"
      },
      "execution_count": null,
      "outputs": []
    },
    {
      "cell_type": "code",
      "source": [
        "df_final.head()"
      ],
      "metadata": {
        "colab": {
          "base_uri": "https://localhost:8080/",
          "height": 337
        },
        "id": "qIDSLYz8ROvY",
        "outputId": "f8872dc7-ff11-450c-fc45-46f5bca08c0b"
      },
      "execution_count": null,
      "outputs": [
        {
          "output_type": "execute_result",
          "data": {
            "text/plain": [
              "                                                text  label_  \\\n",
              "0  Daniel Greenfield, a Shillman Journalism Fello...       0   \n",
              "1  Google Pinterest Digg Linkedin Reddit Stumbleu...       0   \n",
              "2  U.S. Secretary of State John F. Kerry said Mon...       1   \n",
              "3  — Kaydee King (@KaydeeKing) November 9, 2016 T...       0   \n",
              "4  It's primary day in New York and front-runners...       1   \n",
              "\n",
              "                                              vector  \n",
              "0  [-1.3751823, 1.3421849, -2.3666484, 0.12908486...  \n",
              "1  [-1.7449774, 0.93961924, -2.024867, 0.42536643...  \n",
              "2  [-1.9426425, 1.0062195, -1.9992222, 0.20469022...  \n",
              "3  [-1.9125352, -0.1481846, -1.1432766, 0.6861217...  \n",
              "4  [-1.8516092, 1.3163909, -2.1726575, 1.2286776,...  "
            ],
            "text/html": [
              "\n",
              "  <div id=\"df-66fa41f4-1320-4241-898e-84b51c5bebf2\">\n",
              "    <div class=\"colab-df-container\">\n",
              "      <div>\n",
              "<style scoped>\n",
              "    .dataframe tbody tr th:only-of-type {\n",
              "        vertical-align: middle;\n",
              "    }\n",
              "\n",
              "    .dataframe tbody tr th {\n",
              "        vertical-align: top;\n",
              "    }\n",
              "\n",
              "    .dataframe thead th {\n",
              "        text-align: right;\n",
              "    }\n",
              "</style>\n",
              "<table border=\"1\" class=\"dataframe\">\n",
              "  <thead>\n",
              "    <tr style=\"text-align: right;\">\n",
              "      <th></th>\n",
              "      <th>text</th>\n",
              "      <th>label_</th>\n",
              "      <th>vector</th>\n",
              "    </tr>\n",
              "  </thead>\n",
              "  <tbody>\n",
              "    <tr>\n",
              "      <th>0</th>\n",
              "      <td>Daniel Greenfield, a Shillman Journalism Fello...</td>\n",
              "      <td>0</td>\n",
              "      <td>[-1.3751823, 1.3421849, -2.3666484, 0.12908486...</td>\n",
              "    </tr>\n",
              "    <tr>\n",
              "      <th>1</th>\n",
              "      <td>Google Pinterest Digg Linkedin Reddit Stumbleu...</td>\n",
              "      <td>0</td>\n",
              "      <td>[-1.7449774, 0.93961924, -2.024867, 0.42536643...</td>\n",
              "    </tr>\n",
              "    <tr>\n",
              "      <th>2</th>\n",
              "      <td>U.S. Secretary of State John F. Kerry said Mon...</td>\n",
              "      <td>1</td>\n",
              "      <td>[-1.9426425, 1.0062195, -1.9992222, 0.20469022...</td>\n",
              "    </tr>\n",
              "    <tr>\n",
              "      <th>3</th>\n",
              "      <td>— Kaydee King (@KaydeeKing) November 9, 2016 T...</td>\n",
              "      <td>0</td>\n",
              "      <td>[-1.9125352, -0.1481846, -1.1432766, 0.6861217...</td>\n",
              "    </tr>\n",
              "    <tr>\n",
              "      <th>4</th>\n",
              "      <td>It's primary day in New York and front-runners...</td>\n",
              "      <td>1</td>\n",
              "      <td>[-1.8516092, 1.3163909, -2.1726575, 1.2286776,...</td>\n",
              "    </tr>\n",
              "  </tbody>\n",
              "</table>\n",
              "</div>\n",
              "      <button class=\"colab-df-convert\" onclick=\"convertToInteractive('df-66fa41f4-1320-4241-898e-84b51c5bebf2')\"\n",
              "              title=\"Convert this dataframe to an interactive table.\"\n",
              "              style=\"display:none;\">\n",
              "        \n",
              "  <svg xmlns=\"http://www.w3.org/2000/svg\" height=\"24px\"viewBox=\"0 0 24 24\"\n",
              "       width=\"24px\">\n",
              "    <path d=\"M0 0h24v24H0V0z\" fill=\"none\"/>\n",
              "    <path d=\"M18.56 5.44l.94 2.06.94-2.06 2.06-.94-2.06-.94-.94-2.06-.94 2.06-2.06.94zm-11 1L8.5 8.5l.94-2.06 2.06-.94-2.06-.94L8.5 2.5l-.94 2.06-2.06.94zm10 10l.94 2.06.94-2.06 2.06-.94-2.06-.94-.94-2.06-.94 2.06-2.06.94z\"/><path d=\"M17.41 7.96l-1.37-1.37c-.4-.4-.92-.59-1.43-.59-.52 0-1.04.2-1.43.59L10.3 9.45l-7.72 7.72c-.78.78-.78 2.05 0 2.83L4 21.41c.39.39.9.59 1.41.59.51 0 1.02-.2 1.41-.59l7.78-7.78 2.81-2.81c.8-.78.8-2.07 0-2.86zM5.41 20L4 18.59l7.72-7.72 1.47 1.35L5.41 20z\"/>\n",
              "  </svg>\n",
              "      </button>\n",
              "      \n",
              "  <style>\n",
              "    .colab-df-container {\n",
              "      display:flex;\n",
              "      flex-wrap:wrap;\n",
              "      gap: 12px;\n",
              "    }\n",
              "\n",
              "    .colab-df-convert {\n",
              "      background-color: #E8F0FE;\n",
              "      border: none;\n",
              "      border-radius: 50%;\n",
              "      cursor: pointer;\n",
              "      display: none;\n",
              "      fill: #1967D2;\n",
              "      height: 32px;\n",
              "      padding: 0 0 0 0;\n",
              "      width: 32px;\n",
              "    }\n",
              "\n",
              "    .colab-df-convert:hover {\n",
              "      background-color: #E2EBFA;\n",
              "      box-shadow: 0px 1px 2px rgba(60, 64, 67, 0.3), 0px 1px 3px 1px rgba(60, 64, 67, 0.15);\n",
              "      fill: #174EA6;\n",
              "    }\n",
              "\n",
              "    [theme=dark] .colab-df-convert {\n",
              "      background-color: #3B4455;\n",
              "      fill: #D2E3FC;\n",
              "    }\n",
              "\n",
              "    [theme=dark] .colab-df-convert:hover {\n",
              "      background-color: #434B5C;\n",
              "      box-shadow: 0px 1px 3px 1px rgba(0, 0, 0, 0.15);\n",
              "      filter: drop-shadow(0px 1px 2px rgba(0, 0, 0, 0.3));\n",
              "      fill: #FFFFFF;\n",
              "    }\n",
              "  </style>\n",
              "\n",
              "      <script>\n",
              "        const buttonEl =\n",
              "          document.querySelector('#df-66fa41f4-1320-4241-898e-84b51c5bebf2 button.colab-df-convert');\n",
              "        buttonEl.style.display =\n",
              "          google.colab.kernel.accessAllowed ? 'block' : 'none';\n",
              "\n",
              "        async function convertToInteractive(key) {\n",
              "          const element = document.querySelector('#df-66fa41f4-1320-4241-898e-84b51c5bebf2');\n",
              "          const dataTable =\n",
              "            await google.colab.kernel.invokeFunction('convertToInteractive',\n",
              "                                                     [key], {});\n",
              "          if (!dataTable) return;\n",
              "\n",
              "          const docLinkHtml = 'Like what you see? Visit the ' +\n",
              "            '<a target=\"_blank\" href=https://colab.research.google.com/notebooks/data_table.ipynb>data table notebook</a>'\n",
              "            + ' to learn more about interactive tables.';\n",
              "          element.innerHTML = '';\n",
              "          dataTable['output_type'] = 'display_data';\n",
              "          await google.colab.output.renderOutput(dataTable, element);\n",
              "          const docLink = document.createElement('div');\n",
              "          docLink.innerHTML = docLinkHtml;\n",
              "          element.appendChild(docLink);\n",
              "        }\n",
              "      </script>\n",
              "    </div>\n",
              "  </div>\n",
              "  "
            ]
          },
          "metadata": {},
          "execution_count": 38
        }
      ]
    },
    {
      "cell_type": "code",
      "source": [
        "from sklearn.model_selection import train_test_split\n",
        "X_train, X_test, y_train, y_test = train_test_split(df_final.vector.values, df_final.label_, test_size=0.2, random_state=51)"
      ],
      "metadata": {
        "id": "2XjbNGp3kaj1"
      },
      "execution_count": null,
      "outputs": []
    },
    {
      "cell_type": "code",
      "source": [
        "X_train"
      ],
      "metadata": {
        "colab": {
          "base_uri": "https://localhost:8080/"
        },
        "id": "nsG7wIzmkrZD",
        "outputId": "b7513947-394d-4ec2-d83e-7d9a00c36301"
      },
      "execution_count": null,
      "outputs": [
        {
          "output_type": "execute_result",
          "data": {
            "text/plain": [
              "array([array([-1.43912745e+00,  1.04403555e+00, -1.43774247e+00,  4.48632270e-01,\n",
              "               4.04274940e+00,  4.50091779e-01,  5.68367004e-01,  4.02366495e+00,\n",
              "              -8.55758369e-01, -1.19812393e+00,  5.35979080e+00,  1.31302571e+00,\n",
              "              -3.18560386e+00,  1.03715241e+00,  6.06318772e-01,  1.59066069e+00,\n",
              "               6.90424383e-01,  1.67503767e-02, -1.08400476e+00, -8.21604490e-01,\n",
              "               7.90713966e-01, -3.79960150e-01, -1.35397065e+00, -4.92445022e-01,\n",
              "              -6.82762682e-01, -1.38891280e+00, -1.45744169e+00, -1.08699608e+00,\n",
              "              -2.30993748e-01,  8.85327697e-01,  7.64005542e-01, -1.85499236e-01,\n",
              "              -9.28330004e-01, -1.40800178e+00, -2.23732042e+00, -6.16078556e-01,\n",
              "              -5.53457201e-01,  6.07449114e-01,  1.40692711e+00,  5.73823929e-01,\n",
              "               1.85379252e-01,  1.21078178e-01, -2.63683982e-02,  7.49444485e-01,\n",
              "              -1.12400115e+00,  1.07275522e+00,  4.83317256e-01, -2.29664016e+00,\n",
              "              -7.78310895e-01,  1.84308279e+00, -1.15638602e+00,  1.04728127e+00,\n",
              "               6.04163826e-01, -4.28859806e+00, -6.89391255e-01,  5.21663606e-01,\n",
              "               3.24102521e-01,  7.74617553e-01,  7.60913253e-01, -4.59911600e-02,\n",
              "               7.94022679e-01, -3.73823583e-01, -1.08100489e-01, -1.06852782e+00,\n",
              "               1.87559426e+00,  1.74982083e+00, -2.32608867e+00, -3.26535916e+00,\n",
              "               5.21074533e-01,  2.05396080e+00, -1.83873594e-01, -6.68087542e-01,\n",
              "              -1.68841624e+00,  5.87321706e-02, -5.51548302e-01,  1.00697172e+00,\n",
              "              -2.31440067e+00,  1.95081472e+00, -3.09948754e+00,  4.04812276e-01,\n",
              "              -3.80278420e+00, -1.82927966e-01,  1.21511984e+00,  9.86463428e-01,\n",
              "               2.09423590e+00, -3.67140889e-01, -1.33037555e+00, -2.81265998e+00,\n",
              "               1.26904845e+00, -7.68472373e-01, -5.50856054e-01, -1.65209636e-01,\n",
              "               2.12275553e+00, -3.39243269e+00,  4.59186465e-01, -1.04593563e+00,\n",
              "               5.05946994e-01, -7.74817467e-01,  1.03209984e+00,  9.89850760e-01,\n",
              "               1.99840713e+00,  1.62940514e+00,  1.80464160e+00,  3.07182097e+00,\n",
              "              -3.94033581e-01,  3.74420309e+00,  4.59003687e-01, -1.74540102e+00,\n",
              "              -5.40043175e-01, -2.73039961e+00,  9.23339188e-01,  7.46570587e-01,\n",
              "              -1.19608009e+00,  1.02948320e+00,  1.37441778e+00,  6.73222065e-01,\n",
              "              -9.95549381e-01, -7.99797475e-01, -1.28977716e-01, -1.29755497e+00,\n",
              "              -6.21384919e-01, -3.24275160e+00,  7.19382763e-01,  1.01338315e+00,\n",
              "              -6.36525989e-01, -2.98488140e+00,  1.19157684e+00, -2.04787993e+00,\n",
              "               2.51177311e+00, -1.54517603e+00, -2.49892116e+00, -2.34213352e-01,\n",
              "               3.25054407e+00, -1.07210982e+00, -2.09295854e-01,  5.35865545e-01,\n",
              "              -1.48934364e+00, -8.44801843e-01,  2.77304053e+00, -2.09193492e+00,\n",
              "              -1.62241030e+00, -7.85902441e-01,  9.31290388e-01,  1.49666119e+00,\n",
              "               6.85811400e-01,  3.53480697e-01, -3.34265542e+00,  1.49227623e-02,\n",
              "               6.93310142e-01,  6.49848580e-01, -2.50686318e-01,  2.36814165e+00,\n",
              "               2.42089823e-01,  1.58968222e+00, -1.60753942e+00,  1.21617007e+00,\n",
              "               2.53545666e+00, -5.54543376e-01, -2.28702760e+00, -1.09059405e+00,\n",
              "              -4.04508293e-01, -2.67975140e+00, -1.81645691e-01,  2.00550342e+00,\n",
              "              -2.42689943e+00, -1.95110619e+00, -3.49983954e+00,  1.36514974e+00,\n",
              "              -2.17674389e-01,  4.55358356e-01,  9.94749188e-01, -5.55839650e-02,\n",
              "               2.36192536e+00,  3.90748531e-01,  1.62399435e+00,  2.54059702e-01,\n",
              "              -4.77632046e-01, -4.48291376e-03, -2.27425671e+00, -1.21365654e+00,\n",
              "              -8.73938680e-01,  2.93325871e-01,  1.40949702e+00, -3.50919008e-01,\n",
              "              -1.29663491e+00,  6.69890642e-01, -1.43663931e+00, -5.33542454e-01,\n",
              "               1.09227371e+00,  1.62807584e+00, -4.98215169e-01, -1.28064704e+00,\n",
              "              -3.12760472e-01, -1.46962988e+00, -2.64745086e-01,  3.18456590e-01,\n",
              "              -3.00907087e+00, -3.97846222e-01, -1.20680369e-01,  5.82415402e-01,\n",
              "              -1.13700950e+00, -1.27598810e+00, -9.77694429e-03, -2.40642786e+00,\n",
              "               2.26244664e+00,  8.59667659e-01, -2.48143458e+00,  1.08926964e+00,\n",
              "              -5.58806002e-01, -5.04964590e-01,  1.23280919e+00,  8.80107462e-01,\n",
              "              -1.02307606e+00,  1.95102346e+00,  7.40315378e-01,  2.38922358e+00,\n",
              "              -1.06108591e-01, -1.91369534e+00, -5.09431422e-01,  4.52890158e-01,\n",
              "              -2.21115088e+00,  7.75804460e-01,  2.21944943e-01,  7.49995768e-01,\n",
              "              -1.62853038e+00, -5.05122721e-01,  4.50467974e-01,  2.39273453e+00,\n",
              "               1.28759694e+00, -1.04637206e-01,  1.98689914e+00, -2.19934225e+00,\n",
              "              -6.49430096e-01,  1.42402840e+00,  1.17781687e+00,  1.22280884e+00,\n",
              "              -1.49515390e+00,  1.13019013e+00, -1.71369389e-01,  1.95855469e-01,\n",
              "              -9.66203511e-01,  3.40010524e-01,  1.89538848e+00,  2.40938589e-01,\n",
              "              -8.21422875e-01,  1.30092645e+00, -2.18384957e+00,  4.17487277e-03,\n",
              "               4.81641799e-01,  2.47317576e+00,  5.91634154e-01, -1.99788308e+00,\n",
              "              -4.13186312e+00, -1.20761879e-01,  3.00261080e-01, -2.03360224e+00,\n",
              "               1.63751423e+00,  2.32341737e-01,  4.85606678e-02,  1.43686938e+00,\n",
              "              -4.43400055e-01,  4.00219917e+00,  2.40605068e+00,  2.28553343e+00,\n",
              "               1.72559512e+00, -4.43250805e-01,  3.63147222e-02,  2.19386935e+00,\n",
              "              -3.22886658e+00, -2.48732045e-01,  6.54305637e-01, -6.35375977e-01,\n",
              "               1.53330145e-02, -1.49192262e+00,  7.62524009e-01, -1.04557537e-01,\n",
              "               9.36241686e-01, -1.27619231e+00, -7.81510651e-01,  1.87007296e+00,\n",
              "               1.07854199e+00, -1.13946974e-01,  7.63536012e-03,  9.06784415e-01,\n",
              "               2.43775463e+00, -6.50012553e-01,  7.30113864e-01,  1.31042969e+00,\n",
              "              -1.02256477e+00,  9.33501050e-02,  6.32641375e-01, -8.38731527e-01,\n",
              "              -8.17753971e-01, -5.83822846e-01, -1.01971304e+00,  1.19482422e+00,\n",
              "               8.22443426e-01, -2.23773301e-01, -2.25486445e+00,  5.00229239e-01],\n",
              "             dtype=float32)                                                       ,\n",
              "       array([-1.82178152e+00,  3.13418865e-01, -1.58502936e+00,  5.47579169e-01,\n",
              "               4.64964724e+00,  2.91731328e-01,  3.81893128e-01,  3.70725274e+00,\n",
              "               2.67890692e-01, -4.96309668e-01,  4.11141253e+00,  1.56407809e+00,\n",
              "              -2.91633415e+00,  1.07278883e+00,  5.80097139e-01,  1.97644389e+00,\n",
              "               7.01058209e-01, -1.11214653e-01, -6.50961876e-01, -1.52666783e+00,\n",
              "               1.32949078e+00, -1.12206376e+00, -8.79350722e-01,  2.02038333e-01,\n",
              "               1.00281149e-01, -1.12837529e+00, -2.58766961e+00, -1.10818398e+00,\n",
              "              -4.68540639e-02,  5.27897596e-01,  7.41614521e-01, -2.48279303e-01,\n",
              "              -9.75685120e-01, -1.97590220e+00, -2.48953581e+00, -1.08775187e+00,\n",
              "              -1.08225191e+00,  1.03112841e+00,  6.46476090e-01,  3.79915297e-01,\n",
              "               1.97007373e-01,  4.10502285e-01, -3.30953598e-01,  1.87829912e-01,\n",
              "              -1.46121383e+00,  8.28015566e-01,  2.11066559e-01, -1.90751123e+00,\n",
              "              -6.74376309e-01,  1.69135725e+00, -9.83835459e-01,  1.54135752e+00,\n",
              "              -3.42649072e-02, -4.14537716e+00, -2.59650290e-01,  6.73489690e-01,\n",
              "              -8.10214579e-02,  4.37482446e-01,  9.70048368e-01, -1.67592376e-01,\n",
              "              -5.76019168e-01, -1.17635989e+00,  1.20456576e-01, -7.94548988e-01,\n",
              "               2.26580691e+00,  1.01389349e+00, -2.12128472e+00, -2.13151693e+00,\n",
              "               9.78380799e-01,  1.89635170e+00, -7.72056043e-01, -9.54248846e-01,\n",
              "              -2.10391426e+00, -2.93980896e-01, -5.23322672e-02,  1.29914784e+00,\n",
              "              -2.14400864e+00,  2.06292176e+00, -2.69297123e+00, -1.39389917e-01,\n",
              "              -3.75385404e+00, -6.99048817e-01,  2.71019936e-01,  8.30204248e-01,\n",
              "               3.05078912e+00, -1.14095941e-01, -2.16533995e+00, -2.95203590e+00,\n",
              "               6.44662499e-01, -8.90037656e-01, -1.34830689e+00, -3.14508468e-01,\n",
              "               1.35787094e+00, -2.40165925e+00,  6.91718280e-01, -1.20527232e+00,\n",
              "               1.07954550e+00, -1.35246718e+00,  8.95896196e-01,  1.54580319e+00,\n",
              "               1.88662291e+00,  1.12624335e+00,  2.26978230e+00,  2.58226657e+00,\n",
              "              -7.51111090e-01,  2.94238997e+00,  6.52800739e-01, -1.69149864e+00,\n",
              "               3.23493898e-01, -3.07054019e+00,  9.82240856e-01,  9.16196585e-01,\n",
              "              -1.44158757e+00,  6.62263930e-02,  1.26340854e+00,  2.19731063e-01,\n",
              "              -8.88418794e-01, -1.81317613e-01,  6.51556998e-02, -1.09144104e+00,\n",
              "              -7.98142254e-01, -2.74102688e+00,  8.81283343e-01,  1.25143743e+00,\n",
              "              -7.96275258e-01, -2.98225760e+00,  1.38342392e+00, -1.74495578e+00,\n",
              "               2.47761345e+00, -8.42374444e-01, -2.42668986e+00, -5.13515174e-01,\n",
              "               3.30024576e+00, -8.95590961e-01,  2.47061208e-01,  6.07609749e-01,\n",
              "              -1.77629793e+00, -5.39625049e-01,  2.75502539e+00, -1.95249045e+00,\n",
              "              -1.46098077e+00, -7.13793278e-01, -4.38781619e-01,  1.49928439e+00,\n",
              "               1.11168313e+00,  1.01256776e+00, -3.35651946e+00, -1.00074604e-01,\n",
              "               1.14745426e+00,  8.71229112e-01,  7.52118886e-01,  1.62399912e+00,\n",
              "               3.79965186e-01,  1.60083663e+00, -1.20037711e+00,  5.74613035e-01,\n",
              "               2.46473265e+00, -4.96297538e-01, -2.03810883e+00, -1.04833090e+00,\n",
              "              -2.38843828e-01, -2.39102197e+00, -2.84988791e-01,  1.89700329e+00,\n",
              "              -2.06249166e+00, -1.42999887e+00, -3.04640961e+00,  1.27499688e+00,\n",
              "               1.30919248e-01,  9.16959286e-01,  8.61149371e-01,  2.23038316e-01,\n",
              "               2.21071315e+00, -3.40178423e-02,  1.13662720e+00,  2.72596627e-01,\n",
              "              -2.52041757e-01, -2.53684700e-01, -2.17219830e+00, -1.53606808e+00,\n",
              "              -9.35635686e-01,  2.88397133e-01,  7.27586687e-01,  1.52456477e-01,\n",
              "              -8.90914202e-01,  6.13148928e-01, -1.27208161e+00,  2.26608559e-01,\n",
              "               6.28474176e-01,  1.16975009e+00,  1.12642586e-01, -1.46956146e+00,\n",
              "               3.62884670e-01, -1.35499752e+00,  8.58247504e-02,  6.82387531e-01,\n",
              "              -2.32051492e+00,  4.41148039e-03, -2.46673282e-02,  7.56042242e-01,\n",
              "              -6.78589582e-01, -1.68945909e+00,  1.86351016e-01, -2.34996629e+00,\n",
              "               3.07983112e+00,  7.39993274e-01, -2.46868062e+00,  1.27305746e+00,\n",
              "              -7.77063429e-01, -2.92903066e-01,  1.17733383e+00,  4.97715950e-01,\n",
              "              -1.46885860e+00,  1.29319406e+00,  1.00421512e+00,  2.11224174e+00,\n",
              "               3.37269962e-01, -1.52423823e+00,  1.51832039e-02, -3.05001616e-01,\n",
              "              -1.91797340e+00,  1.22624719e+00, -3.39726776e-01,  7.34147668e-01,\n",
              "              -2.33614421e+00, -8.26517165e-01,  5.95622718e-01,  1.94079328e+00,\n",
              "               1.16385198e+00,  5.91353104e-02,  2.35683346e+00, -1.69213581e+00,\n",
              "              -5.74645817e-01,  1.45940709e+00,  1.76043284e+00,  1.78103566e+00,\n",
              "              -1.37596381e+00,  5.87709129e-01, -7.39070535e-01, -2.66989321e-01,\n",
              "              -8.21656287e-01, -1.19617619e-01,  1.19287097e+00, -3.41599286e-01,\n",
              "              -1.47556257e+00,  1.51526630e+00, -2.41863012e+00, -1.52804479e-01,\n",
              "              -3.59481782e-01,  2.50373673e+00,  9.70937252e-01, -2.29301715e+00,\n",
              "              -4.19643068e+00,  8.24608132e-02,  1.35199413e-01, -1.97447324e+00,\n",
              "               1.80013514e+00, -7.63978660e-01,  3.21129590e-01,  1.04438281e+00,\n",
              "              -1.22473031e-01,  3.92285585e+00,  2.11582589e+00,  1.72139502e+00,\n",
              "               1.70710397e+00, -1.00186455e+00, -1.51665404e-01,  2.00584745e+00,\n",
              "              -2.70567489e+00, -1.15472503e-01,  2.29111075e-01, -1.71732411e-01,\n",
              "               2.59251326e-01, -1.71122825e+00,  8.76435995e-01, -2.84738451e-01,\n",
              "               1.57242274e+00, -1.47976089e+00, -1.90669268e-01,  1.89399636e+00,\n",
              "               1.27454734e+00,  2.11711004e-01,  8.25088084e-01,  5.89302659e-01,\n",
              "               1.65940702e+00, -5.39591432e-01, -4.09291774e-01,  1.08264244e+00,\n",
              "              -5.71692705e-01,  1.35394812e-01,  4.83230352e-01, -5.68044186e-01,\n",
              "              -9.20629427e-02,  3.13331448e-02, -1.24451876e+00,  1.22260594e+00,\n",
              "               4.03532475e-01, -9.60444152e-01, -1.47144163e+00,  3.87195945e-01],\n",
              "             dtype=float32)                                                       ,\n",
              "       array([-0.92736703,  0.8655568 , -1.8261776 ,  0.12263664,  3.7739575 ,\n",
              "              -0.2697458 , -0.5988622 ,  3.872203  ,  1.2684429 , -0.21653669,\n",
              "               3.9316769 ,  0.19238251, -3.6482074 ,  0.9792717 ,  0.5069875 ,\n",
              "               1.3318149 ,  1.1697751 , -0.23598485, -0.05198072, -2.2068093 ,\n",
              "               0.95133334,  0.59257597, -2.103572  , -0.2707683 , -1.4999384 ,\n",
              "              -2.1071625 , -0.7189782 , -0.5142058 ,  0.30341253,  1.4490051 ,\n",
              "               2.706577  , -0.9604459 , -1.8773317 , -1.3810257 , -2.191456  ,\n",
              "              -0.1315634 ,  0.17638803, -0.18000491,  1.0947828 , -0.1713591 ,\n",
              "               0.57342535,  0.21023674,  0.22178666, -1.6329502 , -1.8261086 ,\n",
              "              -0.06989167,  0.34691572, -2.1294208 ,  0.6902116 ,  0.49560413,\n",
              "              -0.35729328,  1.4527941 , -0.17616999, -4.84359   ,  0.07774335,\n",
              "               1.9636275 , -0.79544574,  1.7416531 ,  1.4854375 ,  1.3326759 ,\n",
              "              -0.22398172,  0.2940142 ,  0.5881658 ,  0.7974062 ,  2.1287367 ,\n",
              "               0.8786158 , -2.767683  , -2.5647697 , -0.7620774 ,  2.1764042 ,\n",
              "              -1.6071717 ,  0.27878413, -0.6306866 ,  0.68031573, -0.7580085 ,\n",
              "               1.9247516 ,  0.44169906,  2.875292  , -2.4742115 , -1.0074571 ,\n",
              "              -3.4972334 ,  0.5987399 ,  0.12498084, -0.3842994 ,  3.4764082 ,\n",
              "              -1.9436785 , -1.5913936 , -1.2587742 ,  0.41315284, -0.12254915,\n",
              "              -1.8529624 , -1.1027981 ,  0.18911766, -2.2407043 ,  0.23847444,\n",
              "              -1.4890299 , -0.24932915, -1.7465743 ,  0.8365601 ,  2.014424  ,\n",
              "               2.092001  ,  0.37029028,  2.8507283 ,  4.6870847 ,  0.6014898 ,\n",
              "               3.8782241 ,  0.5804625 , -2.0106332 , -0.61729306, -3.2316418 ,\n",
              "               1.1234332 ,  2.356549  , -2.807414  ,  1.2306157 ,  1.5526934 ,\n",
              "               0.5467892 , -1.941625  ,  0.69301766,  0.931385  , -0.04085247,\n",
              "              -1.4988791 , -2.9422073 ,  0.42573157,  1.9380957 ,  0.28125918,\n",
              "              -2.9596093 , -1.0535725 , -1.8814625 ,  2.0543778 , -2.83354   ,\n",
              "              -2.3217108 ,  0.60736084,  3.4997637 , -2.343041  ,  0.73518926,\n",
              "               0.0471608 , -1.4897383 , -0.9936392 ,  2.2969677 , -0.34081665,\n",
              "              -0.09889445, -0.9331792 , -1.327616  ,  1.0041058 , -0.36941662,\n",
              "               1.7550985 , -2.7589166 , -1.3584448 ,  1.0231401 ,  1.9643941 ,\n",
              "               1.7039164 ,  2.5418127 ,  1.2401799 ,  3.4493895 , -2.0024717 ,\n",
              "               0.50094503,  3.4514353 ,  1.2456818 , -2.3657942 , -1.2011923 ,\n",
              "              -0.9822424 ,  0.06604   , -0.16017504,  1.9933342 , -2.199385  ,\n",
              "              -0.71062344, -2.6538265 ,  0.7059373 ,  0.44899938,  2.2672217 ,\n",
              "               0.8860616 ,  1.139295  ,  0.0808541 ,  1.5737082 ,  0.20461416,\n",
              "               0.16651376,  0.21635419, -0.12176577, -3.0343502 , -2.2009532 ,\n",
              "              -2.2298841 ,  1.3908267 ,  1.0195316 , -2.1825876 , -1.8547629 ,\n",
              "               0.37163666, -1.4545592 ,  1.1299322 ,  0.7231984 ,  0.7302408 ,\n",
              "              -0.8486717 ,  0.21541817, -0.5296325 , -3.3198032 , -1.2590492 ,\n",
              "              -0.12456999, -1.8946661 , -0.84597355, -0.46394253, -0.16173588,\n",
              "              -1.1026217 , -1.3717996 ,  0.4236734 , -2.5260792 ,  3.645685  ,\n",
              "               1.4335542 , -2.121515  ,  3.0723193 , -0.6800875 , -2.9935439 ,\n",
              "               2.0468707 ,  0.58989835, -0.9993067 ,  1.2428633 ,  2.3201525 ,\n",
              "               2.320779  ,  1.2942142 , -2.2744074 , -1.0592475 , -0.5217683 ,\n",
              "              -0.87278587,  1.0811449 , -0.68253994,  0.59455836, -2.1487916 ,\n",
              "              -2.2118201 , -0.82149553,  1.719319  ,  1.8489357 ,  1.1487007 ,\n",
              "               3.957877  , -1.275805  , -0.5653108 ,  2.5955658 ,  1.7400142 ,\n",
              "               0.8745833 , -2.5884292 , -0.02595582, -0.5702483 , -0.6140516 ,\n",
              "              -0.7668584 ,  0.0147633 ,  1.3672017 ,  0.8019724 , -3.417189  ,\n",
              "              -0.41056833, -1.5955685 ,  0.3498    , -0.52172166,  2.2444649 ,\n",
              "               2.0888727 , -1.4864925 , -3.7607222 , -0.84953016, -1.1527079 ,\n",
              "              -1.8950824 ,  2.4352176 , -0.08825082, -0.01065913,  1.1587892 ,\n",
              "               0.08433644,  2.9164698 ,  1.2632236 ,  3.324296  ,  2.3913665 ,\n",
              "               0.44630504, -1.2087642 ,  0.7324069 , -2.3344033 ,  0.48838606,\n",
              "              -0.54092383, -0.34109175,  0.4950975 , -2.5792148 ,  0.0656025 ,\n",
              "              -1.4458933 ,  2.0137813 , -1.0866042 , -0.48917332,  1.2274767 ,\n",
              "               2.323706  , -0.8292399 , -1.365846  , -0.24684088,  0.8161833 ,\n",
              "              -0.17015505,  0.16230816, -0.37140834, -0.35296252,  0.21745169,\n",
              "               0.13147497, -1.0041242 , -1.0984875 ,  0.17944644,  0.34905747,\n",
              "               1.4148822 ,  0.7002642 , -2.62519   , -1.2099462 ,  0.5647885 ],\n",
              "             dtype=float32)                                                    ,\n",
              "       ...,\n",
              "       array([-1.52073729e+00,  1.09053469e+00, -2.01783299e+00,  8.10429603e-02,\n",
              "               3.70938611e+00,  6.14950180e-01,  5.45621693e-01,  3.99226856e+00,\n",
              "              -6.65878057e-01, -1.24664915e+00,  5.37765217e+00,  1.08493137e+00,\n",
              "              -2.76599789e+00,  6.48336112e-01,  6.69330776e-01,  2.03612113e+00,\n",
              "               9.02179778e-01, -3.44751388e-01, -9.77942467e-01, -1.19238508e+00,\n",
              "               1.54734111e+00, -8.61096621e-01, -4.52816397e-01, -9.31817234e-01,\n",
              "              -6.24061823e-01, -1.22518003e+00, -2.12026548e+00, -7.30946064e-01,\n",
              "              -3.60183239e-01,  1.02848971e+00,  9.32218611e-01, -2.66402781e-01,\n",
              "              -6.36589646e-01, -1.56810749e+00, -2.51036024e+00, -8.82071435e-01,\n",
              "              -5.28406560e-01,  7.16594934e-01,  1.28315806e+00,  6.91229403e-01,\n",
              "               1.91348851e-01,  9.00894180e-02,  7.33592436e-02, -9.91255865e-02,\n",
              "              -1.46212757e+00,  9.77722406e-01,  7.99611449e-01, -2.75184989e+00,\n",
              "              -1.15180779e+00,  2.01595616e+00, -1.11692441e+00,  1.31497002e+00,\n",
              "               4.57159817e-01, -4.43925571e+00, -6.05423033e-01,  2.19696134e-01,\n",
              "               4.07081157e-01,  1.03418398e+00,  1.03212273e+00,  1.17793918e-01,\n",
              "               7.74022877e-01, -7.24604547e-01,  3.01035792e-01, -1.09788549e+00,\n",
              "               1.97246754e+00,  1.51733971e+00, -2.53379655e+00, -3.01918721e+00,\n",
              "               4.78218704e-01,  2.17575574e+00,  4.84896675e-02, -7.76829660e-01,\n",
              "              -1.75692689e+00, -1.08405858e-01, -4.17002976e-01,  1.26156163e+00,\n",
              "              -2.41387844e+00,  2.14823127e+00, -3.37250352e+00, -5.91794401e-02,\n",
              "              -3.98708153e+00, -5.62705815e-01,  1.30734909e+00,  8.16489697e-01,\n",
              "               2.41600537e+00,  1.13680847e-01, -1.61658800e+00, -3.01555562e+00,\n",
              "               9.55642521e-01, -9.22672451e-01, -7.91133165e-01, -5.17552078e-01,\n",
              "               1.58694601e+00, -3.80272293e+00,  7.65230775e-01, -1.42207444e+00,\n",
              "               8.79151225e-01, -1.20066535e+00,  8.44837070e-01,  1.07450700e+00,\n",
              "               1.99787343e+00,  1.52992272e+00,  1.78354466e+00,  3.05555320e+00,\n",
              "              -4.40591156e-01,  3.45592093e+00,  1.59561962e-01, -2.10647798e+00,\n",
              "              -1.18270449e-01, -3.15636325e+00,  7.87073374e-01,  7.90480375e-01,\n",
              "              -8.70505333e-01,  1.05702055e+00,  1.21984386e+00,  3.04785907e-01,\n",
              "              -1.21657145e+00, -9.53791201e-01, -5.68816543e-01, -7.01566756e-01,\n",
              "              -8.27983081e-01, -2.96965718e+00,  7.68853426e-01,  1.06936693e+00,\n",
              "              -8.86791646e-01, -2.27004123e+00,  1.19661665e+00, -1.64969504e+00,\n",
              "               2.45329237e+00, -1.57989907e+00, -2.67470598e+00, -2.26594999e-01,\n",
              "               3.25908804e+00, -8.51117551e-01, -3.55995893e-01,  8.19350183e-01,\n",
              "              -1.42375183e+00, -7.26354241e-01,  3.24992085e+00, -2.20711184e+00,\n",
              "              -1.74999022e+00, -1.10113096e+00,  5.68842232e-01,  1.38807273e+00,\n",
              "               4.10505414e-01,  5.04020274e-01, -3.69178987e+00, -4.16771024e-02,\n",
              "               5.36331773e-01,  6.31190419e-01, -3.44405115e-01,  2.51175880e+00,\n",
              "               6.70346394e-02,  1.63002586e+00, -1.44716978e+00,  1.34836102e+00,\n",
              "               2.43332458e+00, -6.29269540e-01, -2.40666080e+00, -9.35571969e-01,\n",
              "              -1.15245633e-01, -2.64119101e+00, -6.95627809e-01,  1.48099625e+00,\n",
              "              -2.25195432e+00, -1.97814453e+00, -3.63557935e+00,  1.55338335e+00,\n",
              "              -6.93685114e-01,  3.65848064e-01,  1.37951350e+00, -1.33817096e-03,\n",
              "               2.33312774e+00,  2.05598339e-01,  1.52636445e+00,  2.82273930e-03,\n",
              "              -6.84561729e-01, -1.58374146e-01, -1.83166981e+00, -1.60247028e+00,\n",
              "              -8.21662307e-01,  5.43086946e-01,  1.66681516e+00,  8.59399736e-02,\n",
              "              -1.07724655e+00,  8.10426474e-01, -1.38495696e+00, -9.75246251e-01,\n",
              "               1.70087814e+00,  2.19097304e+00, -3.99230599e-01, -1.07689202e+00,\n",
              "              -9.20148566e-02, -1.00385487e+00, -3.62024546e-01,  4.38551083e-02,\n",
              "              -2.78202891e+00, -7.34454319e-02,  8.49800184e-03,  8.96207094e-01,\n",
              "              -1.17204213e+00, -1.02770543e+00,  2.07894668e-02, -2.49042773e+00,\n",
              "               2.31151009e+00,  1.20878005e+00, -3.04051614e+00,  8.22967112e-01,\n",
              "              -7.32177854e-01, -1.42076790e-01,  1.19307029e+00,  5.70141196e-01,\n",
              "              -1.18441355e+00,  2.08394170e+00,  6.28406227e-01,  2.17504048e+00,\n",
              "               1.24559551e-02, -1.74727964e+00, -2.21365377e-01, -3.55563797e-02,\n",
              "              -2.44645429e+00,  7.41282642e-01, -8.62995237e-02,  7.37233639e-01,\n",
              "              -1.67229140e+00, -5.66949069e-01,  2.71621376e-01,  2.23675609e+00,\n",
              "               9.58104908e-01,  2.96709947e-02,  1.94874728e+00, -2.36777949e+00,\n",
              "              -6.05567217e-01,  1.50678933e+00,  1.40060413e+00,  1.00316954e+00,\n",
              "              -1.34905481e+00,  9.19762254e-01,  1.37045145e-01, -2.20542654e-01,\n",
              "              -6.17466867e-01,  6.12456024e-01,  1.82299674e+00,  1.32517204e-01,\n",
              "              -7.45236754e-01,  1.38351727e+00, -1.82253397e+00,  4.76376042e-02,\n",
              "               3.82814080e-01,  2.59396529e+00,  4.91137713e-01, -1.74193799e+00,\n",
              "              -4.07172441e+00, -1.22965612e-01,  5.07019937e-01, -2.10899639e+00,\n",
              "               1.57834256e+00,  1.10417366e-01,  1.02493100e-01,  1.39797139e+00,\n",
              "              -2.57500172e-01,  3.66186666e+00,  2.91105914e+00,  2.18228722e+00,\n",
              "               1.85831475e+00, -4.23042536e-01,  1.65696770e-01,  2.55546784e+00,\n",
              "              -3.20889807e+00, -6.88591525e-02,  5.35015285e-01, -6.39339983e-01,\n",
              "               2.77593523e-01, -1.60446918e+00,  8.54441226e-01, -5.11759579e-01,\n",
              "               1.22128928e+00, -1.54532957e+00, -1.05116940e+00,  1.84396970e+00,\n",
              "               7.07362771e-01, -3.21966648e-01,  2.18678474e-01,  7.53196299e-01,\n",
              "               3.13923168e+00, -5.69881201e-01,  5.49552441e-01,  1.19958723e+00,\n",
              "              -1.13743150e+00,  2.60024130e-01,  6.20781243e-01, -9.30635631e-01,\n",
              "              -5.74765205e-01, -1.36112899e-01, -1.49356639e+00,  1.20877802e+00,\n",
              "               6.84635043e-01, -2.79278815e-01, -2.09874725e+00,  8.22893858e-01],\n",
              "             dtype=float32)                                                       ,\n",
              "       array([-2.0492861e+00,  4.0792048e-01, -1.9147568e+00,  1.2201858e+00,\n",
              "               3.8676460e+00,  1.0512900e+00,  5.3744483e-01,  4.8281593e+00,\n",
              "              -8.8858414e-01, -1.2648336e+00,  3.5083911e+00,  2.9042144e+00,\n",
              "              -4.7996626e+00,  1.4501418e+00,  4.6767235e-01,  2.0304515e+00,\n",
              "               1.8535703e+00, -1.1152546e+00, -1.7923876e+00, -2.0685308e+00,\n",
              "               4.4784483e-01, -5.5080855e-01, -2.3186747e-02, -3.6262572e-01,\n",
              "              -1.1170433e+00, -4.8575905e-01, -1.7258638e+00, -4.4476083e-01,\n",
              "              -5.6893051e-01,  1.2901342e+00, -5.1388621e-01,  8.4176618e-01,\n",
              "              -6.5572852e-01, -3.4688473e+00, -6.7096817e-01, -6.7998415e-01,\n",
              "               1.9649515e-02,  1.1468010e+00,  1.4239862e+00,  1.3416424e+00,\n",
              "               1.8898432e+00, -1.1229585e+00,  1.4740640e-01,  1.1180342e-01,\n",
              "              -1.7000371e+00,  9.0789139e-01,  2.0941839e+00, -2.3877156e+00,\n",
              "              -1.2215718e+00,  2.8170741e+00, -1.4449129e+00,  2.4786069e+00,\n",
              "              -4.2185301e-01, -6.4211235e+00, -1.3763448e+00,  1.4520705e+00,\n",
              "              -5.8232635e-01,  1.5734323e+00,  1.0057411e+00,  2.9828858e-01,\n",
              "               1.7501600e+00, -9.7431755e-01,  5.8577675e-01, -1.8627746e+00,\n",
              "               2.7855392e+00,  8.3757198e-01, -3.0185421e+00, -3.3192582e+00,\n",
              "               6.5081857e-02,  2.1674809e+00, -3.5828272e-01, -2.1930873e+00,\n",
              "              -1.2220296e+00,  9.9879764e-02, -5.6730974e-02,  1.3482835e+00,\n",
              "              -2.0869961e+00,  1.3218853e+00, -1.8373454e+00,  8.5383117e-01,\n",
              "              -3.8683221e+00, -8.2509011e-01,  7.3921955e-01,  2.0951302e+00,\n",
              "               4.8719144e-01, -1.1053644e-01, -1.8612813e+00, -3.4709604e+00,\n",
              "               1.1123034e+00, -6.2407339e-01, -1.1020319e+00,  9.8921424e-01,\n",
              "               1.0810468e+00, -3.2874374e+00,  8.6925572e-01,  2.2852466e-02,\n",
              "               8.3523834e-01, -7.7270335e-01,  8.9971977e-01,  2.9975779e+00,\n",
              "               3.2433298e+00,  1.7653524e+00,  3.1226709e+00,  2.4889719e+00,\n",
              "               5.2162999e-01,  4.2170677e+00, -1.6649234e-01, -2.5948031e+00,\n",
              "              -2.0298142e+00, -4.3265176e+00,  1.4154718e+00, -4.0251482e-01,\n",
              "              -2.0085523e+00,  2.6569495e-01,  5.2069271e-01,  2.2247205e+00,\n",
              "              -1.0229616e+00, -2.2046711e+00,  6.0848904e-01, -2.2996860e+00,\n",
              "              -1.8637868e+00, -2.7021432e+00, -2.4688585e-02, -9.6710557e-01,\n",
              "              -5.8978540e-01, -2.3492105e+00,  2.1867750e+00, -2.6299305e+00,\n",
              "               5.7962626e-01, -1.2308664e+00, -3.6155908e+00, -1.0193378e-01,\n",
              "               4.2271452e+00,  4.1589710e-01,  1.3660877e+00,  8.0230111e-01,\n",
              "              -2.6459019e+00, -3.8598955e-01,  2.5510612e+00, -2.2895799e+00,\n",
              "              -1.5181648e+00, -1.9943254e+00,  4.7956443e-01,  4.9201584e-01,\n",
              "               1.3285425e+00,  2.2168443e+00, -4.2072778e+00, -4.7366628e-01,\n",
              "               1.4760336e-01,  1.6115244e-02, -1.6067599e+00,  2.8092816e+00,\n",
              "              -3.4522137e-01,  2.4481938e+00, -8.0119145e-01,  7.6974940e-01,\n",
              "               2.9684777e+00,  2.5906730e-01, -2.8564312e+00, -9.2712021e-01,\n",
              "              -1.0655482e+00, -3.0380137e+00, -7.0729291e-01,  1.3358308e+00,\n",
              "              -2.2968419e+00, -2.2954578e+00, -5.4889517e+00,  2.1600947e+00,\n",
              "               8.7421620e-01, -4.5957576e-02,  9.4368681e-02, -6.0478050e-02,\n",
              "               1.8928648e+00,  1.0491316e+00,  1.4630743e+00,  3.7985855e-01,\n",
              "              -5.7446986e-01,  3.0554387e-01, -3.5365462e+00, -2.5997896e+00,\n",
              "              -9.2147225e-01,  1.9700194e-03,  1.7165118e+00,  6.7305422e-01,\n",
              "              -1.6918228e+00,  8.1745440e-01, -2.2395661e+00, -2.6642572e-02,\n",
              "               1.6080884e+00,  1.3398358e+00, -5.7286292e-01, -9.3158007e-01,\n",
              "              -1.3670210e+00, -1.5228168e+00, -8.9373815e-01,  6.7238651e-02,\n",
              "              -2.8398716e+00,  5.8743906e-01, -7.5064337e-01,  1.8111128e+00,\n",
              "              -2.2062566e+00, -2.5550504e+00,  1.3851339e+00, -1.8218079e+00,\n",
              "               3.3582833e+00, -3.7054718e-01, -3.6480234e+00,  2.4486949e+00,\n",
              "               1.0273179e+00, -6.1466627e-02,  1.8530466e-01, -4.6034673e-01,\n",
              "              -1.1431860e+00,  1.1125772e+00,  6.8062288e-01,  2.2134163e+00,\n",
              "               4.5102528e-01, -2.5369601e+00, -1.4990881e-01,  1.9998062e+00,\n",
              "              -2.1192417e+00,  9.3101740e-01, -2.7768999e-01,  5.7731766e-02,\n",
              "              -1.5199215e+00, -2.1342041e+00,  1.0962501e+00,  3.4160495e+00,\n",
              "               5.4606396e-01, -1.3844706e-02,  2.6156979e+00, -2.3365946e+00,\n",
              "              -1.0526708e+00,  5.4012090e-01,  4.4415174e+00,  1.3509817e+00,\n",
              "              -1.2256130e+00,  9.8902911e-01,  6.3379431e-01, -8.7656987e-01,\n",
              "              -1.4029112e+00, -2.8144076e-01,  1.3063674e-01, -2.3292372e-02,\n",
              "              -1.9544594e+00,  1.8116747e+00, -3.5095708e+00,  5.7210666e-01,\n",
              "               4.0465721e-01,  3.0230412e+00, -1.9164254e-01, -3.0222163e+00,\n",
              "              -3.7511792e+00, -9.2502677e-01,  1.9657655e+00, -3.1693721e+00,\n",
              "               1.5938919e+00, -9.8176283e-01,  4.3284702e-01,  2.6245115e+00,\n",
              "              -1.6139963e+00,  5.7071977e+00,  2.4135165e+00,  2.6751406e+00,\n",
              "               3.6587470e+00,  4.7654560e-01,  2.7577668e-01,  2.4206805e+00,\n",
              "              -3.0459471e+00, -1.4410495e+00, -6.6861999e-01, -1.4887053e+00,\n",
              "               1.9090383e+00, -2.3876479e+00,  1.5065863e+00, -1.5919013e+00,\n",
              "               6.6228664e-01, -2.0220222e+00, -1.1320286e+00,  1.6364830e+00,\n",
              "               1.7364987e+00,  3.7934521e-01, -7.3581839e-01,  9.9305928e-01,\n",
              "               1.9610335e-01, -1.2246093e-01, -2.2627126e-02,  2.3550510e+00,\n",
              "              -6.0863769e-01, -1.1708235e+00,  1.1938028e+00, -4.7998625e-01,\n",
              "              -5.8979857e-01, -2.3956287e-01, -1.2143942e+00,  5.6399572e-01,\n",
              "               6.1535007e-01, -3.5656548e-01, -2.3841407e+00,  7.5262105e-01],\n",
              "             dtype=float32)                                                   ,\n",
              "       array([-1.9932916e+00,  2.4846400e-01, -2.1865184e+00,  6.9526309e-01,\n",
              "               4.2547216e+00,  7.7798837e-01,  3.9007884e-01,  3.8085141e+00,\n",
              "              -2.1303561e-01, -1.5895600e+00,  5.1071858e+00,  1.3393784e+00,\n",
              "              -3.4330647e+00,  1.1369569e+00, -1.7243585e-01,  2.1113183e+00,\n",
              "               9.5785451e-01,  2.5051376e-01, -1.9956824e+00, -1.8585222e+00,\n",
              "               1.4446620e+00, -8.0131304e-01, -1.1819474e+00,  3.3721942e-01,\n",
              "               1.1402299e-01, -1.4364463e+00, -2.1134024e+00, -4.3075168e-01,\n",
              "              -4.3965799e-01,  5.5599016e-01,  7.8426927e-01, -6.0230475e-02,\n",
              "              -8.4556800e-01, -1.9779851e+00, -2.1958330e+00, -6.8156135e-01,\n",
              "              -1.2247596e-01,  4.0348709e-01,  9.1163367e-01, -1.6226320e-01,\n",
              "               4.6341580e-01,  7.5941525e-02, -5.5364299e-01,  3.7763566e-01,\n",
              "              -1.9830163e+00,  1.4207914e+00,  1.0458279e+00, -2.2788348e+00,\n",
              "              -5.6829292e-01,  1.4976352e+00, -1.3781067e+00,  2.0388329e+00,\n",
              "              -7.1767800e-02, -5.0594950e+00, -6.2324059e-01,  7.9135686e-01,\n",
              "              -4.7119939e-01,  1.1228281e+00,  8.2957113e-01, -7.9202384e-01,\n",
              "               2.9850185e-01, -8.4064084e-01,  5.0923926e-01, -1.1595278e+00,\n",
              "               2.9486585e+00,  1.6341912e+00, -2.2053020e+00, -2.8425436e+00,\n",
              "               5.9657592e-01,  1.9028608e+00, -2.6111025e-01, -1.2320459e+00,\n",
              "              -1.6970820e+00, -2.6120970e-03, -2.8909230e-01,  1.3843540e+00,\n",
              "              -2.7388604e+00,  2.6886568e+00, -3.1951652e+00,  1.9545044e-01,\n",
              "              -4.2204056e+00,  3.6554220e-03,  7.9789531e-01,  1.3620460e+00,\n",
              "               1.9600048e+00,  1.3329337e-02, -2.4291551e+00, -3.1675475e+00,\n",
              "               8.8541830e-01, -7.5958735e-01, -7.0176768e-01, -2.4746688e-01,\n",
              "               1.1828744e+00, -3.1575074e+00,  5.6153387e-01, -7.6670462e-01,\n",
              "               6.6981477e-01, -1.0249679e+00,  9.3352109e-01,  2.1808667e+00,\n",
              "               2.6950157e+00,  1.1736966e+00,  1.9951190e+00,  3.3237345e+00,\n",
              "              -5.4592103e-01,  3.9933436e+00,  5.8938932e-01, -2.7548263e+00,\n",
              "               1.4249711e-01, -3.8789129e+00,  1.6770549e+00,  8.0698389e-01,\n",
              "              -1.2198114e+00,  8.5219169e-01,  1.0825522e+00,  7.5684410e-01,\n",
              "              -1.2641050e+00, -7.3508090e-01, -2.2651653e-01, -1.2394967e+00,\n",
              "              -1.0166911e+00, -2.9140375e+00,  1.0466131e+00,  9.2559808e-01,\n",
              "              -7.9535180e-01, -3.1877370e+00,  8.3383203e-01, -2.3468611e+00,\n",
              "               3.0365665e+00, -1.6106576e+00, -2.9774439e+00, -2.9670170e-01,\n",
              "               3.6743464e+00, -1.2386534e-01,  9.8215371e-02,  9.2355955e-01,\n",
              "              -1.6845561e+00, -4.9155077e-01,  2.4955873e+00, -1.8204161e+00,\n",
              "              -2.0126743e+00, -1.0366551e+00,  3.1631106e-01,  1.2761499e+00,\n",
              "               7.5305927e-01,  8.4997725e-01, -3.7942238e+00, -6.0996461e-01,\n",
              "               8.1382269e-01,  1.1039693e+00,  1.2843719e-01,  2.2485368e+00,\n",
              "               8.0340676e-02,  1.6291920e+00, -1.4524579e+00,  3.5428759e-01,\n",
              "               2.6138041e+00, -7.0191097e-01, -2.5054874e+00, -1.6684201e+00,\n",
              "              -6.0604095e-01, -2.2187572e+00, -1.9820316e-01,  2.0185852e+00,\n",
              "              -1.5930189e+00, -1.7033690e+00, -3.8754754e+00,  1.0441104e+00,\n",
              "               2.4684000e-01,  3.6235847e-02,  1.2357886e+00, -3.1618050e-01,\n",
              "               1.8339448e+00,  2.7976400e-01,  1.4591534e+00,  7.0372581e-01,\n",
              "               2.5922132e-01, -8.1522346e-02, -2.5689077e+00, -1.5599260e+00,\n",
              "              -1.4418623e+00,  5.3849477e-01,  1.0720886e+00, -5.4330584e-02,\n",
              "              -1.0536267e+00,  8.0137378e-01, -1.2804244e+00,  3.0211467e-01,\n",
              "               1.2967175e+00,  2.1645679e+00, -2.7100623e-01, -1.7104864e+00,\n",
              "               4.3441664e-02, -1.5623828e+00,  2.6326743e-01,  1.0400758e+00,\n",
              "              -2.8818903e+00, -8.6896247e-01,  8.5513620e-03,  5.0207961e-01,\n",
              "              -8.8358456e-01, -1.4653425e+00,  5.8087540e-01, -2.0925894e+00,\n",
              "               3.8329153e+00,  7.5473952e-01, -3.6851869e+00,  1.7760631e+00,\n",
              "              -2.2115569e-01, -3.4883273e-01,  1.3411347e+00,  4.3645459e-01,\n",
              "              -1.4645720e+00,  1.7949110e+00,  8.4930450e-01,  2.4085031e+00,\n",
              "               9.9393934e-01, -2.4516292e+00, -1.6835745e-01,  2.0531322e-01,\n",
              "              -1.9888197e+00,  1.0268059e+00, -3.9056006e-01, -1.6079231e-01,\n",
              "              -1.8840623e+00, -1.1960912e+00, -3.9187439e-02,  2.5164535e+00,\n",
              "               7.2157735e-01,  4.9309839e-02,  3.0334713e+00, -2.2750967e+00,\n",
              "              -7.6305258e-01,  1.6461807e+00,  2.1678407e+00,  1.4336665e+00,\n",
              "              -1.2396334e+00,  4.1298470e-01, -3.2784966e-01, -2.4246670e-01,\n",
              "              -8.6025786e-01,  5.4439038e-01,  1.4655333e+00,  1.4971626e-01,\n",
              "              -9.5712495e-01,  1.9896024e+00, -2.4903595e+00,  3.8272846e-01,\n",
              "               2.6126847e-01,  2.6793134e+00,  8.2441610e-01, -2.6714773e+00,\n",
              "              -3.9410067e+00, -5.5041760e-01,  5.6531179e-01, -2.3334539e+00,\n",
              "               1.7106031e+00, -7.1031743e-01,  5.0419289e-01,  9.9524897e-01,\n",
              "              -7.2829294e-01,  4.3200598e+00,  2.4553273e+00,  2.0252898e+00,\n",
              "               1.9832345e+00, -8.2690144e-01, -9.2256228e-03,  2.3866906e+00,\n",
              "              -2.7500210e+00, -5.5310771e-02,  3.7656747e-02,  2.1379842e-01,\n",
              "               8.1060654e-01, -2.0155942e+00,  1.1225886e+00, -6.8309587e-01,\n",
              "               1.1456949e+00, -1.9272031e+00, -1.0707757e+00,  1.4174845e+00,\n",
              "               2.2404199e+00,  4.0199524e-01,  8.1187707e-01,  6.1185408e-01,\n",
              "               1.9832202e+00, -6.8711156e-01,  2.1066681e-01,  1.7319990e+00,\n",
              "              -1.0676608e+00,  1.5904395e-01,  1.9161469e-01, -3.7682304e-01,\n",
              "              -1.2341954e+00, -5.2605715e-02, -1.0241162e+00,  1.3457072e+00,\n",
              "               4.4081149e-01, -1.3525535e+00, -1.7199287e+00,  1.0860982e+00],\n",
              "             dtype=float32)                                                   ],\n",
              "      dtype=object)"
            ]
          },
          "metadata": {},
          "execution_count": 42
        }
      ]
    },
    {
      "cell_type": "code",
      "source": [
        "X_train"
      ],
      "metadata": {
        "colab": {
          "base_uri": "https://localhost:8080/"
        },
        "id": "SA3hgv41ks_Z",
        "outputId": "a5c6c8e1-aa58-44b2-fac4-2c9e28751df4"
      },
      "execution_count": null,
      "outputs": [
        {
          "output_type": "execute_result",
          "data": {
            "text/plain": [
              "array([array([-1.43912745e+00,  1.04403555e+00, -1.43774247e+00,  4.48632270e-01,\n",
              "               4.04274940e+00,  4.50091779e-01,  5.68367004e-01,  4.02366495e+00,\n",
              "              -8.55758369e-01, -1.19812393e+00,  5.35979080e+00,  1.31302571e+00,\n",
              "              -3.18560386e+00,  1.03715241e+00,  6.06318772e-01,  1.59066069e+00,\n",
              "               6.90424383e-01,  1.67503767e-02, -1.08400476e+00, -8.21604490e-01,\n",
              "               7.90713966e-01, -3.79960150e-01, -1.35397065e+00, -4.92445022e-01,\n",
              "              -6.82762682e-01, -1.38891280e+00, -1.45744169e+00, -1.08699608e+00,\n",
              "              -2.30993748e-01,  8.85327697e-01,  7.64005542e-01, -1.85499236e-01,\n",
              "              -9.28330004e-01, -1.40800178e+00, -2.23732042e+00, -6.16078556e-01,\n",
              "              -5.53457201e-01,  6.07449114e-01,  1.40692711e+00,  5.73823929e-01,\n",
              "               1.85379252e-01,  1.21078178e-01, -2.63683982e-02,  7.49444485e-01,\n",
              "              -1.12400115e+00,  1.07275522e+00,  4.83317256e-01, -2.29664016e+00,\n",
              "              -7.78310895e-01,  1.84308279e+00, -1.15638602e+00,  1.04728127e+00,\n",
              "               6.04163826e-01, -4.28859806e+00, -6.89391255e-01,  5.21663606e-01,\n",
              "               3.24102521e-01,  7.74617553e-01,  7.60913253e-01, -4.59911600e-02,\n",
              "               7.94022679e-01, -3.73823583e-01, -1.08100489e-01, -1.06852782e+00,\n",
              "               1.87559426e+00,  1.74982083e+00, -2.32608867e+00, -3.26535916e+00,\n",
              "               5.21074533e-01,  2.05396080e+00, -1.83873594e-01, -6.68087542e-01,\n",
              "              -1.68841624e+00,  5.87321706e-02, -5.51548302e-01,  1.00697172e+00,\n",
              "              -2.31440067e+00,  1.95081472e+00, -3.09948754e+00,  4.04812276e-01,\n",
              "              -3.80278420e+00, -1.82927966e-01,  1.21511984e+00,  9.86463428e-01,\n",
              "               2.09423590e+00, -3.67140889e-01, -1.33037555e+00, -2.81265998e+00,\n",
              "               1.26904845e+00, -7.68472373e-01, -5.50856054e-01, -1.65209636e-01,\n",
              "               2.12275553e+00, -3.39243269e+00,  4.59186465e-01, -1.04593563e+00,\n",
              "               5.05946994e-01, -7.74817467e-01,  1.03209984e+00,  9.89850760e-01,\n",
              "               1.99840713e+00,  1.62940514e+00,  1.80464160e+00,  3.07182097e+00,\n",
              "              -3.94033581e-01,  3.74420309e+00,  4.59003687e-01, -1.74540102e+00,\n",
              "              -5.40043175e-01, -2.73039961e+00,  9.23339188e-01,  7.46570587e-01,\n",
              "              -1.19608009e+00,  1.02948320e+00,  1.37441778e+00,  6.73222065e-01,\n",
              "              -9.95549381e-01, -7.99797475e-01, -1.28977716e-01, -1.29755497e+00,\n",
              "              -6.21384919e-01, -3.24275160e+00,  7.19382763e-01,  1.01338315e+00,\n",
              "              -6.36525989e-01, -2.98488140e+00,  1.19157684e+00, -2.04787993e+00,\n",
              "               2.51177311e+00, -1.54517603e+00, -2.49892116e+00, -2.34213352e-01,\n",
              "               3.25054407e+00, -1.07210982e+00, -2.09295854e-01,  5.35865545e-01,\n",
              "              -1.48934364e+00, -8.44801843e-01,  2.77304053e+00, -2.09193492e+00,\n",
              "              -1.62241030e+00, -7.85902441e-01,  9.31290388e-01,  1.49666119e+00,\n",
              "               6.85811400e-01,  3.53480697e-01, -3.34265542e+00,  1.49227623e-02,\n",
              "               6.93310142e-01,  6.49848580e-01, -2.50686318e-01,  2.36814165e+00,\n",
              "               2.42089823e-01,  1.58968222e+00, -1.60753942e+00,  1.21617007e+00,\n",
              "               2.53545666e+00, -5.54543376e-01, -2.28702760e+00, -1.09059405e+00,\n",
              "              -4.04508293e-01, -2.67975140e+00, -1.81645691e-01,  2.00550342e+00,\n",
              "              -2.42689943e+00, -1.95110619e+00, -3.49983954e+00,  1.36514974e+00,\n",
              "              -2.17674389e-01,  4.55358356e-01,  9.94749188e-01, -5.55839650e-02,\n",
              "               2.36192536e+00,  3.90748531e-01,  1.62399435e+00,  2.54059702e-01,\n",
              "              -4.77632046e-01, -4.48291376e-03, -2.27425671e+00, -1.21365654e+00,\n",
              "              -8.73938680e-01,  2.93325871e-01,  1.40949702e+00, -3.50919008e-01,\n",
              "              -1.29663491e+00,  6.69890642e-01, -1.43663931e+00, -5.33542454e-01,\n",
              "               1.09227371e+00,  1.62807584e+00, -4.98215169e-01, -1.28064704e+00,\n",
              "              -3.12760472e-01, -1.46962988e+00, -2.64745086e-01,  3.18456590e-01,\n",
              "              -3.00907087e+00, -3.97846222e-01, -1.20680369e-01,  5.82415402e-01,\n",
              "              -1.13700950e+00, -1.27598810e+00, -9.77694429e-03, -2.40642786e+00,\n",
              "               2.26244664e+00,  8.59667659e-01, -2.48143458e+00,  1.08926964e+00,\n",
              "              -5.58806002e-01, -5.04964590e-01,  1.23280919e+00,  8.80107462e-01,\n",
              "              -1.02307606e+00,  1.95102346e+00,  7.40315378e-01,  2.38922358e+00,\n",
              "              -1.06108591e-01, -1.91369534e+00, -5.09431422e-01,  4.52890158e-01,\n",
              "              -2.21115088e+00,  7.75804460e-01,  2.21944943e-01,  7.49995768e-01,\n",
              "              -1.62853038e+00, -5.05122721e-01,  4.50467974e-01,  2.39273453e+00,\n",
              "               1.28759694e+00, -1.04637206e-01,  1.98689914e+00, -2.19934225e+00,\n",
              "              -6.49430096e-01,  1.42402840e+00,  1.17781687e+00,  1.22280884e+00,\n",
              "              -1.49515390e+00,  1.13019013e+00, -1.71369389e-01,  1.95855469e-01,\n",
              "              -9.66203511e-01,  3.40010524e-01,  1.89538848e+00,  2.40938589e-01,\n",
              "              -8.21422875e-01,  1.30092645e+00, -2.18384957e+00,  4.17487277e-03,\n",
              "               4.81641799e-01,  2.47317576e+00,  5.91634154e-01, -1.99788308e+00,\n",
              "              -4.13186312e+00, -1.20761879e-01,  3.00261080e-01, -2.03360224e+00,\n",
              "               1.63751423e+00,  2.32341737e-01,  4.85606678e-02,  1.43686938e+00,\n",
              "              -4.43400055e-01,  4.00219917e+00,  2.40605068e+00,  2.28553343e+00,\n",
              "               1.72559512e+00, -4.43250805e-01,  3.63147222e-02,  2.19386935e+00,\n",
              "              -3.22886658e+00, -2.48732045e-01,  6.54305637e-01, -6.35375977e-01,\n",
              "               1.53330145e-02, -1.49192262e+00,  7.62524009e-01, -1.04557537e-01,\n",
              "               9.36241686e-01, -1.27619231e+00, -7.81510651e-01,  1.87007296e+00,\n",
              "               1.07854199e+00, -1.13946974e-01,  7.63536012e-03,  9.06784415e-01,\n",
              "               2.43775463e+00, -6.50012553e-01,  7.30113864e-01,  1.31042969e+00,\n",
              "              -1.02256477e+00,  9.33501050e-02,  6.32641375e-01, -8.38731527e-01,\n",
              "              -8.17753971e-01, -5.83822846e-01, -1.01971304e+00,  1.19482422e+00,\n",
              "               8.22443426e-01, -2.23773301e-01, -2.25486445e+00,  5.00229239e-01],\n",
              "             dtype=float32)                                                       ,\n",
              "       array([-1.82178152e+00,  3.13418865e-01, -1.58502936e+00,  5.47579169e-01,\n",
              "               4.64964724e+00,  2.91731328e-01,  3.81893128e-01,  3.70725274e+00,\n",
              "               2.67890692e-01, -4.96309668e-01,  4.11141253e+00,  1.56407809e+00,\n",
              "              -2.91633415e+00,  1.07278883e+00,  5.80097139e-01,  1.97644389e+00,\n",
              "               7.01058209e-01, -1.11214653e-01, -6.50961876e-01, -1.52666783e+00,\n",
              "               1.32949078e+00, -1.12206376e+00, -8.79350722e-01,  2.02038333e-01,\n",
              "               1.00281149e-01, -1.12837529e+00, -2.58766961e+00, -1.10818398e+00,\n",
              "              -4.68540639e-02,  5.27897596e-01,  7.41614521e-01, -2.48279303e-01,\n",
              "              -9.75685120e-01, -1.97590220e+00, -2.48953581e+00, -1.08775187e+00,\n",
              "              -1.08225191e+00,  1.03112841e+00,  6.46476090e-01,  3.79915297e-01,\n",
              "               1.97007373e-01,  4.10502285e-01, -3.30953598e-01,  1.87829912e-01,\n",
              "              -1.46121383e+00,  8.28015566e-01,  2.11066559e-01, -1.90751123e+00,\n",
              "              -6.74376309e-01,  1.69135725e+00, -9.83835459e-01,  1.54135752e+00,\n",
              "              -3.42649072e-02, -4.14537716e+00, -2.59650290e-01,  6.73489690e-01,\n",
              "              -8.10214579e-02,  4.37482446e-01,  9.70048368e-01, -1.67592376e-01,\n",
              "              -5.76019168e-01, -1.17635989e+00,  1.20456576e-01, -7.94548988e-01,\n",
              "               2.26580691e+00,  1.01389349e+00, -2.12128472e+00, -2.13151693e+00,\n",
              "               9.78380799e-01,  1.89635170e+00, -7.72056043e-01, -9.54248846e-01,\n",
              "              -2.10391426e+00, -2.93980896e-01, -5.23322672e-02,  1.29914784e+00,\n",
              "              -2.14400864e+00,  2.06292176e+00, -2.69297123e+00, -1.39389917e-01,\n",
              "              -3.75385404e+00, -6.99048817e-01,  2.71019936e-01,  8.30204248e-01,\n",
              "               3.05078912e+00, -1.14095941e-01, -2.16533995e+00, -2.95203590e+00,\n",
              "               6.44662499e-01, -8.90037656e-01, -1.34830689e+00, -3.14508468e-01,\n",
              "               1.35787094e+00, -2.40165925e+00,  6.91718280e-01, -1.20527232e+00,\n",
              "               1.07954550e+00, -1.35246718e+00,  8.95896196e-01,  1.54580319e+00,\n",
              "               1.88662291e+00,  1.12624335e+00,  2.26978230e+00,  2.58226657e+00,\n",
              "              -7.51111090e-01,  2.94238997e+00,  6.52800739e-01, -1.69149864e+00,\n",
              "               3.23493898e-01, -3.07054019e+00,  9.82240856e-01,  9.16196585e-01,\n",
              "              -1.44158757e+00,  6.62263930e-02,  1.26340854e+00,  2.19731063e-01,\n",
              "              -8.88418794e-01, -1.81317613e-01,  6.51556998e-02, -1.09144104e+00,\n",
              "              -7.98142254e-01, -2.74102688e+00,  8.81283343e-01,  1.25143743e+00,\n",
              "              -7.96275258e-01, -2.98225760e+00,  1.38342392e+00, -1.74495578e+00,\n",
              "               2.47761345e+00, -8.42374444e-01, -2.42668986e+00, -5.13515174e-01,\n",
              "               3.30024576e+00, -8.95590961e-01,  2.47061208e-01,  6.07609749e-01,\n",
              "              -1.77629793e+00, -5.39625049e-01,  2.75502539e+00, -1.95249045e+00,\n",
              "              -1.46098077e+00, -7.13793278e-01, -4.38781619e-01,  1.49928439e+00,\n",
              "               1.11168313e+00,  1.01256776e+00, -3.35651946e+00, -1.00074604e-01,\n",
              "               1.14745426e+00,  8.71229112e-01,  7.52118886e-01,  1.62399912e+00,\n",
              "               3.79965186e-01,  1.60083663e+00, -1.20037711e+00,  5.74613035e-01,\n",
              "               2.46473265e+00, -4.96297538e-01, -2.03810883e+00, -1.04833090e+00,\n",
              "              -2.38843828e-01, -2.39102197e+00, -2.84988791e-01,  1.89700329e+00,\n",
              "              -2.06249166e+00, -1.42999887e+00, -3.04640961e+00,  1.27499688e+00,\n",
              "               1.30919248e-01,  9.16959286e-01,  8.61149371e-01,  2.23038316e-01,\n",
              "               2.21071315e+00, -3.40178423e-02,  1.13662720e+00,  2.72596627e-01,\n",
              "              -2.52041757e-01, -2.53684700e-01, -2.17219830e+00, -1.53606808e+00,\n",
              "              -9.35635686e-01,  2.88397133e-01,  7.27586687e-01,  1.52456477e-01,\n",
              "              -8.90914202e-01,  6.13148928e-01, -1.27208161e+00,  2.26608559e-01,\n",
              "               6.28474176e-01,  1.16975009e+00,  1.12642586e-01, -1.46956146e+00,\n",
              "               3.62884670e-01, -1.35499752e+00,  8.58247504e-02,  6.82387531e-01,\n",
              "              -2.32051492e+00,  4.41148039e-03, -2.46673282e-02,  7.56042242e-01,\n",
              "              -6.78589582e-01, -1.68945909e+00,  1.86351016e-01, -2.34996629e+00,\n",
              "               3.07983112e+00,  7.39993274e-01, -2.46868062e+00,  1.27305746e+00,\n",
              "              -7.77063429e-01, -2.92903066e-01,  1.17733383e+00,  4.97715950e-01,\n",
              "              -1.46885860e+00,  1.29319406e+00,  1.00421512e+00,  2.11224174e+00,\n",
              "               3.37269962e-01, -1.52423823e+00,  1.51832039e-02, -3.05001616e-01,\n",
              "              -1.91797340e+00,  1.22624719e+00, -3.39726776e-01,  7.34147668e-01,\n",
              "              -2.33614421e+00, -8.26517165e-01,  5.95622718e-01,  1.94079328e+00,\n",
              "               1.16385198e+00,  5.91353104e-02,  2.35683346e+00, -1.69213581e+00,\n",
              "              -5.74645817e-01,  1.45940709e+00,  1.76043284e+00,  1.78103566e+00,\n",
              "              -1.37596381e+00,  5.87709129e-01, -7.39070535e-01, -2.66989321e-01,\n",
              "              -8.21656287e-01, -1.19617619e-01,  1.19287097e+00, -3.41599286e-01,\n",
              "              -1.47556257e+00,  1.51526630e+00, -2.41863012e+00, -1.52804479e-01,\n",
              "              -3.59481782e-01,  2.50373673e+00,  9.70937252e-01, -2.29301715e+00,\n",
              "              -4.19643068e+00,  8.24608132e-02,  1.35199413e-01, -1.97447324e+00,\n",
              "               1.80013514e+00, -7.63978660e-01,  3.21129590e-01,  1.04438281e+00,\n",
              "              -1.22473031e-01,  3.92285585e+00,  2.11582589e+00,  1.72139502e+00,\n",
              "               1.70710397e+00, -1.00186455e+00, -1.51665404e-01,  2.00584745e+00,\n",
              "              -2.70567489e+00, -1.15472503e-01,  2.29111075e-01, -1.71732411e-01,\n",
              "               2.59251326e-01, -1.71122825e+00,  8.76435995e-01, -2.84738451e-01,\n",
              "               1.57242274e+00, -1.47976089e+00, -1.90669268e-01,  1.89399636e+00,\n",
              "               1.27454734e+00,  2.11711004e-01,  8.25088084e-01,  5.89302659e-01,\n",
              "               1.65940702e+00, -5.39591432e-01, -4.09291774e-01,  1.08264244e+00,\n",
              "              -5.71692705e-01,  1.35394812e-01,  4.83230352e-01, -5.68044186e-01,\n",
              "              -9.20629427e-02,  3.13331448e-02, -1.24451876e+00,  1.22260594e+00,\n",
              "               4.03532475e-01, -9.60444152e-01, -1.47144163e+00,  3.87195945e-01],\n",
              "             dtype=float32)                                                       ,\n",
              "       array([-0.92736703,  0.8655568 , -1.8261776 ,  0.12263664,  3.7739575 ,\n",
              "              -0.2697458 , -0.5988622 ,  3.872203  ,  1.2684429 , -0.21653669,\n",
              "               3.9316769 ,  0.19238251, -3.6482074 ,  0.9792717 ,  0.5069875 ,\n",
              "               1.3318149 ,  1.1697751 , -0.23598485, -0.05198072, -2.2068093 ,\n",
              "               0.95133334,  0.59257597, -2.103572  , -0.2707683 , -1.4999384 ,\n",
              "              -2.1071625 , -0.7189782 , -0.5142058 ,  0.30341253,  1.4490051 ,\n",
              "               2.706577  , -0.9604459 , -1.8773317 , -1.3810257 , -2.191456  ,\n",
              "              -0.1315634 ,  0.17638803, -0.18000491,  1.0947828 , -0.1713591 ,\n",
              "               0.57342535,  0.21023674,  0.22178666, -1.6329502 , -1.8261086 ,\n",
              "              -0.06989167,  0.34691572, -2.1294208 ,  0.6902116 ,  0.49560413,\n",
              "              -0.35729328,  1.4527941 , -0.17616999, -4.84359   ,  0.07774335,\n",
              "               1.9636275 , -0.79544574,  1.7416531 ,  1.4854375 ,  1.3326759 ,\n",
              "              -0.22398172,  0.2940142 ,  0.5881658 ,  0.7974062 ,  2.1287367 ,\n",
              "               0.8786158 , -2.767683  , -2.5647697 , -0.7620774 ,  2.1764042 ,\n",
              "              -1.6071717 ,  0.27878413, -0.6306866 ,  0.68031573, -0.7580085 ,\n",
              "               1.9247516 ,  0.44169906,  2.875292  , -2.4742115 , -1.0074571 ,\n",
              "              -3.4972334 ,  0.5987399 ,  0.12498084, -0.3842994 ,  3.4764082 ,\n",
              "              -1.9436785 , -1.5913936 , -1.2587742 ,  0.41315284, -0.12254915,\n",
              "              -1.8529624 , -1.1027981 ,  0.18911766, -2.2407043 ,  0.23847444,\n",
              "              -1.4890299 , -0.24932915, -1.7465743 ,  0.8365601 ,  2.014424  ,\n",
              "               2.092001  ,  0.37029028,  2.8507283 ,  4.6870847 ,  0.6014898 ,\n",
              "               3.8782241 ,  0.5804625 , -2.0106332 , -0.61729306, -3.2316418 ,\n",
              "               1.1234332 ,  2.356549  , -2.807414  ,  1.2306157 ,  1.5526934 ,\n",
              "               0.5467892 , -1.941625  ,  0.69301766,  0.931385  , -0.04085247,\n",
              "              -1.4988791 , -2.9422073 ,  0.42573157,  1.9380957 ,  0.28125918,\n",
              "              -2.9596093 , -1.0535725 , -1.8814625 ,  2.0543778 , -2.83354   ,\n",
              "              -2.3217108 ,  0.60736084,  3.4997637 , -2.343041  ,  0.73518926,\n",
              "               0.0471608 , -1.4897383 , -0.9936392 ,  2.2969677 , -0.34081665,\n",
              "              -0.09889445, -0.9331792 , -1.327616  ,  1.0041058 , -0.36941662,\n",
              "               1.7550985 , -2.7589166 , -1.3584448 ,  1.0231401 ,  1.9643941 ,\n",
              "               1.7039164 ,  2.5418127 ,  1.2401799 ,  3.4493895 , -2.0024717 ,\n",
              "               0.50094503,  3.4514353 ,  1.2456818 , -2.3657942 , -1.2011923 ,\n",
              "              -0.9822424 ,  0.06604   , -0.16017504,  1.9933342 , -2.199385  ,\n",
              "              -0.71062344, -2.6538265 ,  0.7059373 ,  0.44899938,  2.2672217 ,\n",
              "               0.8860616 ,  1.139295  ,  0.0808541 ,  1.5737082 ,  0.20461416,\n",
              "               0.16651376,  0.21635419, -0.12176577, -3.0343502 , -2.2009532 ,\n",
              "              -2.2298841 ,  1.3908267 ,  1.0195316 , -2.1825876 , -1.8547629 ,\n",
              "               0.37163666, -1.4545592 ,  1.1299322 ,  0.7231984 ,  0.7302408 ,\n",
              "              -0.8486717 ,  0.21541817, -0.5296325 , -3.3198032 , -1.2590492 ,\n",
              "              -0.12456999, -1.8946661 , -0.84597355, -0.46394253, -0.16173588,\n",
              "              -1.1026217 , -1.3717996 ,  0.4236734 , -2.5260792 ,  3.645685  ,\n",
              "               1.4335542 , -2.121515  ,  3.0723193 , -0.6800875 , -2.9935439 ,\n",
              "               2.0468707 ,  0.58989835, -0.9993067 ,  1.2428633 ,  2.3201525 ,\n",
              "               2.320779  ,  1.2942142 , -2.2744074 , -1.0592475 , -0.5217683 ,\n",
              "              -0.87278587,  1.0811449 , -0.68253994,  0.59455836, -2.1487916 ,\n",
              "              -2.2118201 , -0.82149553,  1.719319  ,  1.8489357 ,  1.1487007 ,\n",
              "               3.957877  , -1.275805  , -0.5653108 ,  2.5955658 ,  1.7400142 ,\n",
              "               0.8745833 , -2.5884292 , -0.02595582, -0.5702483 , -0.6140516 ,\n",
              "              -0.7668584 ,  0.0147633 ,  1.3672017 ,  0.8019724 , -3.417189  ,\n",
              "              -0.41056833, -1.5955685 ,  0.3498    , -0.52172166,  2.2444649 ,\n",
              "               2.0888727 , -1.4864925 , -3.7607222 , -0.84953016, -1.1527079 ,\n",
              "              -1.8950824 ,  2.4352176 , -0.08825082, -0.01065913,  1.1587892 ,\n",
              "               0.08433644,  2.9164698 ,  1.2632236 ,  3.324296  ,  2.3913665 ,\n",
              "               0.44630504, -1.2087642 ,  0.7324069 , -2.3344033 ,  0.48838606,\n",
              "              -0.54092383, -0.34109175,  0.4950975 , -2.5792148 ,  0.0656025 ,\n",
              "              -1.4458933 ,  2.0137813 , -1.0866042 , -0.48917332,  1.2274767 ,\n",
              "               2.323706  , -0.8292399 , -1.365846  , -0.24684088,  0.8161833 ,\n",
              "              -0.17015505,  0.16230816, -0.37140834, -0.35296252,  0.21745169,\n",
              "               0.13147497, -1.0041242 , -1.0984875 ,  0.17944644,  0.34905747,\n",
              "               1.4148822 ,  0.7002642 , -2.62519   , -1.2099462 ,  0.5647885 ],\n",
              "             dtype=float32)                                                    ,\n",
              "       ...,\n",
              "       array([-1.52073729e+00,  1.09053469e+00, -2.01783299e+00,  8.10429603e-02,\n",
              "               3.70938611e+00,  6.14950180e-01,  5.45621693e-01,  3.99226856e+00,\n",
              "              -6.65878057e-01, -1.24664915e+00,  5.37765217e+00,  1.08493137e+00,\n",
              "              -2.76599789e+00,  6.48336112e-01,  6.69330776e-01,  2.03612113e+00,\n",
              "               9.02179778e-01, -3.44751388e-01, -9.77942467e-01, -1.19238508e+00,\n",
              "               1.54734111e+00, -8.61096621e-01, -4.52816397e-01, -9.31817234e-01,\n",
              "              -6.24061823e-01, -1.22518003e+00, -2.12026548e+00, -7.30946064e-01,\n",
              "              -3.60183239e-01,  1.02848971e+00,  9.32218611e-01, -2.66402781e-01,\n",
              "              -6.36589646e-01, -1.56810749e+00, -2.51036024e+00, -8.82071435e-01,\n",
              "              -5.28406560e-01,  7.16594934e-01,  1.28315806e+00,  6.91229403e-01,\n",
              "               1.91348851e-01,  9.00894180e-02,  7.33592436e-02, -9.91255865e-02,\n",
              "              -1.46212757e+00,  9.77722406e-01,  7.99611449e-01, -2.75184989e+00,\n",
              "              -1.15180779e+00,  2.01595616e+00, -1.11692441e+00,  1.31497002e+00,\n",
              "               4.57159817e-01, -4.43925571e+00, -6.05423033e-01,  2.19696134e-01,\n",
              "               4.07081157e-01,  1.03418398e+00,  1.03212273e+00,  1.17793918e-01,\n",
              "               7.74022877e-01, -7.24604547e-01,  3.01035792e-01, -1.09788549e+00,\n",
              "               1.97246754e+00,  1.51733971e+00, -2.53379655e+00, -3.01918721e+00,\n",
              "               4.78218704e-01,  2.17575574e+00,  4.84896675e-02, -7.76829660e-01,\n",
              "              -1.75692689e+00, -1.08405858e-01, -4.17002976e-01,  1.26156163e+00,\n",
              "              -2.41387844e+00,  2.14823127e+00, -3.37250352e+00, -5.91794401e-02,\n",
              "              -3.98708153e+00, -5.62705815e-01,  1.30734909e+00,  8.16489697e-01,\n",
              "               2.41600537e+00,  1.13680847e-01, -1.61658800e+00, -3.01555562e+00,\n",
              "               9.55642521e-01, -9.22672451e-01, -7.91133165e-01, -5.17552078e-01,\n",
              "               1.58694601e+00, -3.80272293e+00,  7.65230775e-01, -1.42207444e+00,\n",
              "               8.79151225e-01, -1.20066535e+00,  8.44837070e-01,  1.07450700e+00,\n",
              "               1.99787343e+00,  1.52992272e+00,  1.78354466e+00,  3.05555320e+00,\n",
              "              -4.40591156e-01,  3.45592093e+00,  1.59561962e-01, -2.10647798e+00,\n",
              "              -1.18270449e-01, -3.15636325e+00,  7.87073374e-01,  7.90480375e-01,\n",
              "              -8.70505333e-01,  1.05702055e+00,  1.21984386e+00,  3.04785907e-01,\n",
              "              -1.21657145e+00, -9.53791201e-01, -5.68816543e-01, -7.01566756e-01,\n",
              "              -8.27983081e-01, -2.96965718e+00,  7.68853426e-01,  1.06936693e+00,\n",
              "              -8.86791646e-01, -2.27004123e+00,  1.19661665e+00, -1.64969504e+00,\n",
              "               2.45329237e+00, -1.57989907e+00, -2.67470598e+00, -2.26594999e-01,\n",
              "               3.25908804e+00, -8.51117551e-01, -3.55995893e-01,  8.19350183e-01,\n",
              "              -1.42375183e+00, -7.26354241e-01,  3.24992085e+00, -2.20711184e+00,\n",
              "              -1.74999022e+00, -1.10113096e+00,  5.68842232e-01,  1.38807273e+00,\n",
              "               4.10505414e-01,  5.04020274e-01, -3.69178987e+00, -4.16771024e-02,\n",
              "               5.36331773e-01,  6.31190419e-01, -3.44405115e-01,  2.51175880e+00,\n",
              "               6.70346394e-02,  1.63002586e+00, -1.44716978e+00,  1.34836102e+00,\n",
              "               2.43332458e+00, -6.29269540e-01, -2.40666080e+00, -9.35571969e-01,\n",
              "              -1.15245633e-01, -2.64119101e+00, -6.95627809e-01,  1.48099625e+00,\n",
              "              -2.25195432e+00, -1.97814453e+00, -3.63557935e+00,  1.55338335e+00,\n",
              "              -6.93685114e-01,  3.65848064e-01,  1.37951350e+00, -1.33817096e-03,\n",
              "               2.33312774e+00,  2.05598339e-01,  1.52636445e+00,  2.82273930e-03,\n",
              "              -6.84561729e-01, -1.58374146e-01, -1.83166981e+00, -1.60247028e+00,\n",
              "              -8.21662307e-01,  5.43086946e-01,  1.66681516e+00,  8.59399736e-02,\n",
              "              -1.07724655e+00,  8.10426474e-01, -1.38495696e+00, -9.75246251e-01,\n",
              "               1.70087814e+00,  2.19097304e+00, -3.99230599e-01, -1.07689202e+00,\n",
              "              -9.20148566e-02, -1.00385487e+00, -3.62024546e-01,  4.38551083e-02,\n",
              "              -2.78202891e+00, -7.34454319e-02,  8.49800184e-03,  8.96207094e-01,\n",
              "              -1.17204213e+00, -1.02770543e+00,  2.07894668e-02, -2.49042773e+00,\n",
              "               2.31151009e+00,  1.20878005e+00, -3.04051614e+00,  8.22967112e-01,\n",
              "              -7.32177854e-01, -1.42076790e-01,  1.19307029e+00,  5.70141196e-01,\n",
              "              -1.18441355e+00,  2.08394170e+00,  6.28406227e-01,  2.17504048e+00,\n",
              "               1.24559551e-02, -1.74727964e+00, -2.21365377e-01, -3.55563797e-02,\n",
              "              -2.44645429e+00,  7.41282642e-01, -8.62995237e-02,  7.37233639e-01,\n",
              "              -1.67229140e+00, -5.66949069e-01,  2.71621376e-01,  2.23675609e+00,\n",
              "               9.58104908e-01,  2.96709947e-02,  1.94874728e+00, -2.36777949e+00,\n",
              "              -6.05567217e-01,  1.50678933e+00,  1.40060413e+00,  1.00316954e+00,\n",
              "              -1.34905481e+00,  9.19762254e-01,  1.37045145e-01, -2.20542654e-01,\n",
              "              -6.17466867e-01,  6.12456024e-01,  1.82299674e+00,  1.32517204e-01,\n",
              "              -7.45236754e-01,  1.38351727e+00, -1.82253397e+00,  4.76376042e-02,\n",
              "               3.82814080e-01,  2.59396529e+00,  4.91137713e-01, -1.74193799e+00,\n",
              "              -4.07172441e+00, -1.22965612e-01,  5.07019937e-01, -2.10899639e+00,\n",
              "               1.57834256e+00,  1.10417366e-01,  1.02493100e-01,  1.39797139e+00,\n",
              "              -2.57500172e-01,  3.66186666e+00,  2.91105914e+00,  2.18228722e+00,\n",
              "               1.85831475e+00, -4.23042536e-01,  1.65696770e-01,  2.55546784e+00,\n",
              "              -3.20889807e+00, -6.88591525e-02,  5.35015285e-01, -6.39339983e-01,\n",
              "               2.77593523e-01, -1.60446918e+00,  8.54441226e-01, -5.11759579e-01,\n",
              "               1.22128928e+00, -1.54532957e+00, -1.05116940e+00,  1.84396970e+00,\n",
              "               7.07362771e-01, -3.21966648e-01,  2.18678474e-01,  7.53196299e-01,\n",
              "               3.13923168e+00, -5.69881201e-01,  5.49552441e-01,  1.19958723e+00,\n",
              "              -1.13743150e+00,  2.60024130e-01,  6.20781243e-01, -9.30635631e-01,\n",
              "              -5.74765205e-01, -1.36112899e-01, -1.49356639e+00,  1.20877802e+00,\n",
              "               6.84635043e-01, -2.79278815e-01, -2.09874725e+00,  8.22893858e-01],\n",
              "             dtype=float32)                                                       ,\n",
              "       array([-2.0492861e+00,  4.0792048e-01, -1.9147568e+00,  1.2201858e+00,\n",
              "               3.8676460e+00,  1.0512900e+00,  5.3744483e-01,  4.8281593e+00,\n",
              "              -8.8858414e-01, -1.2648336e+00,  3.5083911e+00,  2.9042144e+00,\n",
              "              -4.7996626e+00,  1.4501418e+00,  4.6767235e-01,  2.0304515e+00,\n",
              "               1.8535703e+00, -1.1152546e+00, -1.7923876e+00, -2.0685308e+00,\n",
              "               4.4784483e-01, -5.5080855e-01, -2.3186747e-02, -3.6262572e-01,\n",
              "              -1.1170433e+00, -4.8575905e-01, -1.7258638e+00, -4.4476083e-01,\n",
              "              -5.6893051e-01,  1.2901342e+00, -5.1388621e-01,  8.4176618e-01,\n",
              "              -6.5572852e-01, -3.4688473e+00, -6.7096817e-01, -6.7998415e-01,\n",
              "               1.9649515e-02,  1.1468010e+00,  1.4239862e+00,  1.3416424e+00,\n",
              "               1.8898432e+00, -1.1229585e+00,  1.4740640e-01,  1.1180342e-01,\n",
              "              -1.7000371e+00,  9.0789139e-01,  2.0941839e+00, -2.3877156e+00,\n",
              "              -1.2215718e+00,  2.8170741e+00, -1.4449129e+00,  2.4786069e+00,\n",
              "              -4.2185301e-01, -6.4211235e+00, -1.3763448e+00,  1.4520705e+00,\n",
              "              -5.8232635e-01,  1.5734323e+00,  1.0057411e+00,  2.9828858e-01,\n",
              "               1.7501600e+00, -9.7431755e-01,  5.8577675e-01, -1.8627746e+00,\n",
              "               2.7855392e+00,  8.3757198e-01, -3.0185421e+00, -3.3192582e+00,\n",
              "               6.5081857e-02,  2.1674809e+00, -3.5828272e-01, -2.1930873e+00,\n",
              "              -1.2220296e+00,  9.9879764e-02, -5.6730974e-02,  1.3482835e+00,\n",
              "              -2.0869961e+00,  1.3218853e+00, -1.8373454e+00,  8.5383117e-01,\n",
              "              -3.8683221e+00, -8.2509011e-01,  7.3921955e-01,  2.0951302e+00,\n",
              "               4.8719144e-01, -1.1053644e-01, -1.8612813e+00, -3.4709604e+00,\n",
              "               1.1123034e+00, -6.2407339e-01, -1.1020319e+00,  9.8921424e-01,\n",
              "               1.0810468e+00, -3.2874374e+00,  8.6925572e-01,  2.2852466e-02,\n",
              "               8.3523834e-01, -7.7270335e-01,  8.9971977e-01,  2.9975779e+00,\n",
              "               3.2433298e+00,  1.7653524e+00,  3.1226709e+00,  2.4889719e+00,\n",
              "               5.2162999e-01,  4.2170677e+00, -1.6649234e-01, -2.5948031e+00,\n",
              "              -2.0298142e+00, -4.3265176e+00,  1.4154718e+00, -4.0251482e-01,\n",
              "              -2.0085523e+00,  2.6569495e-01,  5.2069271e-01,  2.2247205e+00,\n",
              "              -1.0229616e+00, -2.2046711e+00,  6.0848904e-01, -2.2996860e+00,\n",
              "              -1.8637868e+00, -2.7021432e+00, -2.4688585e-02, -9.6710557e-01,\n",
              "              -5.8978540e-01, -2.3492105e+00,  2.1867750e+00, -2.6299305e+00,\n",
              "               5.7962626e-01, -1.2308664e+00, -3.6155908e+00, -1.0193378e-01,\n",
              "               4.2271452e+00,  4.1589710e-01,  1.3660877e+00,  8.0230111e-01,\n",
              "              -2.6459019e+00, -3.8598955e-01,  2.5510612e+00, -2.2895799e+00,\n",
              "              -1.5181648e+00, -1.9943254e+00,  4.7956443e-01,  4.9201584e-01,\n",
              "               1.3285425e+00,  2.2168443e+00, -4.2072778e+00, -4.7366628e-01,\n",
              "               1.4760336e-01,  1.6115244e-02, -1.6067599e+00,  2.8092816e+00,\n",
              "              -3.4522137e-01,  2.4481938e+00, -8.0119145e-01,  7.6974940e-01,\n",
              "               2.9684777e+00,  2.5906730e-01, -2.8564312e+00, -9.2712021e-01,\n",
              "              -1.0655482e+00, -3.0380137e+00, -7.0729291e-01,  1.3358308e+00,\n",
              "              -2.2968419e+00, -2.2954578e+00, -5.4889517e+00,  2.1600947e+00,\n",
              "               8.7421620e-01, -4.5957576e-02,  9.4368681e-02, -6.0478050e-02,\n",
              "               1.8928648e+00,  1.0491316e+00,  1.4630743e+00,  3.7985855e-01,\n",
              "              -5.7446986e-01,  3.0554387e-01, -3.5365462e+00, -2.5997896e+00,\n",
              "              -9.2147225e-01,  1.9700194e-03,  1.7165118e+00,  6.7305422e-01,\n",
              "              -1.6918228e+00,  8.1745440e-01, -2.2395661e+00, -2.6642572e-02,\n",
              "               1.6080884e+00,  1.3398358e+00, -5.7286292e-01, -9.3158007e-01,\n",
              "              -1.3670210e+00, -1.5228168e+00, -8.9373815e-01,  6.7238651e-02,\n",
              "              -2.8398716e+00,  5.8743906e-01, -7.5064337e-01,  1.8111128e+00,\n",
              "              -2.2062566e+00, -2.5550504e+00,  1.3851339e+00, -1.8218079e+00,\n",
              "               3.3582833e+00, -3.7054718e-01, -3.6480234e+00,  2.4486949e+00,\n",
              "               1.0273179e+00, -6.1466627e-02,  1.8530466e-01, -4.6034673e-01,\n",
              "              -1.1431860e+00,  1.1125772e+00,  6.8062288e-01,  2.2134163e+00,\n",
              "               4.5102528e-01, -2.5369601e+00, -1.4990881e-01,  1.9998062e+00,\n",
              "              -2.1192417e+00,  9.3101740e-01, -2.7768999e-01,  5.7731766e-02,\n",
              "              -1.5199215e+00, -2.1342041e+00,  1.0962501e+00,  3.4160495e+00,\n",
              "               5.4606396e-01, -1.3844706e-02,  2.6156979e+00, -2.3365946e+00,\n",
              "              -1.0526708e+00,  5.4012090e-01,  4.4415174e+00,  1.3509817e+00,\n",
              "              -1.2256130e+00,  9.8902911e-01,  6.3379431e-01, -8.7656987e-01,\n",
              "              -1.4029112e+00, -2.8144076e-01,  1.3063674e-01, -2.3292372e-02,\n",
              "              -1.9544594e+00,  1.8116747e+00, -3.5095708e+00,  5.7210666e-01,\n",
              "               4.0465721e-01,  3.0230412e+00, -1.9164254e-01, -3.0222163e+00,\n",
              "              -3.7511792e+00, -9.2502677e-01,  1.9657655e+00, -3.1693721e+00,\n",
              "               1.5938919e+00, -9.8176283e-01,  4.3284702e-01,  2.6245115e+00,\n",
              "              -1.6139963e+00,  5.7071977e+00,  2.4135165e+00,  2.6751406e+00,\n",
              "               3.6587470e+00,  4.7654560e-01,  2.7577668e-01,  2.4206805e+00,\n",
              "              -3.0459471e+00, -1.4410495e+00, -6.6861999e-01, -1.4887053e+00,\n",
              "               1.9090383e+00, -2.3876479e+00,  1.5065863e+00, -1.5919013e+00,\n",
              "               6.6228664e-01, -2.0220222e+00, -1.1320286e+00,  1.6364830e+00,\n",
              "               1.7364987e+00,  3.7934521e-01, -7.3581839e-01,  9.9305928e-01,\n",
              "               1.9610335e-01, -1.2246093e-01, -2.2627126e-02,  2.3550510e+00,\n",
              "              -6.0863769e-01, -1.1708235e+00,  1.1938028e+00, -4.7998625e-01,\n",
              "              -5.8979857e-01, -2.3956287e-01, -1.2143942e+00,  5.6399572e-01,\n",
              "               6.1535007e-01, -3.5656548e-01, -2.3841407e+00,  7.5262105e-01],\n",
              "             dtype=float32)                                                   ,\n",
              "       array([-1.9932916e+00,  2.4846400e-01, -2.1865184e+00,  6.9526309e-01,\n",
              "               4.2547216e+00,  7.7798837e-01,  3.9007884e-01,  3.8085141e+00,\n",
              "              -2.1303561e-01, -1.5895600e+00,  5.1071858e+00,  1.3393784e+00,\n",
              "              -3.4330647e+00,  1.1369569e+00, -1.7243585e-01,  2.1113183e+00,\n",
              "               9.5785451e-01,  2.5051376e-01, -1.9956824e+00, -1.8585222e+00,\n",
              "               1.4446620e+00, -8.0131304e-01, -1.1819474e+00,  3.3721942e-01,\n",
              "               1.1402299e-01, -1.4364463e+00, -2.1134024e+00, -4.3075168e-01,\n",
              "              -4.3965799e-01,  5.5599016e-01,  7.8426927e-01, -6.0230475e-02,\n",
              "              -8.4556800e-01, -1.9779851e+00, -2.1958330e+00, -6.8156135e-01,\n",
              "              -1.2247596e-01,  4.0348709e-01,  9.1163367e-01, -1.6226320e-01,\n",
              "               4.6341580e-01,  7.5941525e-02, -5.5364299e-01,  3.7763566e-01,\n",
              "              -1.9830163e+00,  1.4207914e+00,  1.0458279e+00, -2.2788348e+00,\n",
              "              -5.6829292e-01,  1.4976352e+00, -1.3781067e+00,  2.0388329e+00,\n",
              "              -7.1767800e-02, -5.0594950e+00, -6.2324059e-01,  7.9135686e-01,\n",
              "              -4.7119939e-01,  1.1228281e+00,  8.2957113e-01, -7.9202384e-01,\n",
              "               2.9850185e-01, -8.4064084e-01,  5.0923926e-01, -1.1595278e+00,\n",
              "               2.9486585e+00,  1.6341912e+00, -2.2053020e+00, -2.8425436e+00,\n",
              "               5.9657592e-01,  1.9028608e+00, -2.6111025e-01, -1.2320459e+00,\n",
              "              -1.6970820e+00, -2.6120970e-03, -2.8909230e-01,  1.3843540e+00,\n",
              "              -2.7388604e+00,  2.6886568e+00, -3.1951652e+00,  1.9545044e-01,\n",
              "              -4.2204056e+00,  3.6554220e-03,  7.9789531e-01,  1.3620460e+00,\n",
              "               1.9600048e+00,  1.3329337e-02, -2.4291551e+00, -3.1675475e+00,\n",
              "               8.8541830e-01, -7.5958735e-01, -7.0176768e-01, -2.4746688e-01,\n",
              "               1.1828744e+00, -3.1575074e+00,  5.6153387e-01, -7.6670462e-01,\n",
              "               6.6981477e-01, -1.0249679e+00,  9.3352109e-01,  2.1808667e+00,\n",
              "               2.6950157e+00,  1.1736966e+00,  1.9951190e+00,  3.3237345e+00,\n",
              "              -5.4592103e-01,  3.9933436e+00,  5.8938932e-01, -2.7548263e+00,\n",
              "               1.4249711e-01, -3.8789129e+00,  1.6770549e+00,  8.0698389e-01,\n",
              "              -1.2198114e+00,  8.5219169e-01,  1.0825522e+00,  7.5684410e-01,\n",
              "              -1.2641050e+00, -7.3508090e-01, -2.2651653e-01, -1.2394967e+00,\n",
              "              -1.0166911e+00, -2.9140375e+00,  1.0466131e+00,  9.2559808e-01,\n",
              "              -7.9535180e-01, -3.1877370e+00,  8.3383203e-01, -2.3468611e+00,\n",
              "               3.0365665e+00, -1.6106576e+00, -2.9774439e+00, -2.9670170e-01,\n",
              "               3.6743464e+00, -1.2386534e-01,  9.8215371e-02,  9.2355955e-01,\n",
              "              -1.6845561e+00, -4.9155077e-01,  2.4955873e+00, -1.8204161e+00,\n",
              "              -2.0126743e+00, -1.0366551e+00,  3.1631106e-01,  1.2761499e+00,\n",
              "               7.5305927e-01,  8.4997725e-01, -3.7942238e+00, -6.0996461e-01,\n",
              "               8.1382269e-01,  1.1039693e+00,  1.2843719e-01,  2.2485368e+00,\n",
              "               8.0340676e-02,  1.6291920e+00, -1.4524579e+00,  3.5428759e-01,\n",
              "               2.6138041e+00, -7.0191097e-01, -2.5054874e+00, -1.6684201e+00,\n",
              "              -6.0604095e-01, -2.2187572e+00, -1.9820316e-01,  2.0185852e+00,\n",
              "              -1.5930189e+00, -1.7033690e+00, -3.8754754e+00,  1.0441104e+00,\n",
              "               2.4684000e-01,  3.6235847e-02,  1.2357886e+00, -3.1618050e-01,\n",
              "               1.8339448e+00,  2.7976400e-01,  1.4591534e+00,  7.0372581e-01,\n",
              "               2.5922132e-01, -8.1522346e-02, -2.5689077e+00, -1.5599260e+00,\n",
              "              -1.4418623e+00,  5.3849477e-01,  1.0720886e+00, -5.4330584e-02,\n",
              "              -1.0536267e+00,  8.0137378e-01, -1.2804244e+00,  3.0211467e-01,\n",
              "               1.2967175e+00,  2.1645679e+00, -2.7100623e-01, -1.7104864e+00,\n",
              "               4.3441664e-02, -1.5623828e+00,  2.6326743e-01,  1.0400758e+00,\n",
              "              -2.8818903e+00, -8.6896247e-01,  8.5513620e-03,  5.0207961e-01,\n",
              "              -8.8358456e-01, -1.4653425e+00,  5.8087540e-01, -2.0925894e+00,\n",
              "               3.8329153e+00,  7.5473952e-01, -3.6851869e+00,  1.7760631e+00,\n",
              "              -2.2115569e-01, -3.4883273e-01,  1.3411347e+00,  4.3645459e-01,\n",
              "              -1.4645720e+00,  1.7949110e+00,  8.4930450e-01,  2.4085031e+00,\n",
              "               9.9393934e-01, -2.4516292e+00, -1.6835745e-01,  2.0531322e-01,\n",
              "              -1.9888197e+00,  1.0268059e+00, -3.9056006e-01, -1.6079231e-01,\n",
              "              -1.8840623e+00, -1.1960912e+00, -3.9187439e-02,  2.5164535e+00,\n",
              "               7.2157735e-01,  4.9309839e-02,  3.0334713e+00, -2.2750967e+00,\n",
              "              -7.6305258e-01,  1.6461807e+00,  2.1678407e+00,  1.4336665e+00,\n",
              "              -1.2396334e+00,  4.1298470e-01, -3.2784966e-01, -2.4246670e-01,\n",
              "              -8.6025786e-01,  5.4439038e-01,  1.4655333e+00,  1.4971626e-01,\n",
              "              -9.5712495e-01,  1.9896024e+00, -2.4903595e+00,  3.8272846e-01,\n",
              "               2.6126847e-01,  2.6793134e+00,  8.2441610e-01, -2.6714773e+00,\n",
              "              -3.9410067e+00, -5.5041760e-01,  5.6531179e-01, -2.3334539e+00,\n",
              "               1.7106031e+00, -7.1031743e-01,  5.0419289e-01,  9.9524897e-01,\n",
              "              -7.2829294e-01,  4.3200598e+00,  2.4553273e+00,  2.0252898e+00,\n",
              "               1.9832345e+00, -8.2690144e-01, -9.2256228e-03,  2.3866906e+00,\n",
              "              -2.7500210e+00, -5.5310771e-02,  3.7656747e-02,  2.1379842e-01,\n",
              "               8.1060654e-01, -2.0155942e+00,  1.1225886e+00, -6.8309587e-01,\n",
              "               1.1456949e+00, -1.9272031e+00, -1.0707757e+00,  1.4174845e+00,\n",
              "               2.2404199e+00,  4.0199524e-01,  8.1187707e-01,  6.1185408e-01,\n",
              "               1.9832202e+00, -6.8711156e-01,  2.1066681e-01,  1.7319990e+00,\n",
              "              -1.0676608e+00,  1.5904395e-01,  1.9161469e-01, -3.7682304e-01,\n",
              "              -1.2341954e+00, -5.2605715e-02, -1.0241162e+00,  1.3457072e+00,\n",
              "               4.4081149e-01, -1.3525535e+00, -1.7199287e+00,  1.0860982e+00],\n",
              "             dtype=float32)                                                   ],\n",
              "      dtype=object)"
            ]
          },
          "metadata": {},
          "execution_count": 43
        }
      ]
    },
    {
      "cell_type": "code",
      "source": [
        "# classifier needs 2d numpy arr\n",
        "# stack fn ->\n",
        "# stack() is used for joining multiple NumPy arrays. Unlike, concatenate(), it joins arrays along a new axis. It returns a NumPy array.\n",
        "# to join 2 arrays, they must have the same shape and dimensions. (e.g. both (2,3)–> 2 rows,3 columns)\n",
        "# stack() creates a new array which has 1 more dimension than the input arrays. If we stack 2 1-D arrays, the resultant array will have 2 dimensions."
      ],
      "metadata": {
        "id": "v26_KemYkzL_"
      },
      "execution_count": null,
      "outputs": []
    },
    {
      "cell_type": "code",
      "source": [
        "import numpy as np\n",
        "x_train_2d = np.stack(X_train)\n",
        "x_test_2d = np.stack(X_test)"
      ],
      "metadata": {
        "id": "b7-Aoix4pPsB"
      },
      "execution_count": null,
      "outputs": []
    },
    {
      "cell_type": "code",
      "source": [
        "from sklearn.naive_bayes import MultinomialNB\n",
        "from sklearn.preprocessing import MinMaxScaler\n",
        "clf = MultinomialNB()\n",
        "# remove negative values\n",
        "scaler = MinMaxScaler()\n",
        "scaled_trin_embed = scaler.fit_transform(x_train_2d)\n",
        "scaled_test_embed = scaler.transform(x_test_2d)\n",
        "clf.fit(scaled_trin_embed,y_train)"
      ],
      "metadata": {
        "colab": {
          "base_uri": "https://localhost:8080/",
          "height": 74
        },
        "id": "Revlao6Qp0dm",
        "outputId": "37ce605d-220b-4df0-b0bc-9f21c2f48373"
      },
      "execution_count": null,
      "outputs": [
        {
          "output_type": "execute_result",
          "data": {
            "text/plain": [
              "MultinomialNB()"
            ],
            "text/html": [
              "<style>#sk-container-id-1 {color: black;background-color: white;}#sk-container-id-1 pre{padding: 0;}#sk-container-id-1 div.sk-toggleable {background-color: white;}#sk-container-id-1 label.sk-toggleable__label {cursor: pointer;display: block;width: 100%;margin-bottom: 0;padding: 0.3em;box-sizing: border-box;text-align: center;}#sk-container-id-1 label.sk-toggleable__label-arrow:before {content: \"▸\";float: left;margin-right: 0.25em;color: #696969;}#sk-container-id-1 label.sk-toggleable__label-arrow:hover:before {color: black;}#sk-container-id-1 div.sk-estimator:hover label.sk-toggleable__label-arrow:before {color: black;}#sk-container-id-1 div.sk-toggleable__content {max-height: 0;max-width: 0;overflow: hidden;text-align: left;background-color: #f0f8ff;}#sk-container-id-1 div.sk-toggleable__content pre {margin: 0.2em;color: black;border-radius: 0.25em;background-color: #f0f8ff;}#sk-container-id-1 input.sk-toggleable__control:checked~div.sk-toggleable__content {max-height: 200px;max-width: 100%;overflow: auto;}#sk-container-id-1 input.sk-toggleable__control:checked~label.sk-toggleable__label-arrow:before {content: \"▾\";}#sk-container-id-1 div.sk-estimator input.sk-toggleable__control:checked~label.sk-toggleable__label {background-color: #d4ebff;}#sk-container-id-1 div.sk-label input.sk-toggleable__control:checked~label.sk-toggleable__label {background-color: #d4ebff;}#sk-container-id-1 input.sk-hidden--visually {border: 0;clip: rect(1px 1px 1px 1px);clip: rect(1px, 1px, 1px, 1px);height: 1px;margin: -1px;overflow: hidden;padding: 0;position: absolute;width: 1px;}#sk-container-id-1 div.sk-estimator {font-family: monospace;background-color: #f0f8ff;border: 1px dotted black;border-radius: 0.25em;box-sizing: border-box;margin-bottom: 0.5em;}#sk-container-id-1 div.sk-estimator:hover {background-color: #d4ebff;}#sk-container-id-1 div.sk-parallel-item::after {content: \"\";width: 100%;border-bottom: 1px solid gray;flex-grow: 1;}#sk-container-id-1 div.sk-label:hover label.sk-toggleable__label {background-color: #d4ebff;}#sk-container-id-1 div.sk-serial::before {content: \"\";position: absolute;border-left: 1px solid gray;box-sizing: border-box;top: 0;bottom: 0;left: 50%;z-index: 0;}#sk-container-id-1 div.sk-serial {display: flex;flex-direction: column;align-items: center;background-color: white;padding-right: 0.2em;padding-left: 0.2em;position: relative;}#sk-container-id-1 div.sk-item {position: relative;z-index: 1;}#sk-container-id-1 div.sk-parallel {display: flex;align-items: stretch;justify-content: center;background-color: white;position: relative;}#sk-container-id-1 div.sk-item::before, #sk-container-id-1 div.sk-parallel-item::before {content: \"\";position: absolute;border-left: 1px solid gray;box-sizing: border-box;top: 0;bottom: 0;left: 50%;z-index: -1;}#sk-container-id-1 div.sk-parallel-item {display: flex;flex-direction: column;z-index: 1;position: relative;background-color: white;}#sk-container-id-1 div.sk-parallel-item:first-child::after {align-self: flex-end;width: 50%;}#sk-container-id-1 div.sk-parallel-item:last-child::after {align-self: flex-start;width: 50%;}#sk-container-id-1 div.sk-parallel-item:only-child::after {width: 0;}#sk-container-id-1 div.sk-dashed-wrapped {border: 1px dashed gray;margin: 0 0.4em 0.5em 0.4em;box-sizing: border-box;padding-bottom: 0.4em;background-color: white;}#sk-container-id-1 div.sk-label label {font-family: monospace;font-weight: bold;display: inline-block;line-height: 1.2em;}#sk-container-id-1 div.sk-label-container {text-align: center;}#sk-container-id-1 div.sk-container {/* jupyter's `normalize.less` sets `[hidden] { display: none; }` but bootstrap.min.css set `[hidden] { display: none !important; }` so we also need the `!important` here to be able to override the default hidden behavior on the sphinx rendered scikit-learn.org. See: https://github.com/scikit-learn/scikit-learn/issues/21755 */display: inline-block !important;position: relative;}#sk-container-id-1 div.sk-text-repr-fallback {display: none;}</style><div id=\"sk-container-id-1\" class=\"sk-top-container\"><div class=\"sk-text-repr-fallback\"><pre>MultinomialNB()</pre><b>In a Jupyter environment, please rerun this cell to show the HTML representation or trust the notebook. <br />On GitHub, the HTML representation is unable to render, please try loading this page with nbviewer.org.</b></div><div class=\"sk-container\" hidden><div class=\"sk-item\"><div class=\"sk-estimator sk-toggleable\"><input class=\"sk-toggleable__control sk-hidden--visually\" id=\"sk-estimator-id-1\" type=\"checkbox\" checked><label for=\"sk-estimator-id-1\" class=\"sk-toggleable__label sk-toggleable__label-arrow\">MultinomialNB</label><div class=\"sk-toggleable__content\"><pre>MultinomialNB()</pre></div></div></div></div></div>"
            ]
          },
          "metadata": {},
          "execution_count": 48
        }
      ]
    },
    {
      "cell_type": "code",
      "source": [
        "from sklearn.metrics import classification_report\n",
        "y_pred = clf.predict(scaled_test_embed)\n",
        "print(classification_report(y_test,y_pred))"
      ],
      "metadata": {
        "colab": {
          "base_uri": "https://localhost:8080/"
        },
        "id": "QONjep3Ap99q",
        "outputId": "c8070872-3fd9-4655-9e41-bd04e810a653"
      },
      "execution_count": null,
      "outputs": [
        {
          "output_type": "stream",
          "name": "stdout",
          "text": [
            "              precision    recall  f1-score   support\n",
            "\n",
            "           0       0.81      0.68      0.74       629\n",
            "           1       0.73      0.84      0.78       638\n",
            "\n",
            "    accuracy                           0.76      1267\n",
            "   macro avg       0.77      0.76      0.76      1267\n",
            "weighted avg       0.77      0.76      0.76      1267\n",
            "\n"
          ]
        }
      ]
    },
    {
      "cell_type": "code",
      "source": [
        "from sklearn.neighbors import KNeighborsClassifier\n",
        "clf = KNeighborsClassifier(n_neighbors=5,metric='euclidean')\n",
        "clf.fit(x_train_2d,y_train)\n",
        "y_pred_ = clf.predict(x_test_2d)\n",
        "print(classification_report(y_test,y_pred_))"
      ],
      "metadata": {
        "colab": {
          "base_uri": "https://localhost:8080/"
        },
        "id": "eaNST2g9r4Qk",
        "outputId": "c6c1d268-2ee1-497d-d81a-46f9f5041989"
      },
      "execution_count": null,
      "outputs": [
        {
          "output_type": "stream",
          "name": "stdout",
          "text": [
            "              precision    recall  f1-score   support\n",
            "\n",
            "           0       0.90      0.79      0.84       629\n",
            "           1       0.81      0.92      0.86       638\n",
            "\n",
            "    accuracy                           0.85      1267\n",
            "   macro avg       0.86      0.85      0.85      1267\n",
            "weighted avg       0.86      0.85      0.85      1267\n",
            "\n"
          ]
        }
      ]
    },
    {
      "cell_type": "code",
      "source": [
        "# knn works well with dense data due to vectors"
      ],
      "metadata": {
        "id": "cTOOjXG3sPRA"
      },
      "execution_count": null,
      "outputs": []
    },
    {
      "cell_type": "markdown",
      "source": [
        "***Gensim -> for word2vec***"
      ],
      "metadata": {
        "id": "wcP42-HAtbg9"
      }
    },
    {
      "cell_type": "code",
      "source": [
        "import gensim.downloader as api\n",
        "wv = api.load(\"word2vec-google-news-300\")"
      ],
      "metadata": {
        "colab": {
          "base_uri": "https://localhost:8080/"
        },
        "id": "j79U-Xd-s2m-",
        "outputId": "d21ec0ea-994d-4fe9-8c2a-0e6f56c30313"
      },
      "execution_count": null,
      "outputs": [
        {
          "output_type": "stream",
          "name": "stdout",
          "text": [
            "[==================================================] 100.0% 1662.8/1662.8MB downloaded\n"
          ]
        }
      ]
    },
    {
      "cell_type": "code",
      "source": [
        "wv.similarity(w1=\"great\",w2=\"well\")"
      ],
      "metadata": {
        "colab": {
          "base_uri": "https://localhost:8080/"
        },
        "id": "oZ689Gths3BQ",
        "outputId": "6bb2a355-0ec4-4464-bd35-26c0cddd1071"
      },
      "execution_count": null,
      "outputs": [
        {
          "output_type": "execute_result",
          "data": {
            "text/plain": [
              "0.4098271"
            ]
          },
          "metadata": {},
          "execution_count": 56
        }
      ]
    },
    {
      "cell_type": "code",
      "source": [
        " wv.most_similar(\"good\")"
      ],
      "metadata": {
        "colab": {
          "base_uri": "https://localhost:8080/"
        },
        "id": "JcsYGjLUwZ5v",
        "outputId": "83a90d8b-3ee8-4886-a033-a5f0a8ffdae0"
      },
      "execution_count": null,
      "outputs": [
        {
          "output_type": "execute_result",
          "data": {
            "text/plain": [
              "[('great', 0.7291510105133057),\n",
              " ('bad', 0.7190051078796387),\n",
              " ('terrific', 0.6889115571975708),\n",
              " ('decent', 0.6837348341941833),\n",
              " ('nice', 0.6836092472076416),\n",
              " ('excellent', 0.644292950630188),\n",
              " ('fantastic', 0.6407778263092041),\n",
              " ('better', 0.6120728850364685),\n",
              " ('solid', 0.5806034803390503),\n",
              " ('lousy', 0.576420247554779)]"
            ]
          },
          "metadata": {},
          "execution_count": 57
        }
      ]
    },
    {
      "cell_type": "code",
      "source": [
        "# similar doesnt mean language synonym \n",
        "wv.most_similar(positive=[\"france\",\"berlin\"],negative=[\"paris\"])\n",
        "# subtracting capital from country and adding other capital"
      ],
      "metadata": {
        "colab": {
          "base_uri": "https://localhost:8080/"
        },
        "id": "u-N1I-Q2wqJh",
        "outputId": "b25e412c-e507-4ea0-e1b7-48e075be5ac4"
      },
      "execution_count": null,
      "outputs": [
        {
          "output_type": "execute_result",
          "data": {
            "text/plain": [
              "[('germany', 0.5094343423843384),\n",
              " ('european', 0.48650455474853516),\n",
              " ('german', 0.4714890420436859),\n",
              " ('austria', 0.46964022517204285),\n",
              " ('swedish', 0.4645182490348816),\n",
              " ('Wissenschaft', 0.4532880485057831),\n",
              " ('denmark', 0.4477355182170868),\n",
              " ('München', 0.4438532590866089),\n",
              " ('europe', 0.4420619308948517),\n",
              " ('belgium', 0.43769752979278564)]"
            ]
          },
          "metadata": {},
          "execution_count": 59
        }
      ]
    },
    {
      "cell_type": "code",
      "source": [
        "wv.doesnt_match([\"dog\",\"cat\",\"burger\"])"
      ],
      "metadata": {
        "colab": {
          "base_uri": "https://localhost:8080/",
          "height": 36
        },
        "id": "9rint3-oBvap",
        "outputId": "bb4128d7-3e3a-4d60-c038-6d88228f717b"
      },
      "execution_count": null,
      "outputs": [
        {
          "output_type": "execute_result",
          "data": {
            "text/plain": [
              "'burger'"
            ],
            "application/vnd.google.colaboratory.intrinsic+json": {
              "type": "string"
            }
          },
          "metadata": {},
          "execution_count": 60
        }
      ]
    },
    {
      "cell_type": "code",
      "source": [
        "glv = api.load(\"glove-twitter-25\")"
      ],
      "metadata": {
        "colab": {
          "base_uri": "https://localhost:8080/"
        },
        "id": "iL1hJ7IWB8Qs",
        "outputId": "f1d58022-5962-4b32-de9c-5f2930b6204c"
      },
      "execution_count": null,
      "outputs": [
        {
          "output_type": "stream",
          "name": "stdout",
          "text": [
            "[================================================--] 97.4% 102.1/104.8MB downloaded\n"
          ]
        }
      ]
    },
    {
      "cell_type": "code",
      "source": [
        "glv.doesnt_match(\"banana grapes orange lion\".split())"
      ],
      "metadata": {
        "colab": {
          "base_uri": "https://localhost:8080/",
          "height": 36
        },
        "id": "qgF6KeozCAUl",
        "outputId": "637b5a56-bd97-464d-b90f-0ce3c9e40bd8"
      },
      "execution_count": null,
      "outputs": [
        {
          "output_type": "execute_result",
          "data": {
            "text/plain": [
              "'lion'"
            ],
            "application/vnd.google.colaboratory.intrinsic+json": {
              "type": "string"
            }
          },
          "metadata": {},
          "execution_count": 66
        }
      ]
    },
    {
      "cell_type": "code",
      "source": [
        "def preprocess_and_vec(text):\n",
        "  doc = nlp(text)\n",
        "  filtered_tokens = []\n",
        "  for token in doc :\n",
        "    if token.is_punct or token.is_stop :\n",
        "      continue\n",
        "    filtered_tokens.append(token.lemma_)\n",
        "  return wv.get_mean_vector(filtered_tokens)"
      ],
      "metadata": {
        "id": "qTGG6B_KCZk_"
      },
      "execution_count": null,
      "outputs": []
    },
    {
      "cell_type": "code",
      "source": [
        "df_final.head()"
      ],
      "metadata": {
        "colab": {
          "base_uri": "https://localhost:8080/",
          "height": 12294
        },
        "id": "uP9uvMR1DePg",
        "outputId": "37654ed6-e93d-4b0b-af23-6e2be8129f0b"
      },
      "execution_count": null,
      "outputs": [
        {
          "output_type": "execute_result",
          "data": {
            "text/plain": [
              "                                                text  label_  \\\n",
              "0  Daniel Greenfield, a Shillman Journalism Fello...       0   \n",
              "1  Google Pinterest Digg Linkedin Reddit Stumbleu...       0   \n",
              "2  U.S. Secretary of State John F. Kerry said Mon...       1   \n",
              "3  — Kaydee King (@KaydeeKing) November 9, 2016 T...       0   \n",
              "4  It's primary day in New York and front-runners...       1   \n",
              "\n",
              "                                              vector  \n",
              "0  [-1.3751823, 1.3421849, -2.3666484, 0.12908486...  \n",
              "1  [-1.7449774, 0.93961924, -2.024867, 0.42536643...  \n",
              "2  [-1.9426425, 1.0062195, -1.9992222, 0.20469022...  \n",
              "3  [-1.9125352, -0.1481846, -1.1432766, 0.6861217...  \n",
              "4  [-1.8516092, 1.3163909, -2.1726575, 1.2286776,...  "
            ],
            "text/html": [
              "\n",
              "  <div id=\"df-2fe820d6-bf4f-412f-becc-5428b4d22bd7\">\n",
              "    <div class=\"colab-df-container\">\n",
              "      <div>\n",
              "<style scoped>\n",
              "    .dataframe tbody tr th:only-of-type {\n",
              "        vertical-align: middle;\n",
              "    }\n",
              "\n",
              "    .dataframe tbody tr th {\n",
              "        vertical-align: top;\n",
              "    }\n",
              "\n",
              "    .dataframe thead th {\n",
              "        text-align: right;\n",
              "    }\n",
              "</style>\n",
              "<table border=\"1\" class=\"dataframe\">\n",
              "  <thead>\n",
              "    <tr style=\"text-align: right;\">\n",
              "      <th></th>\n",
              "      <th>text</th>\n",
              "      <th>label_</th>\n",
              "      <th>vector</th>\n",
              "    </tr>\n",
              "  </thead>\n",
              "  <tbody>\n",
              "    <tr>\n",
              "      <th>0</th>\n",
              "      <td>Daniel Greenfield, a Shillman Journalism Fello...</td>\n",
              "      <td>0</td>\n",
              "      <td>[-1.3751823, 1.3421849, -2.3666484, 0.12908486...</td>\n",
              "    </tr>\n",
              "    <tr>\n",
              "      <th>1</th>\n",
              "      <td>Google Pinterest Digg Linkedin Reddit Stumbleu...</td>\n",
              "      <td>0</td>\n",
              "      <td>[-1.7449774, 0.93961924, -2.024867, 0.42536643...</td>\n",
              "    </tr>\n",
              "    <tr>\n",
              "      <th>2</th>\n",
              "      <td>U.S. Secretary of State John F. Kerry said Mon...</td>\n",
              "      <td>1</td>\n",
              "      <td>[-1.9426425, 1.0062195, -1.9992222, 0.20469022...</td>\n",
              "    </tr>\n",
              "    <tr>\n",
              "      <th>3</th>\n",
              "      <td>— Kaydee King (@KaydeeKing) November 9, 2016 T...</td>\n",
              "      <td>0</td>\n",
              "      <td>[-1.9125352, -0.1481846, -1.1432766, 0.6861217...</td>\n",
              "    </tr>\n",
              "    <tr>\n",
              "      <th>4</th>\n",
              "      <td>It's primary day in New York and front-runners...</td>\n",
              "      <td>1</td>\n",
              "      <td>[-1.8516092, 1.3163909, -2.1726575, 1.2286776,...</td>\n",
              "    </tr>\n",
              "  </tbody>\n",
              "</table>\n",
              "</div>\n",
              "      <button class=\"colab-df-convert\" onclick=\"convertToInteractive('df-2fe820d6-bf4f-412f-becc-5428b4d22bd7')\"\n",
              "              title=\"Convert this dataframe to an interactive table.\"\n",
              "              style=\"display:none;\">\n",
              "        \n",
              "  <svg xmlns=\"http://www.w3.org/2000/svg\" height=\"24px\"viewBox=\"0 0 24 24\"\n",
              "       width=\"24px\">\n",
              "    <path d=\"M0 0h24v24H0V0z\" fill=\"none\"/>\n",
              "    <path d=\"M18.56 5.44l.94 2.06.94-2.06 2.06-.94-2.06-.94-.94-2.06-.94 2.06-2.06.94zm-11 1L8.5 8.5l.94-2.06 2.06-.94-2.06-.94L8.5 2.5l-.94 2.06-2.06.94zm10 10l.94 2.06.94-2.06 2.06-.94-2.06-.94-.94-2.06-.94 2.06-2.06.94z\"/><path d=\"M17.41 7.96l-1.37-1.37c-.4-.4-.92-.59-1.43-.59-.52 0-1.04.2-1.43.59L10.3 9.45l-7.72 7.72c-.78.78-.78 2.05 0 2.83L4 21.41c.39.39.9.59 1.41.59.51 0 1.02-.2 1.41-.59l7.78-7.78 2.81-2.81c.8-.78.8-2.07 0-2.86zM5.41 20L4 18.59l7.72-7.72 1.47 1.35L5.41 20z\"/>\n",
              "  </svg>\n",
              "      </button>\n",
              "      \n",
              "  <style>\n",
              "    .colab-df-container {\n",
              "      display:flex;\n",
              "      flex-wrap:wrap;\n",
              "      gap: 12px;\n",
              "    }\n",
              "\n",
              "    .colab-df-convert {\n",
              "      background-color: #E8F0FE;\n",
              "      border: none;\n",
              "      border-radius: 50%;\n",
              "      cursor: pointer;\n",
              "      display: none;\n",
              "      fill: #1967D2;\n",
              "      height: 32px;\n",
              "      padding: 0 0 0 0;\n",
              "      width: 32px;\n",
              "    }\n",
              "\n",
              "    .colab-df-convert:hover {\n",
              "      background-color: #E2EBFA;\n",
              "      box-shadow: 0px 1px 2px rgba(60, 64, 67, 0.3), 0px 1px 3px 1px rgba(60, 64, 67, 0.15);\n",
              "      fill: #174EA6;\n",
              "    }\n",
              "\n",
              "    [theme=dark] .colab-df-convert {\n",
              "      background-color: #3B4455;\n",
              "      fill: #D2E3FC;\n",
              "    }\n",
              "\n",
              "    [theme=dark] .colab-df-convert:hover {\n",
              "      background-color: #434B5C;\n",
              "      box-shadow: 0px 1px 3px 1px rgba(0, 0, 0, 0.15);\n",
              "      filter: drop-shadow(0px 1px 2px rgba(0, 0, 0, 0.3));\n",
              "      fill: #FFFFFF;\n",
              "    }\n",
              "  </style>\n",
              "\n",
              "      <script>\n",
              "        const buttonEl =\n",
              "          document.querySelector('#df-2fe820d6-bf4f-412f-becc-5428b4d22bd7 button.colab-df-convert');\n",
              "        buttonEl.style.display =\n",
              "          google.colab.kernel.accessAllowed ? 'block' : 'none';\n",
              "\n",
              "        async function convertToInteractive(key) {\n",
              "          const element = document.querySelector('#df-2fe820d6-bf4f-412f-becc-5428b4d22bd7');\n",
              "          const dataTable =\n",
              "            await google.colab.kernel.invokeFunction('convertToInteractive',\n",
              "                                                     [key], {});\n",
              "          if (!dataTable) return;\n",
              "\n",
              "          const docLinkHtml = 'Like what you see? Visit the ' +\n",
              "            '<a target=\"_blank\" href=https://colab.research.google.com/notebooks/data_table.ipynb>data table notebook</a>'\n",
              "            + ' to learn more about interactive tables.';\n",
              "          element.innerHTML = '';\n",
              "          dataTable['output_type'] = 'display_data';\n",
              "          await google.colab.output.renderOutput(dataTable, element);\n",
              "          const docLink = document.createElement('div');\n",
              "          docLink.innerHTML = docLinkHtml;\n",
              "          element.appendChild(docLink);\n",
              "        }\n",
              "      </script>\n",
              "    </div>\n",
              "  </div>\n",
              "  "
            ]
          },
          "metadata": {},
          "execution_count": 69
        },
        {
          "output_type": "stream",
          "name": "stdout",
          "text": [
            "Error: Runtime no longer has a reference to this dataframe, please re-run this cell and try again.\n",
            "Error: Runtime no longer has a reference to this dataframe, please re-run this cell and try again.\n",
            "Error: Runtime no longer has a reference to this dataframe, please re-run this cell and try again.\n",
            "Error: Runtime no longer has a reference to this dataframe, please re-run this cell and try again.\n",
            "Error: Runtime no longer has a reference to this dataframe, please re-run this cell and try again.\n"
          ]
        }
      ]
    },
    {
      "cell_type": "code",
      "source": [
        "df_final = df_final.drop(['vector'],axis=1)"
      ],
      "metadata": {
        "id": "BqcemZJXEMDw"
      },
      "execution_count": null,
      "outputs": []
    },
    {
      "cell_type": "code",
      "source": [
        "df_final['vector']=df_final['text'].apply(lambda text: preprocess_and_vec(text))"
      ],
      "metadata": {
        "id": "k3jRhgZkESMO"
      },
      "execution_count": null,
      "outputs": []
    },
    {
      "cell_type": "code",
      "source": [
        "df_final.head()"
      ],
      "metadata": {
        "colab": {
          "base_uri": "https://localhost:8080/",
          "height": 337
        },
        "id": "GgOZfEcEEf8q",
        "outputId": "96637725-355d-4f9e-f95c-b06affdbddf0"
      },
      "execution_count": null,
      "outputs": [
        {
          "output_type": "execute_result",
          "data": {
            "text/plain": [
              "                                                text  label_  \\\n",
              "0  Daniel Greenfield, a Shillman Journalism Fello...       0   \n",
              "1  Google Pinterest Digg Linkedin Reddit Stumbleu...       0   \n",
              "2  U.S. Secretary of State John F. Kerry said Mon...       1   \n",
              "3  — Kaydee King (@KaydeeKing) November 9, 2016 T...       0   \n",
              "4  It's primary day in New York and front-runners...       1   \n",
              "\n",
              "                                              vector  \n",
              "0  [0.024779696, 0.012828968, -0.00094372977, 0.0...  \n",
              "1  [0.027095925, 0.010018359, -0.003129262, 0.026...  \n",
              "2  [0.007654696, 0.017431496, 0.01465004, 0.02029...  \n",
              "3  [0.026231475, 0.0026343616, -0.004902629, 0.01...  \n",
              "4  [0.017099572, 0.012396541, -0.0035264697, -0.0...  "
            ],
            "text/html": [
              "\n",
              "  <div id=\"df-9c43af32-26d1-42ae-8ee0-9eb75e142291\">\n",
              "    <div class=\"colab-df-container\">\n",
              "      <div>\n",
              "<style scoped>\n",
              "    .dataframe tbody tr th:only-of-type {\n",
              "        vertical-align: middle;\n",
              "    }\n",
              "\n",
              "    .dataframe tbody tr th {\n",
              "        vertical-align: top;\n",
              "    }\n",
              "\n",
              "    .dataframe thead th {\n",
              "        text-align: right;\n",
              "    }\n",
              "</style>\n",
              "<table border=\"1\" class=\"dataframe\">\n",
              "  <thead>\n",
              "    <tr style=\"text-align: right;\">\n",
              "      <th></th>\n",
              "      <th>text</th>\n",
              "      <th>label_</th>\n",
              "      <th>vector</th>\n",
              "    </tr>\n",
              "  </thead>\n",
              "  <tbody>\n",
              "    <tr>\n",
              "      <th>0</th>\n",
              "      <td>Daniel Greenfield, a Shillman Journalism Fello...</td>\n",
              "      <td>0</td>\n",
              "      <td>[0.024779696, 0.012828968, -0.00094372977, 0.0...</td>\n",
              "    </tr>\n",
              "    <tr>\n",
              "      <th>1</th>\n",
              "      <td>Google Pinterest Digg Linkedin Reddit Stumbleu...</td>\n",
              "      <td>0</td>\n",
              "      <td>[0.027095925, 0.010018359, -0.003129262, 0.026...</td>\n",
              "    </tr>\n",
              "    <tr>\n",
              "      <th>2</th>\n",
              "      <td>U.S. Secretary of State John F. Kerry said Mon...</td>\n",
              "      <td>1</td>\n",
              "      <td>[0.007654696, 0.017431496, 0.01465004, 0.02029...</td>\n",
              "    </tr>\n",
              "    <tr>\n",
              "      <th>3</th>\n",
              "      <td>— Kaydee King (@KaydeeKing) November 9, 2016 T...</td>\n",
              "      <td>0</td>\n",
              "      <td>[0.026231475, 0.0026343616, -0.004902629, 0.01...</td>\n",
              "    </tr>\n",
              "    <tr>\n",
              "      <th>4</th>\n",
              "      <td>It's primary day in New York and front-runners...</td>\n",
              "      <td>1</td>\n",
              "      <td>[0.017099572, 0.012396541, -0.0035264697, -0.0...</td>\n",
              "    </tr>\n",
              "  </tbody>\n",
              "</table>\n",
              "</div>\n",
              "      <button class=\"colab-df-convert\" onclick=\"convertToInteractive('df-9c43af32-26d1-42ae-8ee0-9eb75e142291')\"\n",
              "              title=\"Convert this dataframe to an interactive table.\"\n",
              "              style=\"display:none;\">\n",
              "        \n",
              "  <svg xmlns=\"http://www.w3.org/2000/svg\" height=\"24px\"viewBox=\"0 0 24 24\"\n",
              "       width=\"24px\">\n",
              "    <path d=\"M0 0h24v24H0V0z\" fill=\"none\"/>\n",
              "    <path d=\"M18.56 5.44l.94 2.06.94-2.06 2.06-.94-2.06-.94-.94-2.06-.94 2.06-2.06.94zm-11 1L8.5 8.5l.94-2.06 2.06-.94-2.06-.94L8.5 2.5l-.94 2.06-2.06.94zm10 10l.94 2.06.94-2.06 2.06-.94-2.06-.94-.94-2.06-.94 2.06-2.06.94z\"/><path d=\"M17.41 7.96l-1.37-1.37c-.4-.4-.92-.59-1.43-.59-.52 0-1.04.2-1.43.59L10.3 9.45l-7.72 7.72c-.78.78-.78 2.05 0 2.83L4 21.41c.39.39.9.59 1.41.59.51 0 1.02-.2 1.41-.59l7.78-7.78 2.81-2.81c.8-.78.8-2.07 0-2.86zM5.41 20L4 18.59l7.72-7.72 1.47 1.35L5.41 20z\"/>\n",
              "  </svg>\n",
              "      </button>\n",
              "      \n",
              "  <style>\n",
              "    .colab-df-container {\n",
              "      display:flex;\n",
              "      flex-wrap:wrap;\n",
              "      gap: 12px;\n",
              "    }\n",
              "\n",
              "    .colab-df-convert {\n",
              "      background-color: #E8F0FE;\n",
              "      border: none;\n",
              "      border-radius: 50%;\n",
              "      cursor: pointer;\n",
              "      display: none;\n",
              "      fill: #1967D2;\n",
              "      height: 32px;\n",
              "      padding: 0 0 0 0;\n",
              "      width: 32px;\n",
              "    }\n",
              "\n",
              "    .colab-df-convert:hover {\n",
              "      background-color: #E2EBFA;\n",
              "      box-shadow: 0px 1px 2px rgba(60, 64, 67, 0.3), 0px 1px 3px 1px rgba(60, 64, 67, 0.15);\n",
              "      fill: #174EA6;\n",
              "    }\n",
              "\n",
              "    [theme=dark] .colab-df-convert {\n",
              "      background-color: #3B4455;\n",
              "      fill: #D2E3FC;\n",
              "    }\n",
              "\n",
              "    [theme=dark] .colab-df-convert:hover {\n",
              "      background-color: #434B5C;\n",
              "      box-shadow: 0px 1px 3px 1px rgba(0, 0, 0, 0.15);\n",
              "      filter: drop-shadow(0px 1px 2px rgba(0, 0, 0, 0.3));\n",
              "      fill: #FFFFFF;\n",
              "    }\n",
              "  </style>\n",
              "\n",
              "      <script>\n",
              "        const buttonEl =\n",
              "          document.querySelector('#df-9c43af32-26d1-42ae-8ee0-9eb75e142291 button.colab-df-convert');\n",
              "        buttonEl.style.display =\n",
              "          google.colab.kernel.accessAllowed ? 'block' : 'none';\n",
              "\n",
              "        async function convertToInteractive(key) {\n",
              "          const element = document.querySelector('#df-9c43af32-26d1-42ae-8ee0-9eb75e142291');\n",
              "          const dataTable =\n",
              "            await google.colab.kernel.invokeFunction('convertToInteractive',\n",
              "                                                     [key], {});\n",
              "          if (!dataTable) return;\n",
              "\n",
              "          const docLinkHtml = 'Like what you see? Visit the ' +\n",
              "            '<a target=\"_blank\" href=https://colab.research.google.com/notebooks/data_table.ipynb>data table notebook</a>'\n",
              "            + ' to learn more about interactive tables.';\n",
              "          element.innerHTML = '';\n",
              "          dataTable['output_type'] = 'display_data';\n",
              "          await google.colab.output.renderOutput(dataTable, element);\n",
              "          const docLink = document.createElement('div');\n",
              "          docLink.innerHTML = docLinkHtml;\n",
              "          element.appendChild(docLink);\n",
              "        }\n",
              "      </script>\n",
              "    </div>\n",
              "  </div>\n",
              "  "
            ]
          },
          "metadata": {},
          "execution_count": 72
        }
      ]
    },
    {
      "cell_type": "code",
      "source": [
        "from sklearn.model_selection import train_test_split\n",
        "X_train, X_test, y_train, y_test = train_test_split(\n",
        "    df_final.vector.values, \n",
        "    df_final.label_, \n",
        "    test_size=0.2,\n",
        "    random_state=51,\n",
        "    stratify=df_final.label_\n",
        ")"
      ],
      "metadata": {
        "id": "J3wxJfLfIMq5"
      },
      "execution_count": null,
      "outputs": []
    },
    {
      "cell_type": "code",
      "source": [
        "X_train_2d = np.stack(X_train)\n",
        "X_test_2d =  np.stack(X_test)"
      ],
      "metadata": {
        "id": "mKhO4YpVIauJ"
      },
      "execution_count": null,
      "outputs": []
    },
    {
      "cell_type": "code",
      "source": [
        "from sklearn.ensemble import GradientBoostingClassifier\n",
        "from sklearn.metrics import classification_report\n",
        "clf = GradientBoostingClassifier()\n",
        "clf.fit(X_train_2d, y_train)\n",
        "y_pred = clf.predict(X_test_2d)\n",
        "print(classification_report(y_test, y_pred))"
      ],
      "metadata": {
        "colab": {
          "base_uri": "https://localhost:8080/"
        },
        "id": "fvGE5gdiIevO",
        "outputId": "21e6337d-65ae-4add-cd6f-f0e6c2090c2c"
      },
      "execution_count": null,
      "outputs": [
        {
          "output_type": "stream",
          "name": "stdout",
          "text": [
            "              precision    recall  f1-score   support\n",
            "\n",
            "           0       0.86      0.88      0.87       633\n",
            "           1       0.88      0.86      0.87       634\n",
            "\n",
            "    accuracy                           0.87      1267\n",
            "   macro avg       0.87      0.87      0.87      1267\n",
            "weighted avg       0.87      0.87      0.87      1267\n",
            "\n"
          ]
        }
      ]
    },
    {
      "cell_type": "code",
      "source": [
        "test_news = [\n",
        "    \"Michigan governor denies misleading U.S. House on Flint water (Reuters) - Michigan Governor Rick Snyder denied Thursday that he had misled a U.S. House of Representatives committee last year over testimony on Flintâ€™s water crisis after lawmakers asked if his testimony had been contradicted by a witness in a court hearing. The House Oversight and Government Reform Committee wrote Snyder earlier Thursday asking him about published reports that one of his aides, Harvey Hollins, testified in a court hearing last week in Michigan that he had notified Snyder of an outbreak of Legionnairesâ€™ disease linked to the Flint water crisis in December 2015, rather than 2016 as Snyder had testified. â€œMy testimony was truthful and I stand by it,â€ Snyder told the committee in a letter, adding that his office has provided tens of thousands of pages of records to the committee and would continue to cooperate fully.  Last week, prosecutors in Michigan said Dr. Eden Wells, the stateâ€™s chief medical executive who already faced lesser charges, would become the sixth current or former official to face involuntary manslaughter charges in connection with the crisis. The charges stem from more than 80 cases of Legionnairesâ€™ disease and at least 12 deaths that were believed to be linked to the water in Flint after the city switched its source from Lake Huron to the Flint River in April 2014. Wells was among six current and former Michigan and Flint officials charged in June. The other five, including Michigan Health and Human Services Director Nick Lyon, were charged at the time with involuntary manslaughter\",\n",
        "    \" WATCH: Fox News Host Loses Her Sh*t, Says Investigating Russia For Hacking Our Election Is Unpatriotic This woman is insane.In an incredibly disrespectful rant against President Obama and anyone else who supports investigating Russian interference in our election, Fox News host Jeanine Pirro said that anybody who is against Donald Trump is anti-American. Look, it s time to take sides,  she began.\",\n",
        "    \" Sarah Palin Celebrates After White Man Who Pulled Gun On Black Protesters Goes Unpunished (VIDEO) Sarah Palin, one of the nigh-innumerable  deplorables  in Donald Trump s  basket,  almost outdid herself in terms of horribleness on Friday.\"\n",
        "]\n",
        "\n",
        "test_news_vectors = [preprocess_and_vec(n) for n in test_news]\n",
        "clf.predict(test_news_vectors)"
      ],
      "metadata": {
        "colab": {
          "base_uri": "https://localhost:8080/"
        },
        "id": "MyZ2gf0_IhY3",
        "outputId": "b0d162ef-d16c-401e-c71a-a57fd42e39d2"
      },
      "execution_count": null,
      "outputs": [
        {
          "output_type": "execute_result",
          "data": {
            "text/plain": [
              "array([1, 0, 0])"
            ]
          },
          "metadata": {},
          "execution_count": 76
        }
      ]
    },
    {
      "cell_type": "code",
      "source": [
        "from sklearn.metrics import confusion_matrix\n",
        "cm = confusion_matrix(y_test, y_pred)\n",
        "cm\n",
        "\n",
        "from matplotlib import pyplot as plt\n",
        "import seaborn as sn\n",
        "plt.figure(figsize = (10,7))\n",
        "sn.heatmap(cm, annot=True, fmt='d')\n",
        "plt.xlabel('Prediction')\n",
        "plt.ylabel('Truth')"
      ],
      "metadata": {
        "colab": {
          "base_uri": "https://localhost:8080/",
          "height": 596
        },
        "id": "2DWYYadQIxwF",
        "outputId": "b1ed4acf-c22f-458a-836e-55cc46049ef7"
      },
      "execution_count": null,
      "outputs": [
        {
          "output_type": "execute_result",
          "data": {
            "text/plain": [
              "Text(95.72222222222221, 0.5, 'Truth')"
            ]
          },
          "metadata": {},
          "execution_count": 78
        },
        {
          "output_type": "display_data",
          "data": {
            "text/plain": [
              "<Figure size 1000x700 with 2 Axes>"
            ],
            "image/png": "[encoded data removed]"
          },
          "metadata": {}
        }
      ]
    },
    {
      "cell_type": "markdown",
      "source": [
        "# ***fastText***"
      ],
      "metadata": {
        "id": "UClQrPWhJaoD"
      }
    },
    {
      "cell_type": "code",
      "source": [
        "# units on which neural net is trained is CHARACTER n GRAM\n",
        "# out of voc tackled to some extent -> portions of word already seen\n",
        "# often a first choice when you want to train custom word embeddings for your domain -> solid baseline at less cost (less gpu consumed)\n",
        "# fastTest is a technique (similar to word2vec) as well as a library \n",
        "\n",
        "# any NLP -> fastText"
      ],
      "metadata": {
        "id": "dTu6TN2tI1nU"
      },
      "execution_count": null,
      "outputs": []
    },
    {
      "cell_type": "code",
      "source": [
        "# download 4gb model of english \n",
        "# model_en = fasttext.load_model(\"path\")\n",
        "# fasttest.train_unsurpised(\"sdsd.txt\")\n",
        " "
      ],
      "metadata": {
        "id": "2ykRSTLfKF8_"
      },
      "execution_count": null,
      "outputs": []
    }
  ]
}