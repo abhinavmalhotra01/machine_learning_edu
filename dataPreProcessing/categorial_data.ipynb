{
 "cells": [
  {
   "cell_type": "code",
   "execution_count": null,
   "metadata": {},
   "outputs": [],
   "source": []
  }
 ],
 "metadata": {
  "kernelspec": {
   "display_name": "Python 3",
   "language": "python",
   "name": "python3"
  },
  "language_info": {
   "name": "python",
   "version": "3.9.0 (tags/v3.9.0:9cf6752, Oct  5 2020, 15:34:40) [MSC v.1927 64 bit (AMD64)]"
  },
  "orig_nbformat": 4,
  "vscode": {
   "interpreter": {
    "hash": "7e9c6c43a2713b6365dddc039236b89e1dd7cbd434e42d06f7d1b4b9f30b320b"
   }
  }
 },
 "nbformat": 4,
 "nbformat_minor": 2
}
